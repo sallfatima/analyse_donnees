{
 "cells": [
  {
   "cell_type": "markdown",
   "id": "416e7eaf",
   "metadata": {},
   "source": [
    "# Introduction à [NumPy](https://www.python-simple.com/python-numpy/creation-numpy.php)\n",
    "\n",
    "## 1-Pourquoi NumPy ?\n",
    "\n",
    "Le data analyste est confronté à des ensembles de données complexes et massifs. Les structures de données natives de Python, comme les listes, peuvent être limitées pour manipuler efficacement ces données.\n",
    "\n",
    "C'est là que NumPy entre en jeu.\n",
    "\n",
    "**NumPy**, abréviation de *Numerical Python*, est une bibliothèque essentielle en Python pour effectuer des opérations numériques sur des tableaux de données. Elle offre des fonctionnalités puissantes pour la manipulation de données et est largement utilisée dans le domaine de l'analyse des données et du machine learning.\n",
    "\n",
    "## 2-Qu'est-ce qu'un Array NumPy ?\n",
    "\n",
    "Un tableau NumPy, ou array, est une structure de données similaire à une liste Python, mais avec des avantages significatifs. La principale différence réside dans la capacité des arrays NumPy à effectuer des opérations complexes de manière efficace. Ils facilitent également le stockage et la manipulation des données.\n",
    "\n",
    "Par exemple, considérons le calcul de la moyenne d'un ensemble de données. Alors que dans une liste Python, vous devriez coder la fonction vous-même, NumPy offre une fonction existante:\n",
    "\n",
    "```python\n",
    "import numpy as np\n",
    "\n",
    "data = [1800, 1500, 2200, 3000, 2172]\n",
    "average = np.mean(data)\n"
   ]
  },
  {
   "cell_type": "markdown",
   "id": "f3c16c0d",
   "metadata": {},
   "source": [
    "NumPy simplifie ainsi de nombreuses opérations mathématiques et devient particulièrement puissant lorsque vous travaillez avec de grandes quantités de données."
   ]
  },
  {
   "cell_type": "markdown",
   "id": "66b428b3",
   "metadata": {},
   "source": [
    "## Différences clés entre Arrays NumPy et Listes Python\n",
    "\n",
    "- **Performance** : Les opérations avec les arrays NumPy sont environ 30 fois plus rapides que les listes Python, surtout avec des ensembles de données volumineux.\n",
    "\n",
    "- **Type unique** : Contrairement aux listes Python, les arrays NumPy ne peuvent contenir qu'un seul type de données. Cela permet une manipulation plus cohérente et des opérations plus rapides.\n",
    "\n",
    "- **Fonctions mathématiques** : NumPy offre une pléthore de fonctions mathématiques pour effectuer des opérations complexes sur les données.\n",
    "\n"
   ]
  },
  {
   "cell_type": "markdown",
   "id": "e026a645",
   "metadata": {},
   "source": [
    "\n",
    "\n",
    "\n",
    "## 3-Installation de NumPy\n",
    "\n",
    "Si vous avez installé Anaconda, alors NumPy est déjà installé sur votre système. Mais dans le cas contraire, tapez cette ligne de commande dans votre terminal :\n",
    "\n",
    "```bash\n",
    "pip install numpy\n",
    "```\n",
    "\n",
    "\n",
    "## 4-Utiliser la bibliothèque NumPy\n",
    "\n",
    "Pour utiliser la bibliothèque NumPy en Python, vous devez l'importer dans votre code. Voici comment le faire :\n",
    "\n",
    "```python\n",
    "import numpy as np\n",
    "\n",
    "\n",
    "```\n",
    "\n",
    "### 4-1-Création\n",
    "\n",
    "#### Création d'Arrays NumPy : à partir d'une Liste Python\n",
    "\n",
    "```python\n",
    "import numpy as np\n",
    "\n",
    "data = [1800, 1500, 2200, 3000, 2172]\n",
    "numpy_array = np.array(data)\n",
    "```"
   ]
  },
  {
   "cell_type": "markdown",
   "id": "a251b732",
   "metadata": {},
   "source": [
    "#### Fonctions NumPy couramment utilisées\n",
    "\n",
    "- **`np.zeros(n)`**: Crée un array rempli de zéros avec `n` éléments.\n",
    "\n",
    "- **`np.ones(n)`**: Crée un array rempli de uns avec `n` éléments.\n",
    "\n",
    "- **`np.arange(i, j, p)`**: Crée un array avec une séquence linéaire de `i` à `j` par pas de `p`.\n",
    "\n",
    "- **`np.linspace(i, j, n)`**: Crée un array de `n` valeurs espacées uniformément entre `i` et `j`.\n"
   ]
  },
  {
   "cell_type": "markdown",
   "id": "ec01d245",
   "metadata": {},
   "source": [
    "### 4-2- Dimensions\n",
    "\n",
    "Pour connaître la dimension d’un tableau, on peut afficher la valeur de l’attribut `ndim` :\n",
    "\n",
    "```python\n",
    "\n",
    "\n",
    "print(\"ndim tableau : \", numpy_array.ndim)\n",
    "\n",
    "```"
   ]
  },
  {
   "cell_type": "markdown",
   "id": "cf7419d4",
   "metadata": {},
   "source": [
    "Le nombre d’éléments dans le tableau peut s’obtenir par l’attribut size ou par la fonction `size()` de Numpy :\n",
    "```python\n",
    "print(\"size tableau : \", numpy_array.size)\n",
    "```"
   ]
  },
  {
   "cell_type": "markdown",
   "id": "e8d03d39",
   "metadata": {},
   "source": [
    "L’attribut shape retourne un n-uplet indiquant la longueur pour chaque dimension du tableau :\n",
    "```python\n",
    "print(\"size tableau : \", numpy_array.shape)\n",
    "\n",
    "\n",
    "```"
   ]
  },
  {
   "cell_type": "markdown",
   "id": "94e03b2e",
   "metadata": {},
   "source": [
    "### 4-3-Sélection d'Éléments dans un Array NumPy\n",
    "\n",
    "\n",
    "#### Accès au premier élément :\n",
    "\n",
    "```python\n",
    "numpy_array[0]  # Accès au troisième élément\n",
    "```\n",
    "\n",
    "\n",
    "\n",
    "#### Accès au dernier élément :\n",
    "\n",
    "```python\n",
    "numpy_array[2]  # Accès au troisième élément\n",
    "```\n",
    "\n",
    "\n",
    "\n",
    "#### Accès à un seul élément :\n",
    "\n",
    "```python\n",
    "numpy_array[2]  # Accès au troisième élément\n",
    "```\n",
    "\n",
    "\n",
    "#### Accès à plusieurs éléments contigus :\n",
    "```python\n",
    "numpy_array[1:4]  # Sélectionne les éléments de l'indice 1 à 3\n",
    "```\n",
    "#### Accès à plusieurs éléments selon une condition :\n",
    "```python\n",
    "numpy_array[numpy_array > 2000]  # Sélectionne les valeurs supérieures à 2000\n",
    "```\n",
    "\n",
    "#### Accès à l’aide de booléens\n",
    "\n",
    "Pour extraire ou non des éléments d’un tableu, on peut utiliser des tableaux de booléens en tant que masques. L’idée est de fournir un tableau de booléens (un masque) de même dimension que celui pour lequel on désire extraire des éléments sous certaines conditions. Lorsque la valeur du booléen dans le masque vaut True, l’élément correspondant du tableau est retourné ; sinon, il ne l’est pas.\n",
    "\n",
    "```python\n",
    "tableau = np.array([0, 3, 2, 5, 1, 4])\n",
    "res = tableau[[True, False, True, False, True, True]]\n",
    "print(res)\n",
    "\n",
    "``` \n"
   ]
  },
  {
   "cell_type": "markdown",
   "id": "8685527e",
   "metadata": {},
   "source": [
    "### 4-4-Modification\n",
    "\n",
    "#### Remplacement d'Éléments\n",
    "Pour remplacer les valeurs d'un tableau, on utilise le signe égal (=) :\n",
    "\n",
    "```python\n",
    "tableau = np.array([[1, 2, 3], [4, 5, 6], [7, 8, 9], [10, 11, 12]])\n",
    "tableau[0] = [11, 22, 33]\n",
    "print(tableau)\n",
    "```"
   ]
  },
  {
   "cell_type": "code",
   "execution_count": 4,
   "id": "09e23e8f",
   "metadata": {},
   "outputs": [
    {
     "name": "stdout",
     "output_type": "stream",
     "text": [
      "[[11 22 33]\n",
      " [ 4  5  6]\n",
      " [ 7  8  9]\n",
      " [10 11 12]]\n"
     ]
    }
   ],
   "source": [
    "tableau = np.array([[1, 2, 3], [4, 5, 6], [7, 8, 9], [10, 11, 12]])\n",
    "tableau[0] = [11, 22, 33]\n",
    "print(tableau)"
   ]
  },
  {
   "cell_type": "markdown",
   "id": "9261faa5",
   "metadata": {},
   "source": [
    "Si on fournit un scalaire lors du remplacement, la valeur sera répétée pour tous les éléments de la dimension :"
   ]
  },
  {
   "cell_type": "code",
   "execution_count": 5,
   "id": "d40d4713",
   "metadata": {},
   "outputs": [
    {
     "name": "stdout",
     "output_type": "stream",
     "text": [
      "[[100 100 100]\n",
      " [  4   5   6]\n",
      " [  7   8   9]\n",
      " [ 10  11  12]]\n"
     ]
    }
   ],
   "source": [
    "tableau[0] = 100\n",
    "print(tableau)"
   ]
  },
  {
   "cell_type": "markdown",
   "id": "4920b9a3",
   "metadata": {},
   "source": [
    "\n"
   ]
  },
  {
   "cell_type": "markdown",
   "id": "15d7d36e",
   "metadata": {},
   "source": [
    "#### Ajout d'Éléments\n",
    "Pour ajouter des éléments, on utilise la fonction `append()` de NumPy. Il est important de noter que l'appel à cette fonction ne modifie pas l'objet d'origine. Si on souhaite que les modifications soient apportées à cet objet, il faut le réaffecter\n",
    "\n"
   ]
  },
  {
   "cell_type": "code",
   "execution_count": 6,
   "id": "931b0c2a",
   "metadata": {},
   "outputs": [
    {
     "name": "stdout",
     "output_type": "stream",
     "text": [
      "t_1 :  [1 3 5]\n",
      "t_1 après l'ajout :  [1 3 5 1]\n"
     ]
    }
   ],
   "source": [
    "t_1 = np.array([1, 3, 5])\n",
    "print(\"t_1 : \", t_1)\n",
    "t_1 = np.append(t_1, 1)\n",
    "print(\"t_1 après l'ajout : \", t_1)"
   ]
  },
  {
   "cell_type": "markdown",
   "id": "3a97e761",
   "metadata": {},
   "source": [
    "####  Suppression d'Éléments\n",
    "Pour supprimer des éléments, on utilise la fonction delete() de NumPy :\n",
    "\n",
    "\n"
   ]
  },
  {
   "cell_type": "code",
   "execution_count": 8,
   "id": "f03e919e",
   "metadata": {},
   "outputs": [
    {
     "name": "stdout",
     "output_type": "stream",
     "text": [
      "t_1 :  [1 3 5 1]\n"
     ]
    },
    {
     "data": {
      "text/plain": [
       "array([1, 3, 5])"
      ]
     },
     "execution_count": 8,
     "metadata": {},
     "output_type": "execute_result"
    }
   ],
   "source": [
    "print(\"t_1 : \", t_1)\n",
    "np.delete(t_1, (-1))\n"
   ]
  },
  {
   "cell_type": "markdown",
   "id": "76ef3069",
   "metadata": {},
   "source": [
    "Note : pour que la suppression soit effective, on assigne le résultat de np.delete() à l’objet.\n"
   ]
  },
  {
   "cell_type": "markdown",
   "id": "59198534",
   "metadata": {},
   "source": [
    "\n",
    "#### Comment changer la forme du tableau NumPy ?\n",
    "\n",
    "Vous pouvez donner une autre forme à votre tableau sans modifier les données qu’il comporte, et cela grâce à la méthode `np.reshape()`.\n"
   ]
  },
  {
   "cell_type": "code",
   "execution_count": 7,
   "id": "37db4da7",
   "metadata": {},
   "outputs": [
    {
     "name": "stdout",
     "output_type": "stream",
     "text": [
      "Forme initiale : \n",
      " [ 3  6  9 12]\n",
      "[[ 3  6]\n",
      " [ 9 12]]\n"
     ]
    }
   ],
   "source": [
    "import numpy as np\n",
    "\n",
    "a = np.array([3, 6, 9, 12])\n",
    "print('Forme initiale :', '\\n', a)\n",
    "\n",
    "reshaped_array = np.reshape(a, (2, 2))\n",
    "print(reshaped_array)\n"
   ]
  },
  {
   "cell_type": "markdown",
   "id": "e68ed1b3",
   "metadata": {},
   "source": [
    "#### Aplatir un tableau NumPy\n",
    "\n",
    "Il arrive parfois que vous vouliez réduire un tableau multidimensionnel à un tableau à une seule dimension. Pour cela, vous pouvez utiliser les méthodes `flatten()` et `ravel()`.\n",
    "\n",
    "```python\n",
    "import numpy as np\n",
    "\n",
    "# Exemple d'utilisation de flatten()\n",
    "array_2d = np.array([[1, 2, 3], [4, 5, 6]])\n",
    "flattened_array = array_2d.flatten()\n",
    "\n",
    "# Exemple d'utilisation de ravel()\n",
    "array_2d = np.array([[1, 2, 3], [4, 5, 6]])\n",
    "raveled_array = array_2d.ravel()\n"
   ]
  },
  {
   "cell_type": "markdown",
   "id": "bbc2f84f",
   "metadata": {},
   "source": [
    "### 4-6-Opérations sur les Tableaux en NumPy\n",
    "\n",
    "#### Opérateurs + et -\n",
    "Lorsque l'opérateur + (-) est utilisé entre deux tableaux de même dimension, une addition (soustraction) terme à terme est effectuée :"
   ]
  },
  {
   "cell_type": "code",
   "execution_count": 10,
   "id": "e62c2f25",
   "metadata": {},
   "outputs": [
    {
     "name": "stdout",
     "output_type": "stream",
     "text": [
      "[ 6  8 10 12]\n",
      "[[14 16 18 20]\n",
      " [22 24 26 28]\n",
      " [30 32 34 36]]\n",
      "[-4 -4 -4 -4]\n"
     ]
    }
   ],
   "source": [
    "t_1 = np.array([1, 2, 3, 4])\n",
    "t_2 = np.array([5, 6, 7, 8])\n",
    "t_3 = np.array([[1, 2, 3, 4], [5, 6, 7, 8], [9, 10, 11, 12]])\n",
    "t_4 = np.array([[13, 14, 15, 16], [17, 18, 19, 20], [21, 22, 23, 24]])\n",
    "\n",
    "print(f\"{t_1 + t_2}\")\n",
    "print(f\"{t_3 + t_4}\")\n",
    "print(f\"{t_1 - t_2}\")\n"
   ]
  },
  {
   "cell_type": "markdown",
   "id": "d2aaf145",
   "metadata": {},
   "source": [
    "### 4-6-Méthodes [NumPy Utiles](https://www.python-simple.com/python-numpy/fonctions-numpy.php)\n",
    "\n",
    "```python\n",
    "numpy_array.mean()  # Calcul de la moyenne\n",
    "numpy_array.max()   # Valeur maximale\n",
    "numpy_array.min()   # Valeur minimale\n",
    "numpy_array.argmax()  # Indice de la valeur maximale\n",
    "numpy_array.argmin()  # Indice de la valeur minimale\n",
    "numpy_array.sort()   # Tri des éléments\n",
    "numpy_array.sum()    # Somme des éléments\n"
   ]
  },
  {
   "cell_type": "code",
   "execution_count": null,
   "id": "913d36bc",
   "metadata": {},
   "outputs": [],
   "source": []
  },
  {
   "cell_type": "markdown",
   "id": "1ea5cdb6",
   "metadata": {},
   "source": [
    "NumPy offre une multitude de méthodes pour manipuler et effectuer des opérations mathématiques sur les arrays. Vous pouvez explorer davantage ces fonctionnalités dans la documentation officielle de NumPy.\n",
    "\n",
    "### Conclusion\n",
    "En résumé, NumPy est un outil indispensable en analyse des données. Il vous permet d'effectuer des opérations numériques efficaces sur des ensembles de données massifs, facilitant ainsi votre travail en Master 2. Explorez les nombreuses fonctionnalités de NumPy et préparez-vous à plonger plus profondément dans la manipulation de données lors de votre parcours académique. Happy coding! 🚀\n"
   ]
  }
 ],
 "metadata": {
  "kernelspec": {
   "display_name": "Python 3 (ipykernel)",
   "language": "python",
   "name": "python3"
  },
  "language_info": {
   "codemirror_mode": {
    "name": "ipython",
    "version": 3
   },
   "file_extension": ".py",
   "mimetype": "text/x-python",
   "name": "python",
   "nbconvert_exporter": "python",
   "pygments_lexer": "ipython3",
   "version": "3.11.6"
  }
 },
 "nbformat": 4,
 "nbformat_minor": 5
}
