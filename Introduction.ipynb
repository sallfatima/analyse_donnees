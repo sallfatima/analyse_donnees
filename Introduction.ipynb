{
 "cells": [
  {
   "cell_type": "code",
   "execution_count": 1,
   "id": "aa905a3e",
   "metadata": {},
   "outputs": [
    {
     "data": {
      "text/html": [
       "<div id=\"my_id_menu_nb\">run previous cell, wait for 2 seconds</div>\n",
       "<script>\n",
       "function repeat_indent_string(n){\n",
       "    var a = \"\" ;\n",
       "    for ( ; n > 0 ; --n)\n",
       "        a += \"    \";\n",
       "    return a;\n",
       "}\n",
       "// look up into all sections and builds an automated menu //\n",
       "var update_menu_string = function(begin, lfirst, llast, sformat, send, keep_item, begin_format, end_format) {\n",
       "    var anchors = document.getElementsByClassName(\"section\");\n",
       "    if (anchors.length == 0) {\n",
       "        anchors = document.getElementsByClassName(\"text_cell_render rendered_html\");\n",
       "    }\n",
       "    var i,t;\n",
       "    var text_menu = begin;\n",
       "    var text_memo = \"<pre>\\nlength:\" + anchors.length + \"\\n\";\n",
       "    var ind = \"\";\n",
       "    var memo_level = 1;\n",
       "    var href;\n",
       "    var tags = [];\n",
       "    var main_item = 0;\n",
       "    var format_open = 0;\n",
       "    for (i = 0; i <= llast; i++)\n",
       "        tags.push(\"h\" + i);\n",
       "\n",
       "    for (i = 0; i < anchors.length; i++) {\n",
       "        text_memo += \"**\" + anchors[i].id + \"--\\n\";\n",
       "\n",
       "        var child = null;\n",
       "        for(t = 0; t < tags.length; t++) {\n",
       "            var r = anchors[i].getElementsByTagName(tags[t]);\n",
       "            if (r.length > 0) {\n",
       "child = r[0];\n",
       "break;\n",
       "            }\n",
       "        }\n",
       "        if (child == null) {\n",
       "            text_memo += \"null\\n\";\n",
       "            continue;\n",
       "        }\n",
       "        if (anchors[i].hasAttribute(\"id\")) {\n",
       "            // when converted in RST\n",
       "            href = anchors[i].id;\n",
       "            text_memo += \"#1-\" + href;\n",
       "            // passer à child suivant (le chercher)\n",
       "        }\n",
       "        else if (child.hasAttribute(\"id\")) {\n",
       "            // in a notebook\n",
       "            href = child.id;\n",
       "            text_memo += \"#2-\" + href;\n",
       "        }\n",
       "        else {\n",
       "            text_memo += \"#3-\" + \"*\" + \"\\n\";\n",
       "            continue;\n",
       "        }\n",
       "        var title = child.textContent;\n",
       "        var level = parseInt(child.tagName.substring(1,2));\n",
       "\n",
       "        text_memo += \"--\" + level + \"?\" + lfirst + \"--\" + title + \"\\n\";\n",
       "\n",
       "        if ((level < lfirst) || (level > llast)) {\n",
       "            continue ;\n",
       "        }\n",
       "        if (title.endsWith('¶')) {\n",
       "            title = title.substring(0,title.length-1).replace(\"<\", \"&lt;\")\n",
       "         .replace(\">\", \"&gt;\").replace(\"&\", \"&amp;\");\n",
       "        }\n",
       "        if (title.length == 0) {\n",
       "            continue;\n",
       "        }\n",
       "\n",
       "        while (level < memo_level) {\n",
       "            text_menu += end_format + \"</ul>\\n\";\n",
       "            format_open -= 1;\n",
       "            memo_level -= 1;\n",
       "        }\n",
       "        if (level == lfirst) {\n",
       "            main_item += 1;\n",
       "        }\n",
       "        if (keep_item != -1 && main_item != keep_item + 1) {\n",
       "            // alert(main_item + \" - \" + level + \" - \" + keep_item);\n",
       "            continue;\n",
       "        }\n",
       "        while (level > memo_level) {\n",
       "            text_menu += \"<ul>\\n\";\n",
       "            memo_level += 1;\n",
       "        }\n",
       "        text_menu += repeat_indent_string(level-2);\n",
       "        text_menu += begin_format + sformat.replace(\"__HREF__\", href).replace(\"__TITLE__\", title);\n",
       "        format_open += 1;\n",
       "    }\n",
       "    while (1 < memo_level) {\n",
       "        text_menu += end_format + \"</ul>\\n\";\n",
       "        memo_level -= 1;\n",
       "        format_open -= 1;\n",
       "    }\n",
       "    text_menu += send;\n",
       "    //text_menu += \"\\n\" + text_memo;\n",
       "\n",
       "    while (format_open > 0) {\n",
       "        text_menu += end_format;\n",
       "        format_open -= 1;\n",
       "    }\n",
       "    return text_menu;\n",
       "};\n",
       "var update_menu = function() {\n",
       "    var sbegin = \"\";\n",
       "    var sformat = '<a href=\"#__HREF__\">__TITLE__</a>';\n",
       "    var send = \"\";\n",
       "    var begin_format = '<li>';\n",
       "    var end_format = '</li>';\n",
       "    var keep_item = -1;\n",
       "    var text_menu = update_menu_string(sbegin, 2, 4, sformat, send, keep_item,\n",
       "       begin_format, end_format);\n",
       "    var menu = document.getElementById(\"my_id_menu_nb\");\n",
       "    menu.innerHTML=text_menu;\n",
       "};\n",
       "window.setTimeout(update_menu,2000);\n",
       "            </script>"
      ],
      "text/plain": [
       "<IPython.core.display.HTML object>"
      ]
     },
     "execution_count": 1,
     "metadata": {},
     "output_type": "execute_result"
    }
   ],
   "source": [
    "from jyquickhelper import add_notebook_menu\n",
    "add_notebook_menu()"
   ]
  },
  {
   "cell_type": "markdown",
   "id": "20476bd3",
   "metadata": {},
   "source": []
  },
  {
   "cell_type": "markdown",
   "id": "0b673bb0",
   "metadata": {},
   "source": [
    "## 1.1 C’est quoi Python ?\n",
    "\n"
   ]
  },
  {
   "cell_type": "markdown",
   "id": "5d9185a3",
   "metadata": {},
   "source": [
    "Le langage de programmation Python a été créé en 1989 par **Guido van Rossum**, un développeur néerlandais. L'origine du nom \"Python\" vient de son admiration pour la série télévisée \"Monty Python's Flying Circus\". La première version publique de Python a été rendue disponible en 1991.\n",
    "\n",
    "La dernière version majeure de Python est la version 3, avec la version \n",
    "[3.11.5](https://www.python.org/doc/versions/) sortie en aout 2023. Il est important de noter que la `version 2` de Python est désormais obsolète et n'est plus maintenue, il est donc fortement recommandé de ne pas l'utiliser.\n",
    "\n",
    "La Python Software Foundation est l'organisation responsable de la gestion et du développement de Python, ainsi que de la coordination de la communauté de développeurs et d'utilisateurs.\n",
    "\n",
    "Python présente de nombreuses caractéristiques attrayantes :\n",
    "\n",
    "- Il est **compatible avec de multiples plateformes**, fonctionnant sur divers systèmes d'exploitation tels que Windows, `Mac OS X`, `Linux`, `Android`, `iOS`, des mini-ordinateurs comme le `Raspberry` Pi aux supercalculateurs.\n",
    "\n",
    "- Il est **open source** et **gratuit**, permettant son installation sur autant d'ordinateurs que nécessaire.\n",
    "\n",
    "- Python est **un langage de haut niveau**, ce qui signifie qu'il est relativement simple à utiliser sans une connaissance approfondie du fonctionnement interne de l'ordinateur.\n",
    "\n",
    "- Il est **interprété**, ce qui signifie qu'un script Python peut être exécuté sans nécessiter de compilation préalable, contrairement à des langages comme le `C` ou le `C++`.\n",
    "\n",
    "- Python est **orienté objet**, ce qui permet de modéliser des entités du monde réel (par exemple, une cellule, une protéine, un atome) avec des règles de fonctionnement et d'interaction spécifiques.\n",
    "\n",
    "- Sa syntaxe est **relativement simple à comprendre**, ce qui en fait un excellent choix pour les débutants.\n",
    "\n"
   ]
  },
  {
   "cell_type": "markdown",
   "id": "aeb1ba19",
   "metadata": {},
   "source": [
    "## 1.2 Installation de Python \n",
    "\n",
    "   1. [ Anaconda Windows](https://docs.anaconda.com/free/anaconda/install/windows/)\n",
    "   2. [Anaconda macOS](https://docs.anaconda.com/free/anaconda/install/mac-os/)\n",
    "   3. [Pycharm](https://www.jetbrains.com/help/pycharm/installation-guide.html#silent )\n",
    "   4. [vscode](https://code.visualstudio.com/docs/languages/python)\n",
    "  \n"
   ]
  },
  {
   "cell_type": "markdown",
   "id": "03743716",
   "metadata": {},
   "source": [
    "\n",
    "\n",
    "## 1.3 Premier programme\n",
    "\n",
    "Félicitations, vous êtes sur le point de créer votre tout premier programme en Python ! Dans cette section, nous allons vous guider à travers les étapes de base pour écrire, exécuter et comprendre un programme Python simple.\n",
    "\n",
    "### 1.3.1 Affichage de \"Hello, World!\"\n",
    "\n",
    "Le \"Hello, World!\" est un programme classique que les débutants en programmation écrivent traditionnellement comme premier programme dans un nouveau langage. Il consiste simplement à afficher le message \"Hello, World!\" à l'écran. Voici comment le faire en Python :\n",
    "\n"
   ]
  },
  {
   "cell_type": "code",
   "execution_count": 2,
   "id": "805ef478",
   "metadata": {},
   "outputs": [
    {
     "name": "stdout",
     "output_type": "stream",
     "text": [
      "Hello, World!\n"
     ]
    }
   ],
   "source": [
    "print(\"Hello, World!\")"
   ]
  },
  {
   "cell_type": "markdown",
   "id": "1ffc06c2",
   "metadata": {},
   "source": [
    "### 1.3.2 Exécution du programme\n",
    "\n",
    "Pour exécuter ce programme, suivez ces étapes :\n",
    "\n",
    "1. Ouvrez votre éditeur de code Python préféré (comme VSCode, PyCharm ou simplement un éditeur de texte).\n",
    "2. Copiez le code `print(\"Hello, World!\")` dans l'éditeur.\n",
    "3. Enregistrez le fichier avec une extension \".py\" (par exemple, \"hello.py\").\n",
    "4. Ouvrez un terminal ou une invite de commande.\n",
    "5. Naviguez vers le répertoire où vous avez enregistré le fichier \"hello.py\".\n",
    "6. Exécutez le programme en tapant `python hello.py` et appuyez sur Entrée.\n",
    "\n",
    "**Vous devriez voir le message \"Hello, World!\" s'afficher à l'écran.**\n"
   ]
  },
  {
   "cell_type": "markdown",
   "id": "a8a14b1a",
   "metadata": {},
   "source": [
    "### 1.3.3 Comprendre le code\n",
    "\n",
    "- `print()` est une fonction intégrée à Python qui affiche du texte.\n",
    "- Le texte que vous affichez est appelé une \"chaîne de caractères\" ou \"string\" en anglais.\n",
    "- En Python, chaque instruction se termine par un retour à la ligne, vous n'avez donc pas besoin de point-virgule comme dans certains autres langages.\n",
    "\n",
    "Ce programme est un excellent point de départ pour comprendre les bases de Python. Vous avez maintenant écrit et exécuté votre premier programme Python ! Continuez à explorer les concepts de base et à écrire plus de code pour renforcer vos compétences en programmation.\n",
    "\n",
    "\n"
   ]
  },
  {
   "cell_type": "markdown",
   "id": "276a6f88",
   "metadata": {},
   "source": [
    "## 1.4 Commentaires\n",
    "\n",
    "\n",
    "Les commentaires sont une partie essentielle de la programmation en Python (et dans la plupart des langages de programmation). Ils permettent aux programmeurs d'ajouter des explications et des notes dans leur code source pour eux-mêmes et pour d'autres développeurs qui pourraient travailler sur le même projet. Les commentaires sont ignorés par l'interpréteur Python lors de l'exécution du programme, ils ne sont là que pour la documentation.\n",
    "\n",
    "### Comment écrire des commentaires en Python\n",
    "\n",
    "En Python, vous pouvez ajouter des commentaires de deux manières principales :\n",
    "\n",
    "#### Commentaires sur une seule ligne\n",
    "\n",
    "Les commentaires sur une seule ligne sont créés en plaçant un hashtag (`#`) suivi du texte du commentaire. Tout ce qui suit le hashtag sur la même ligne est considéré comme un commentaire.\n",
    "\n",
    "Exemple :\n",
    "```python\n",
    "# Ceci est un commentaire sur une seule ligne\n",
    "variable = 42  # Vous pouvez également ajouter un commentaire à la fin d'une ligne de code\n"
   ]
  },
  {
   "cell_type": "markdown",
   "id": "ab656caf",
   "metadata": {},
   "source": [
    "## 1.5 Notion de bloc d’instructions et d’indentation\n",
    "\n",
    "\n",
    "\n",
    "En Python, contrairement à certains autres langages de programmation qui utilisent des accolades `{}` ou des mots-clés comme `begin` et `end` pour délimiter les blocs de code, l'indentation est utilisée pour indiquer la structure du code. Cela signifie que l'espacement et la mise en retrait du code sont cruciaux pour définir les blocs d'instructions.\n",
    "\n",
    "### 1.5.1 Structure basée sur l'indentation\n",
    "\n",
    "Un bloc d'instructions en Python est défini par une indentation uniforme. Toutes les lignes de code à l'intérieur du même bloc doivent avoir la même quantité d'espaces ou de tabulations en début de ligne.\n",
    "\n",
    "Exemple :\n",
    "```python\n",
    "if condition:\n",
    "    # Ceci est à l'intérieur du bloc if\n",
    "    instruction1\n",
    "    instruction2\n",
    "# Ceci est en dehors du bloc if\n",
    "instruction3\n",
    "\n"
   ]
  },
  {
   "cell_type": "markdown",
   "id": "6b2cf64b",
   "metadata": {},
   "source": [
    "\n",
    "Dans cet exemple, les instructions `instruction1` et `instruction2` sont à lintérieur du bloc `if`, car elles sont indentées avec la même quantité d'espaces. `instruction3` est en dehors du bloc `if` car elle n'est pas indentée de la même manière."
   ]
  },
  {
   "cell_type": "markdown",
   "id": "b49fa622",
   "metadata": {},
   "source": [
    "### 1.5.2 L'importance de l'indentation\n",
    "\n",
    "L'utilisation correcte de l'indentation est essentielle en Python pour que le code fonctionne comme prévu. Une indentation incorrecte peut entraîner des erreurs de syntaxe ou modifier la logique du programme de manière inattendue.\n",
    "\n",
    "La norme de facto dans la communauté Python est d'utiliser une indentation de quatre espaces pour chaque niveau de bloc. Il est recommandé de ne pas mélanger les espaces et les tabulations pour l'indentation, car cela peut causer des problèmes.\n",
    "\n",
    "### 1.5.3 Blocs d'instructions courants\n",
    "\n",
    "Les blocs d'instructions sont couramment utilisés dans des structures telles que les boucles (`for` et `while`), les structures conditionnelles (`if`, `elif`, `else`), les fonctions et les classes. Vous les rencontrerez fréquemment lorsque vous développerez des programmes en Python.\n",
    "\n",
    "En résumé, la notion de bloc d'instructions et d'indentation est fondamentale en Python pour délimiter la structure du code. Assurez-vous de respecter les règles d'indentation pour éviter des problèmes de syntaxe et garantir le bon fonctionnement de vos programmes.\n"
   ]
  },
  {
   "cell_type": "markdown",
   "id": "d07b289b",
   "metadata": {},
   "source": [
    "Dans la prochaine section, nous examinerons les variables et comment les utiliser pour stocker et manipuler des données.Dans la prochaine section, nous examinerons les variables et comment les utiliser pour stocker et manipuler des données."
   ]
  }
 ],
 "metadata": {
  "kernelspec": {
   "display_name": "Python 3 (ipykernel)",
   "language": "python",
   "name": "python3"
  },
  "language_info": {
   "codemirror_mode": {
    "name": "ipython",
    "version": 3
   },
   "file_extension": ".py",
   "mimetype": "text/x-python",
   "name": "python",
   "nbconvert_exporter": "python",
   "pygments_lexer": "ipython3",
   "version": "3.11.6"
  }
 },
 "nbformat": 4,
 "nbformat_minor": 5
}
