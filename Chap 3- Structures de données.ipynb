{
 "cells": [
  {
   "cell_type": "code",
   "execution_count": 51,
   "id": "e985f6d1",
   "metadata": {},
   "outputs": [
    {
     "data": {
      "text/html": [
       "<div id=\"my_id_menu_nb\">run previous cell, wait for 2 seconds</div>\n",
       "<script>\n",
       "function repeat_indent_string(n){\n",
       "    var a = \"\" ;\n",
       "    for ( ; n > 0 ; --n)\n",
       "        a += \"    \";\n",
       "    return a;\n",
       "}\n",
       "// look up into all sections and builds an automated menu //\n",
       "var update_menu_string = function(begin, lfirst, llast, sformat, send, keep_item, begin_format, end_format) {\n",
       "    var anchors = document.getElementsByClassName(\"section\");\n",
       "    if (anchors.length == 0) {\n",
       "        anchors = document.getElementsByClassName(\"text_cell_render rendered_html\");\n",
       "    }\n",
       "    var i,t;\n",
       "    var text_menu = begin;\n",
       "    var text_memo = \"<pre>\\nlength:\" + anchors.length + \"\\n\";\n",
       "    var ind = \"\";\n",
       "    var memo_level = 1;\n",
       "    var href;\n",
       "    var tags = [];\n",
       "    var main_item = 0;\n",
       "    var format_open = 0;\n",
       "    for (i = 0; i <= llast; i++)\n",
       "        tags.push(\"h\" + i);\n",
       "\n",
       "    for (i = 0; i < anchors.length; i++) {\n",
       "        text_memo += \"**\" + anchors[i].id + \"--\\n\";\n",
       "\n",
       "        var child = null;\n",
       "        for(t = 0; t < tags.length; t++) {\n",
       "            var r = anchors[i].getElementsByTagName(tags[t]);\n",
       "            if (r.length > 0) {\n",
       "child = r[0];\n",
       "break;\n",
       "            }\n",
       "        }\n",
       "        if (child == null) {\n",
       "            text_memo += \"null\\n\";\n",
       "            continue;\n",
       "        }\n",
       "        if (anchors[i].hasAttribute(\"id\")) {\n",
       "            // when converted in RST\n",
       "            href = anchors[i].id;\n",
       "            text_memo += \"#1-\" + href;\n",
       "            // passer à child suivant (le chercher)\n",
       "        }\n",
       "        else if (child.hasAttribute(\"id\")) {\n",
       "            // in a notebook\n",
       "            href = child.id;\n",
       "            text_memo += \"#2-\" + href;\n",
       "        }\n",
       "        else {\n",
       "            text_memo += \"#3-\" + \"*\" + \"\\n\";\n",
       "            continue;\n",
       "        }\n",
       "        var title = child.textContent;\n",
       "        var level = parseInt(child.tagName.substring(1,2));\n",
       "\n",
       "        text_memo += \"--\" + level + \"?\" + lfirst + \"--\" + title + \"\\n\";\n",
       "\n",
       "        if ((level < lfirst) || (level > llast)) {\n",
       "            continue ;\n",
       "        }\n",
       "        if (title.endsWith('¶')) {\n",
       "            title = title.substring(0,title.length-1).replace(\"<\", \"&lt;\")\n",
       "         .replace(\">\", \"&gt;\").replace(\"&\", \"&amp;\");\n",
       "        }\n",
       "        if (title.length == 0) {\n",
       "            continue;\n",
       "        }\n",
       "\n",
       "        while (level < memo_level) {\n",
       "            text_menu += end_format + \"</ul>\\n\";\n",
       "            format_open -= 1;\n",
       "            memo_level -= 1;\n",
       "        }\n",
       "        if (level == lfirst) {\n",
       "            main_item += 1;\n",
       "        }\n",
       "        if (keep_item != -1 && main_item != keep_item + 1) {\n",
       "            // alert(main_item + \" - \" + level + \" - \" + keep_item);\n",
       "            continue;\n",
       "        }\n",
       "        while (level > memo_level) {\n",
       "            text_menu += \"<ul>\\n\";\n",
       "            memo_level += 1;\n",
       "        }\n",
       "        text_menu += repeat_indent_string(level-2);\n",
       "        text_menu += begin_format + sformat.replace(\"__HREF__\", href).replace(\"__TITLE__\", title);\n",
       "        format_open += 1;\n",
       "    }\n",
       "    while (1 < memo_level) {\n",
       "        text_menu += end_format + \"</ul>\\n\";\n",
       "        memo_level -= 1;\n",
       "        format_open -= 1;\n",
       "    }\n",
       "    text_menu += send;\n",
       "    //text_menu += \"\\n\" + text_memo;\n",
       "\n",
       "    while (format_open > 0) {\n",
       "        text_menu += end_format;\n",
       "        format_open -= 1;\n",
       "    }\n",
       "    return text_menu;\n",
       "};\n",
       "var update_menu = function() {\n",
       "    var sbegin = \"\";\n",
       "    var sformat = '<a href=\"#__HREF__\">__TITLE__</a>';\n",
       "    var send = \"\";\n",
       "    var begin_format = '<li>';\n",
       "    var end_format = '</li>';\n",
       "    var keep_item = -1;\n",
       "    var text_menu = update_menu_string(sbegin, 2, 4, sformat, send, keep_item,\n",
       "       begin_format, end_format);\n",
       "    var menu = document.getElementById(\"my_id_menu_nb\");\n",
       "    menu.innerHTML=text_menu;\n",
       "};\n",
       "window.setTimeout(update_menu,2000);\n",
       "            </script>"
      ],
      "text/plain": [
       "<IPython.core.display.HTML object>"
      ]
     },
     "execution_count": 51,
     "metadata": {},
     "output_type": "execute_result"
    }
   ],
   "source": [
    "from jyquickhelper import add_notebook_menu\n",
    "add_notebook_menu()"
   ]
  },
  {
   "cell_type": "markdown",
   "id": "806c8c3e",
   "metadata": {},
   "source": [
    "## 1 Listes\n",
    "\n",
    "Les listes sont une structure de données fondamentale en Python. Elles vous permettent de stocker une séquence de valeurs dans un ordre donné. Voici quelques informations essentielles sur les listes :\n",
    "\n",
    "###  Définition\n",
    "\n",
    "Une liste est une structure de données qui contient une série de valeurs. Ce qui rend les listes si flexibles en Python, c'est qu'elles peuvent contenir des valeurs de types différents. Vous déclarez une liste en plaçant des valeurs, séparées par des virgules, entre crochets. Voici quelques exemples :\n",
    "\n",
    "```python\n",
    "animaux = [\"girafe\", \"tigre\", \"singe\", \"souris\"]\n",
    "tailles = [5, 2.5, 1.75, 0.15]\n",
    "mixte = [\"girafe\", 5, \"souris\", 0.15]\n"
   ]
  },
  {
   "cell_type": "markdown",
   "id": "70f5b17e",
   "metadata": {},
   "source": [
    "Lorsque vous affichez une liste, Python la restitue dans l'ordre où les éléments ont été saisis.\n",
    "\n",
    "\n",
    "Un avantage majeur des listes est leur capacité à accéder à leurs éléments en utilisant des indices. Les indices commencent à 0 pour le premier élément, 1 pour le deuxième, et ainsi de suite. Par exemple :\n",
    "\n",
    "\n",
    "\n"
   ]
  },
  {
   "cell_type": "code",
   "execution_count": 31,
   "id": "57992682",
   "metadata": {},
   "outputs": [
    {
     "name": "stdout",
     "output_type": "stream",
     "text": [
      "girafe\n",
      "tigre\n",
      "souris\n"
     ]
    }
   ],
   "source": [
    "animaux = [\"girafe\", \"tigre\", \"singe\", \"souris\"]\n",
    "print(animaux[0])  # Affiche 'girafe'\n",
    "print(animaux[1])  # Affiche 'tigre'\n",
    "print(animaux[3])  # Affiche 'souris'\n"
   ]
  },
  {
   "cell_type": "markdown",
   "id": "8c6cbc53",
   "metadata": {},
   "source": [
    "N'oubliez pas que les indices commencent à 0 et se terminent à n-1 pour une liste de n éléments. L'accès à un indice en dehors de ces limites générera une erreur.\n",
    "\n",
    "### Opérations sur les listes\n",
    "\n",
    "Comme les chaînes de caractères, les listes prennent en charge l'opérateur de concaténation `+` et l'opérateur `*` pour la duplication. Par exemple :"
   ]
  },
  {
   "cell_type": "code",
   "execution_count": 32,
   "id": "fea78edf",
   "metadata": {},
   "outputs": [
    {
     "data": {
      "text/plain": [
       "['girafe', 'tigre', 'girafe', 'tigre', 'girafe', 'tigre']"
      ]
     },
     "execution_count": 32,
     "metadata": {},
     "output_type": "execute_result"
    }
   ],
   "source": [
    "ani1 = [\"girafe\", \"tigre\"]\n",
    "ani2 = [\"singe\", \"souris\"]\n",
    "ani1 + ani2  # Concaténation de listes\n",
    "# Résultat : ['girafe', 'tigre', 'singe', 'souris']\n",
    "\n",
    "ani1 * 3  # Duplication de liste\n",
    "# Résultat : ['girafe', 'tigre', 'girafe', 'tigre', 'girafe', 'tigre']\n"
   ]
  },
  {
   "cell_type": "markdown",
   "id": "b47ff299",
   "metadata": {},
   "source": [
    "L'opérateur `+` est particulièrement utile pour concaténer deux listes. Vous pouvez également utiliser la méthode `.append()` pour ajouter un élément à la fin d'une liste :\n"
   ]
  },
  {
   "cell_type": "code",
   "execution_count": 33,
   "id": "41c324cd",
   "metadata": {},
   "outputs": [],
   "source": [
    "a = []\n",
    "a.append(15)\n",
    "a.append(-5)\n",
    "a.append(13)\n",
    "# Maintenant, a contient [15, -5, 13]\n"
   ]
  },
  {
   "cell_type": "markdown",
   "id": "bf540ab8",
   "metadata": {},
   "source": [
    "### Indiçage négatif\n",
    "\n",
    "Vous pouvez utiliser des indices négatifs pour accéder aux éléments d'une liste depuis la fin. L'indice `-` représente le dernier élément, `-2` l'avant-dernier, et ainsi de suite. Par exemple :\n",
    "\n"
   ]
  },
  {
   "cell_type": "code",
   "execution_count": 34,
   "id": "03b3de6a",
   "metadata": {},
   "outputs": [
    {
     "name": "stdout",
     "output_type": "stream",
     "text": [
      "souris\n",
      "singe\n"
     ]
    }
   ],
   "source": [
    "animaux = [\"girafe\", \"tigre\", \"singe\", \"souris\"]\n",
    "print(animaux[-1])  # Affiche 'souris'\n",
    "print(animaux[-2])  # Affiche 'singe'\n"
   ]
  },
  {
   "cell_type": "markdown",
   "id": "ec920421",
   "metadata": {},
   "source": [
    "### Tranches\n",
    "Les tranches vous permettent de sélectionner une partie d'une liste en utilisant l'indice de début et de fin, séparés par `:`. Par exemple :"
   ]
  },
  {
   "cell_type": "code",
   "execution_count": 35,
   "id": "f0700495",
   "metadata": {},
   "outputs": [
    {
     "name": "stdout",
     "output_type": "stream",
     "text": [
      "['girafe', 'tigre']\n",
      "['tigre', 'singe']\n"
     ]
    }
   ],
   "source": [
    "animaux = [\"girafe\", \"tigre\", \"singe\", \"souris\"]\n",
    "print(animaux[0:2])  # Sélectionne les éléments 0 et 1\n",
    "# Résultat : ['girafe', 'tigre']\n",
    "\n",
    "print(animaux[1:3])  # Sélectionne les éléments 1 et 2\n",
    "# Résultat : ['tigre', 'singe']\n"
   ]
  },
  {
   "cell_type": "markdown",
   "id": "0aa533b2",
   "metadata": {},
   "source": [
    "Lorsque vous n'indiquez pas d'indice de début ou de fin, Python prend automatiquement le début ou la fin de la liste.\n",
    "\n",
    "### Fonction len()\n",
    "\n",
    "La fonction `len()` vous permet de connaître la longueur d'une liste, c'est-à-dire le nombre d'éléments qu'elle contient. Par exemple :"
   ]
  },
  {
   "cell_type": "code",
   "execution_count": 36,
   "id": "7b910612",
   "metadata": {},
   "outputs": [
    {
     "name": "stdout",
     "output_type": "stream",
     "text": [
      "4\n"
     ]
    }
   ],
   "source": [
    "animaux = [\"girafe\", \"tigre\", \"singe\", \"souris\"]\n",
    "print(len(animaux))  # Affiche 4\n"
   ]
  },
  {
   "cell_type": "markdown",
   "id": "aa59e641",
   "metadata": {},
   "source": [
    "### Les fonctions `min()`, `max()`, et `sum()`\n",
    "\n",
    "Les fonctions `min()`, `max()`, et `sum()` sont utilisées pour calculer respectivement le minimum, le maximum et la somme des éléments d'une liste. Par exemple "
   ]
  },
  {
   "cell_type": "code",
   "execution_count": 37,
   "id": "edb04e6b",
   "metadata": {},
   "outputs": [
    {
     "name": "stdout",
     "output_type": "stream",
     "text": [
      "45\n",
      "0\n",
      "9\n"
     ]
    }
   ],
   "source": [
    "liste = list(range(10))\n",
    "print(sum(liste))  # Somme des éléments de 0 à 9 : 45\n",
    "print(min(liste))  # Minimum des éléments de 0 à 9 : 0\n",
    "print(max(liste))  # Maximum des éléments de 0 à 9 : 9\n"
   ]
  },
  {
   "cell_type": "markdown",
   "id": "ea6556bd",
   "metadata": {},
   "source": [
    "## 2 Tuples\n",
    "\n",
    "Les tuples sont une autre structure de données en Python, similaire aux listes mais avec quelques différences importantes. Voici ce que vous devez savoir sur les tuples :\n",
    "\n",
    "### 4.9.1 Définition\n",
    "\n",
    "Un tuple est une séquence ordonnée d'éléments, tout comme une liste. Cependant, la principale différence réside dans le fait que les tuples sont immuables, ce qui signifie que vous ne pouvez pas les modifier une fois qu'ils sont créés. Vous déclarez un tuple en plaçant des valeurs entre parenthèses et en les séparant par des virgules, mais cela n'est pas strictement nécessaire. Voici un exemple :\n",
    "\n",
    "\n"
   ]
  },
  {
   "cell_type": "code",
   "execution_count": 38,
   "id": "d126f70e",
   "metadata": {},
   "outputs": [
    {
     "data": {
      "text/plain": [
       "(1, 2, 3, 1, 2, 3, 1, 2, 3)"
      ]
     },
     "execution_count": 38,
     "metadata": {},
     "output_type": "execute_result"
    }
   ],
   "source": [
    "\n",
    "1, 2, 3  # C'est un tuple\n",
    "1, 2, 3 * 3  # C'est toujours un tuple\n",
    "(1, 2, 3) * 3  # Un tuple multiplié par 3\n"
   ]
  },
  {
   "cell_type": "markdown",
   "id": "f0c2d6d7",
   "metadata": {},
   "source": [
    "### Utilisation\n",
    "Tout comme les listes, vous pouvez accéder aux éléments d'un tuple en utilisant des indices. Les indices commencent à 0 pour le premier élément, 1 pour le deuxième, et ainsi de suite. Par exemple :"
   ]
  },
  {
   "cell_type": "code",
   "execution_count": 39,
   "id": "80fa50d8",
   "metadata": {},
   "outputs": [],
   "source": [
    "t = (3, 4)\n",
    "x = t[0]  # x contient maintenant 3\n",
    "y = t[1]  # y contient maintenant 4\n"
   ]
  },
  {
   "cell_type": "markdown",
   "id": "58b49159",
   "metadata": {},
   "source": [
    "### Opérations sur les Tuples\n",
    "Les tuples prennent en charge des opérations similaires à celles des listes, telles que la concaténation et la répétition :"
   ]
  },
  {
   "cell_type": "code",
   "execution_count": 40,
   "id": "352c3e0e",
   "metadata": {},
   "outputs": [],
   "source": [
    "t1 = (1, 2)\n",
    "t2 = (3, 4)\n",
    "resultat = t1 + t2  # Concaténation\n",
    "resultat2 = t1 * 3  # Répétition"
   ]
  },
  {
   "cell_type": "markdown",
   "id": "9d86c3c4",
   "metadata": {},
   "source": [
    "### Immuabilité\n",
    "L'immutabilité est l'une des principales caractéristiques des tuples. Cela signifie que vous ne pouvez pas modifier les éléments d'un tuple après sa création. Toute tentative de modification générera une erreur :\n",
    "\n",
    "``` python\n",
    " t = (1, 2, 3)\n",
    "t[0] = 4  # Cela générera une erreur TypeError\n"
   ]
  },
  {
   "cell_type": "markdown",
   "id": "856146e2",
   "metadata": {},
   "source": [
    "Utilisations des Tuples\n",
    "Les tuples sont couramment utilisés pour regrouper des valeurs associées ou pour représenter des données qui ne doivent pas être modifiées. Par exemple, ils sont souvent utilisés comme clés de dictionnaires en raison de leur immuabilité :"
   ]
  },
  {
   "cell_type": "code",
   "execution_count": 41,
   "id": "1f320c0a",
   "metadata": {},
   "outputs": [],
   "source": [
    "coordonnees = (3, 4)\n",
    "dictionnaire = {coordonnees: \"Position\"}\n"
   ]
  },
  {
   "cell_type": "markdown",
   "id": "57866e8e",
   "metadata": {},
   "source": [
    "## 1 Dictionnaire"
   ]
  },
  {
   "cell_type": "markdown",
   "id": "abceb795",
   "metadata": {},
   "source": [
    "\n",
    "\n",
    "### Définition\n",
    "\n",
    "Les dictionnaires sont des structures de données très utiles lorsque vous devez manipuler des ensembles de données complexes et que les listes atteignent leurs limites. Ils sont des collections non ordonnées d'objets. Contrairement aux listes et aux chaînes de caractères, les dictionnaires ne sont pas des séquences, mais plutôt des objets de correspondance (mapping objects) ou des tableaux associatifs. Les valeurs dans un dictionnaire sont accessibles via des clés. Si cela semble un peu confus, voici un exemple :\n"
   ]
  },
  {
   "cell_type": "code",
   "execution_count": 42,
   "id": "cd13bdff",
   "metadata": {},
   "outputs": [
    {
     "name": "stdout",
     "output_type": "stream",
     "text": [
      "{'nom': 'girafe', 'taille': 5.0, 'poids': 1100}\n"
     ]
    }
   ],
   "source": [
    "ani1 = {}\n",
    "ani1[\"nom\"] = \"girafe\"\n",
    "ani1[\"taille\"] = 5.0\n",
    "ani1[\"poids\"] = 1100\n",
    "print(ani1)"
   ]
  },
  {
   "cell_type": "markdown",
   "id": "6fd9a10a",
   "metadata": {},
   "source": [
    "Dans cet exemple, nous commençons par définir un dictionnaire vide en utilisant les accolades `{}`. Ensuite, nous ajoutons différentes `clés` (\"nom\", \"taille\", \"poids\") auxquelles nous associons des `valeurs` (\"girafe\", 5.0, 1100). Vous pouvez ajouter autant de clés que nécessaire dans un dictionnaire.\n",
    "\n",
    "*Remarque*: Jusqu'à Python `3.6`, l'ordre d'affichage des éléments d'un dictionnaire n'était pas garanti. Depuis Python `3.7`, les dictionnaires sont affichés dans l'ordre où les éléments ont été ajoutés. Cependant, l'ordre n'a pas d'importance pour l'accès aux éléments par clé.\n",
    "\n",
    "\n",
    "###     Initialisation d'un Dictionnaire\n",
    "Il est également possible d'initialiser un dictionnaire avec toutes ses clés et valeurs en une seule opération :\n",
    "\n"
   ]
  },
  {
   "cell_type": "code",
   "execution_count": 43,
   "id": "aec9152f",
   "metadata": {},
   "outputs": [],
   "source": [
    "\n",
    "ani2 = {\"nom\": \"singe\", \"poids\": 70, \"taille\": 1.75}\n",
    "\n"
   ]
  },
  {
   "cell_type": "markdown",
   "id": "ec22df2b",
   "metadata": {},
   "source": [
    "\n",
    "Rien n'empêche d'ajouter ultérieurement des clés et des valeurs supplémentaires :\n"
   ]
  },
  {
   "cell_type": "code",
   "execution_count": 44,
   "id": "0c98aaf9",
   "metadata": {},
   "outputs": [],
   "source": [
    "ani2[\"age\"] = 15"
   ]
  },
  {
   "cell_type": "markdown",
   "id": "d6e68a44",
   "metadata": {},
   "source": [
    "### Accès aux Valeurs\n",
    "Pour accéder à la valeur associée à une clé donnée, utilisez la syntaxe suivante : `dictionnaire[\"cle\"]`. Par exemple :"
   ]
  },
  {
   "cell_type": "code",
   "execution_count": 45,
   "id": "8d2938cb",
   "metadata": {},
   "outputs": [
    {
     "name": "stdout",
     "output_type": "stream",
     "text": [
      "5.0\n"
     ]
    }
   ],
   "source": [
    "print(ani1[\"taille\"])\n"
   ]
  },
  {
   "cell_type": "markdown",
   "id": "3443ac84",
   "metadata": {},
   "source": [
    "### Itération sur les clés pour obtenir les valeurs\n",
    "Pour parcourir toutes les associations clé-valeur d'un dictionnaire, vous pouvez itérer sur le dictionnaire de la manière suivante :\n"
   ]
  },
  {
   "cell_type": "code",
   "execution_count": 46,
   "id": "25e26b46",
   "metadata": {},
   "outputs": [
    {
     "name": "stdout",
     "output_type": "stream",
     "text": [
      "nom singe\n",
      "poids 70\n",
      "taille 1.75\n"
     ]
    }
   ],
   "source": [
    "ani2 = {'nom': 'singe', 'poids': 70, 'taille': 1.75}\n",
    "for key in ani2:\n",
    "    print(key, ani2[key])\n"
   ]
  },
  {
   "cell_type": "markdown",
   "id": "dc747851",
   "metadata": {},
   "source": [
    "Par défaut, l'itération sur un dictionnaire se fait sur les clés. Dans l'exemple ci-dessus, la variable d'itération `key` prend successivement la valeur de chaque clé, et `ani2[key]` renvoie la valeur correspondante à chaque clé.\n",
    "\n",
    "### Méthodes .keys(), .values() et .items()\n",
    "\n",
    "Les méthodes `.keys()` et `.values(`) renvoient respectivement les clés et les valeurs d'un dictionnaire."
   ]
  },
  {
   "cell_type": "code",
   "execution_count": 47,
   "id": "376388a3",
   "metadata": {},
   "outputs": [
    {
     "data": {
      "text/plain": [
       "dict_values(['singe', 70, 1.75])"
      ]
     },
     "execution_count": 47,
     "metadata": {},
     "output_type": "execute_result"
    }
   ],
   "source": [
    "ani2.keys()\n",
    "\n",
    "ani2.values()\n",
    "\n"
   ]
  },
  {
   "cell_type": "markdown",
   "id": "3f0eb53c",
   "metadata": {},
   "source": [
    "Les mentions `dict_keys` et `dict_values` indiquent que ces objets sont un peu particuliers. Ils ne sont pas indexables, mais ils peuvent être convertis en listes à l'aide de la fonction `list()`."
   ]
  },
  {
   "cell_type": "markdown",
   "id": "c7db6f45",
   "metadata": {},
   "source": [
    "### Suppression d'une Clé\n",
    "Pour supprimer une clé et sa valeur associée d'un dictionnaire, utilisez del :"
   ]
  },
  {
   "cell_type": "code",
   "execution_count": 48,
   "id": "88faa210",
   "metadata": {},
   "outputs": [
    {
     "ename": "NameError",
     "evalue": "name 'mon_dictionnaire' is not defined",
     "output_type": "error",
     "traceback": [
      "\u001b[0;31m---------------------------------------------------------------------------\u001b[0m",
      "\u001b[0;31mNameError\u001b[0m                                 Traceback (most recent call last)",
      "Cell \u001b[0;32mIn[48], line 1\u001b[0m\n\u001b[0;32m----> 1\u001b[0m \u001b[38;5;28;01mdel\u001b[39;00m mon_dictionnaire[\u001b[38;5;124m\"\u001b[39m\u001b[38;5;124mclé1\u001b[39m\u001b[38;5;124m\"\u001b[39m]\n",
      "\u001b[0;31mNameError\u001b[0m: name 'mon_dictionnaire' is not defined"
     ]
    }
   ],
   "source": [
    "del mon_dictionnaire[\"clé1\"]"
   ]
  },
  {
   "cell_type": "markdown",
   "id": "0de2ce9a",
   "metadata": {},
   "source": [
    "## Sets"
   ]
  },
  {
   "cell_type": "markdown",
   "id": "2ee955c0",
   "metadata": {},
   "source": [
    "### Les Ensembles (Sets) en Python\n",
    "\n",
    "Les ensembles, ou \"sets\" en anglais, sont une structure de données intégrée en Python qui représente une collection non ordonnée d'éléments uniques. Voici comment travailler avec des ensembles en Python :\n",
    "\n",
    "### Création d'un Ensemble\n",
    "\n",
    "Pour créer un ensemble vide, utilisez le constructeur `set()` :\n"
   ]
  },
  {
   "cell_type": "code",
   "execution_count": null,
   "id": "78530b29",
   "metadata": {},
   "outputs": [],
   "source": [
    "mon_ensemble = set()"
   ]
  },
  {
   "cell_type": "markdown",
   "id": "08e12334",
   "metadata": {},
   "source": [
    "\n",
    "Vous pouvez également initialiser un ensemble avec des éléments en utilisant les accolades `{}` :\n"
   ]
  },
  {
   "cell_type": "code",
   "execution_count": null,
   "id": "c67cd3d4",
   "metadata": {},
   "outputs": [],
   "source": [
    "mon_ensemble = {1, 2, 3}"
   ]
  },
  {
   "cell_type": "markdown",
   "id": "102485f9",
   "metadata": {},
   "source": [
    "\n",
    "### Ajout d'Éléments\n",
    "\n",
    "Pour ajouter un élément à un ensemble, utilisez la méthode `.add()` :\n"
   ]
  },
  {
   "cell_type": "markdown",
   "id": "80059c4e",
   "metadata": {},
   "source": [
    "### Suppression d'Éléments\n",
    "\n",
    "Pour supprimer un élément d'un ensemble, utilisez la méthode `.remove()` :"
   ]
  },
  {
   "cell_type": "code",
   "execution_count": null,
   "id": "e605133c",
   "metadata": {},
   "outputs": [],
   "source": [
    "mon_ensemble.remove(2)"
   ]
  },
  {
   "cell_type": "markdown",
   "id": "d9889001",
   "metadata": {},
   "source": [
    "\n",
    "\n",
    "Si vous n'êtes pas sûr que l'élément existe dans l'ensemble, vous pouvez utiliser `.discard()` pour éviter une erreur :\n",
    "\n",
    "```python\n",
    "mon_ensemble.discard(5)\n",
    "```\n",
    "\n",
    "### Parcours d'un Ensemble\n",
    "\n",
    "Vous pouvez parcourir les éléments d'un ensemble en utilisant une boucle `for` :\n",
    "\n",
    "```python\n",
    "for element in mon_ensemble:\n",
    "    print(element)\n",
    "```\n",
    "\n",
    "### Opérations sur les Ensembles\n",
    "\n",
    "Python prend en charge diverses opérations sur les ensembles, notamment l'union, l'intersection, la différence, et la vérification d'appartenance.\n",
    "\n",
    "```python\n",
    "ensemble1 = {1, 2, 3}\n",
    "ensemble2 = {3, 4, 5}\n",
    "\n",
    "# Union\n",
    "union = ensemble1 | ensemble2\n",
    "\n",
    "# Intersection\n",
    "intersection = ensemble1 & ensemble2\n",
    "\n",
    "# Différence\n",
    "difference = ensemble1 - ensemble2\n",
    "\n",
    "# Vérification d'appartenance\n",
    "appartient = 3 in ensemble1\n",
    "```\n",
    "\n",
    "### Avantages des Ensembles\n",
    "\n",
    "Les ensembles sont utiles lorsque vous avez besoin de stocker des éléments uniques et que vous souhaitez effectuer des opérations ensemblistes telles que l'union et l'intersection.\n",
    "\n",
    "En résumé, les ensembles sont une structure de données puissante pour la gestion d'éléments uniques en Python.\n"
   ]
  },
  {
   "cell_type": "markdown",
   "id": "202b7a75",
   "metadata": {},
   "source": [
    "## Exercices\n",
    "### Exercices sur les Listes :\n",
    "\n",
    "1. Écrivez un programme qui prend une liste d'entiers et renvoie la somme de tous les nombres dans la liste.\n",
    "\n",
    "2. Créez une liste de noms et triez-la par ordre alphabétique.\n",
    "\n",
    "3. Écrivez un programme qui prend une liste de nombres et renvoie une nouvelle liste contenant uniquement les nombres pairs de la liste d'origine.\n",
    "\n",
    "4. Créez une liste de chaînes de caractères et renversez l'ordre des éléments dans la liste.\n",
    "\n",
    "### Exercices sur les Tuples :\n",
    "\n",
    "1. Créez un tuple contenant les jours de la semaine. Affichez le jour de la semaine correspondant à un numéro de jour donné par l'utilisateur (par exemple, \"1\" pour \"Lundi\").\n",
    "\n",
    "2. Écrivez un programme qui prend deux tuples contenant des coordonnées (x, y) et calcule la distance entre ces deux points.\n",
    "\n",
    "3. Créez un tuple contenant des valeurs numériques. Trouvez la valeur maximale et la valeur minimale dans le tuple.\n",
    "\n",
    "### Exercices sur les Dictionnaires :\n",
    "\n",
    "1. Créez un dictionnaire contenant des noms de fruits et leurs prix. Demandez à l'utilisateur de saisir un fruit, puis affichez son prix.\n",
    "\n",
    "2. Écrivez un programme qui prend une phrase en entrée et compte le nombre d'occurrences de chaque mot dans la phrase en utilisant un dictionnaire.\n",
    "\n",
    "3. Créez un dictionnaire contenant des noms d'étudiants et leurs notes. Calculez la moyenne des notes.\n",
    "\n",
    "### Exercices sur les Ensembles (Sets) :\n",
    "\n",
    "1. Créez deux ensembles contenant des nombres. Calculez l'union, l'intersection et la différence symétrique de ces ensembles.\n",
    "\n",
    "2. Écrivez un programme qui prend une chaîne de caractères en entrée et renvoie un ensemble contenant les lettres uniques de la chaîne.\n",
    "\n",
    "3. Créez un ensemble de noms de couleurs. Demandez à l'utilisateur de saisir une couleur, puis vérifiez si cette couleur est dans l'ensemble.\n",
    "\n"
   ]
  },
  {
   "cell_type": "code",
   "execution_count": 3,
   "id": "76be6399-b83d-4cde-a6d0-ed14cd7c7277",
   "metadata": {
    "tags": []
   },
   "outputs": [
    {
     "name": "stdin",
     "output_type": "stream",
     "text": [
      "Entrez le nom du fruit :  orange\n"
     ]
    },
    {
     "name": "stdout",
     "output_type": "stream",
     "text": [
      "Le prix de orange est de 2.8 euros.\n"
     ]
    }
   ],
   "source": [
    "fruits_prix = {\n",
    "    'pomme': 2.50,\n",
    "    'banane': 1.20,\n",
    "    'fraise': 3.00,\n",
    "    'orange': 2.80,\n",
    "    'kiwi': 2.50\n",
    "}\n",
    "#### Demander à l'utilisateur de saisir un fruit\n",
    "fruit_demande = input(\"Entrez le nom du fruit : \").lower()  # Convertir en minuscules pour éviter les problèmes de casse\n",
    "\n",
    "# Vérifier si le fruit est présent dans le dictionnaire\n",
    "if fruit_demande in fruits_prix:\n",
    "    # Afficher le prix du fruit\n",
    "    prix = fruits_prix[fruit_demande]\n",
    "    print(f\"Le prix de {fruit_demande} est de {prix} euros.\")\n",
    "else:\n",
    "    print(f\"Désolé, nous n'avons pas le prix pour {fruit_demande}.\")\n"
   ]
  },
  {
   "cell_type": "code",
   "execution_count": 9,
   "id": "6c99e770-21a3-4487-84ea-8617b8c39cf4",
   "metadata": {
    "tags": []
   },
   "outputs": [
    {
     "name": "stdout",
     "output_type": "stream",
     "text": [
      "pomme 2.5\n",
      "banane 1.2\n",
      "fraise 3.0\n",
      "orange 2.8\n",
      "kiwi 2.5\n"
     ]
    }
   ],
   "source": [
    "for fruit_demande in fruits_prix:\n",
    "    print(fruit_demande, fruits_prix[fruit_demande])"
   ]
  },
  {
   "cell_type": "markdown",
   "id": "8503a771",
   "metadata": {},
   "source": [
    "## Corrections aux exercices précédents \n",
    "\n",
    "\n",
    "### Exercices sur les Listes :\n",
    "\n",
    "1. Programme pour la somme des nombres dans une liste :\n",
    "   ```python\n",
    "   def somme_liste(liste):\n",
    "       return sum(liste)\n",
    "\n",
    "   # Exemple d'utilisation :\n",
    "   ma_liste = [1, 2, 3, 4, 5]\n",
    "   resultat = somme_liste(ma_liste)\n",
    "   print(resultat)  # Affichera 15\n",
    "   ```\n",
    "\n",
    "2. Tri alphabétique d'une liste de noms :\n",
    "   ```python\n",
    "   noms = [\"Alice\", \"Bob\", \"Eve\", \"David\"]\n",
    "   noms_tries = sorted(noms)\n",
    "   print(noms_tries)\n",
    "   ```\n",
    "\n",
    "3. Filtrer les nombres pairs dans une liste :\n",
    "   ```python\n",
    "   def nombres_pairs(liste):\n",
    "       return [x for x in liste if x % 2 == 0]\n",
    "\n",
    "   # Exemple d'utilisation :\n",
    "   ma_liste = [1, 2, 3, 4, 5, 6]\n",
    "   resultats = nombres_pairs(ma_liste)\n",
    "   print(resultats)  # Affichera [2, 4, 6]\n",
    "   ```\n",
    "\n",
    "4. Inversion de l'ordre des éléments dans une liste :\n",
    "   ```python\n",
    "   liste = [1, 2, 3, 4, 5]\n",
    "   liste_inverse = liste[::-1]\n",
    "   print(liste_inverse)\n",
    "   ```\n",
    "\n",
    "### Exercices sur les Tuples :\n",
    "\n",
    "1. Obtenir le jour de la semaine à partir d'un numéro de jour :\n",
    "   ```python\n",
    "   jours = (\"Lundi\", \"Mardi\", \"Mercredi\", \"Jeudi\", \"Vendredi\", \"Samedi\", \"Dimanche\")\n",
    "   numero_jour = int(input(\"Entrez un numéro de jour (1-7) : \"))\n",
    "   if 1 <= numero_jour <= 7:\n",
    "       jour_selectionne = jours[numero_jour - 1]\n",
    "       print(\"Le jour correspondant est :\", jour_selectionne)\n",
    "   else:\n",
    "       print(\"Numéro de jour invalide\")\n",
    "   ```\n",
    "\n",
    "2. Calcul de la distance entre deux points (tuples) :\n",
    "   ```python\n",
    "   import math\n",
    "\n",
    "   def distance_entre_points(point1, point2):\n",
    "       x1, y1 = point1\n",
    "       x2, y2 = point2\n",
    "       return math.sqrt((x2 - x1) ** 2 + (y2 - y1) ** 2)\n",
    "\n",
    "   # Exemple d'utilisation :\n",
    "   point_A = (1, 2)\n",
    "   point_B = (4, 6)\n",
    "   distance = distance_entre_points(point_A, point_B)\n",
    "   print(\"Distance entre les points A et B :\", distance)\n",
    "   ```\n",
    "\n",
    "3. Trouver la valeur maximale et minimale dans un tuple de valeurs numériques :\n",
    "   ```python\n",
    "   valeurs = (42, 17, 8, 99, 34)\n",
    "   valeur_maximale = max(valeurs)\n",
    "   valeur_minimale = min(valeurs)\n",
    "   print(\"Valeur maximale :\", valeur_maximale)\n",
    "   print(\"Valeur minimale :\", valeur_minimale)\n",
    "   ```\n",
    "\n",
    "### Exercices sur les Dictionnaires :\n",
    "\n",
    "```python\n",
    "### Création du dictionnaire des fruits et de leurs prix\n",
    "fruits_prix = {\n",
    "    'pomme': 2.50,\n",
    "    'banane': 1.20,\n",
    "    'fraise': 3.00,\n",
    "    'orange': 2.80,\n",
    "    'kiwi': 2.50\n",
    "}\n",
    "\n",
    "#### Demander à l'utilisateur de saisir un fruit\n",
    "fruit_demande = input(\"Entrez le nom du fruit : \").lower()  # Convertir en minuscules pour éviter les problèmes de casse\n",
    "\n",
    "# Vérifier si le fruit est présent dans le dictionnaire\n",
    "if fruit_demande in fruits_prix:\n",
    "    # Afficher le prix du fruit\n",
    "    prix = fruits_prix[fruit_demande]\n",
    "    print(f\"Le prix de {fruit_demande} est de {prix} euros.\")\n",
    "else:\n",
    "    print(f\"Désolé, nous n'avons pas le prix pour {fruit_demande}.\")\n",
    "\n",
    "\n",
    "1. Fusionner deux dictionnaires :\n",
    "   ```python\n",
    "   def fusionner_dictionnaires(dict1, dict2):\n",
    "       return {**dict1, **dict2}\n",
    "\n",
    "   # Exemple d'utilisation :\n",
    "   dict1 = {\"a\": 1, \"b\": 2}\n",
    "   dict2 = {\"b\": 3, \"c\": 4}\n",
    "   resultat = fusionner_dictionnaires(dict1, dict2)\n",
    "   print(resultat)\n",
    "   # Affichera : {'a': 1, 'b': 3, 'c': 4}\n",
    "   ```\n",
    "\n",
    "2. Vérifier si une clé existe dans un dictionnaire :\n",
    "   ```python\n",
    "   def verifie_cle(dictionnaire, cle):\n",
    "       return cle in dictionnaire\n",
    "\n",
    "   # Exemple d'utilisation :\n",
    "   mon_dict = {\"nom\": \"Alice\", \"age\": 30, \"ville\": \"Paris\"}\n",
    "   cle_existe = verifie_cle(mon_dict, \"age\")\n",
    "   print(cle_existe)  # Affichera True\n",
    "   ```\n",
    "\n",
    "3. Compter le nombre d'occurrences des éléments dans une liste :\n",
    "   ```python\n",
    "   def compter_occurrences(liste):\n",
    "       occurrences = {}\n",
    "       for element in liste:\n",
    "           if element in occurrences:\n",
    "               occurrences[element] += 1\n",
    "           else:\n",
    "               occurrences[element] = 1\n",
    "       return occurrences\n",
    "\n",
    "   # Exemple d'utilisation :\n",
    "   ma_liste = [1, 2, 2, 3, 3, 3, 4, 4, 4, 4]\n",
    "   resultat = compter_occurrences(ma_liste)\n",
    "   print(resultat)\n",
    "   # Affichera : {1: 1, 2: 2, 3: 3, 4: 4}\n",
    "   ```\n",
    "\n",
    "### Exercices sur les Ensembles (Sets) :\n",
    "\n",
    "1. Trouver l'intersection de deux ensembles :\n",
    "   ```python\n",
    "   def intersection_ensembles(ensemble1, ensemble2):\n",
    "       return ensemble1.intersection(ensemble2)\n",
    "\n",
    "   # Exemple d'utilisation :\n",
    "   ensemble1 = {1, 2, 3, 4, 5}\n",
    "   ensemble2 = {3, 4, 5, 6, 7}\n",
    "   resultat = intersection_ensembles(ensemble1, ensemble2)\n",
    "   print(resultat)  # Affichera {3, 4, 5}\n",
    "   ```\n",
    "\n",
    "2. Vérifier si un ensemble est inclus dans un autre :\n",
    "   ```python\n",
    "   def est_inclus(ensemble1, ensemble2):\n",
    "       return ensemble1.issubset(ensemble2)\n",
    "\n",
    "   # Exemple d'utilisation :\n",
    "   ensemble1 = {1, 2, 3}\n",
    "   ensemble2 = {1, 2, 3, 4, 5}\n",
    "   inclus = est_inclus(ensemble1, ensemble2)\n",
    "   print(inclus)  # Affichera True\n",
    "   ```\n",
    "\n",
    "3. Supprimer les doublons d'une liste en utilisant un ensemble :\n",
    "   ```python\n",
    "   def supprimer_doublons_liste(liste):\n",
    "       return list(set(liste))\n",
    "\n",
    "   # Exemple d'utilisation :\n",
    "   ma_liste = [1, 2, 2, 3, 4, 4, 5]\n",
    "   resultat = supprimer_doublons_liste(ma_liste)\n",
    "   print(resultat)  # Affichera [1, 2, 3, 4, 5]\n",
    "   ```\n",
    "\n"
   ]
  },
  {
   "cell_type": "code",
   "execution_count": null,
   "id": "49e33d90",
   "metadata": {},
   "outputs": [],
   "source": []
  }
 ],
 "metadata": {
  "kernelspec": {
   "display_name": "Python 3 (ipykernel)",
   "language": "python",
   "name": "python3"
  },
  "language_info": {
   "codemirror_mode": {
    "name": "ipython",
    "version": 3
   },
   "file_extension": ".py",
   "mimetype": "text/x-python",
   "name": "python",
   "nbconvert_exporter": "python",
   "pygments_lexer": "ipython3",
   "version": "3.11.6"
  }
 },
 "nbformat": 4,
 "nbformat_minor": 5
}
