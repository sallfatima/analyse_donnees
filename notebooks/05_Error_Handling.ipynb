{
 "cells": [
  {
   "cell_type": "markdown",
   "id": "96bf2aad",
   "metadata": {},
   "source": [
    "# Gestion des Erreurs en Python\n",
    "\n",
    "En programmation, la gestion des erreurs est cruciale pour anticiper et traiter les situations inattendues qui peuvent survenir lors de l'exécution d'un programme. En Python, cela est généralement réalisé à l'aide des blocs `try`, `except`, `else`, et `finally`.\n",
    "\n",
    "## Bloc try et except\n",
    "\n",
    "Le bloc `try` est utilisé pour entourer le code où des erreurs peuvent se produire. Si une erreur survient à l'intérieur du bloc `try`, elle est gérée par le bloc `except` associé. Voici un exemple simple :\n",
    "\n",
    "```python\n",
    "try:\n",
    "    # Code où des erreurs peuvent se produire\n",
    "    resultat = 10 / 0  # Tentative de division par zéro\n",
    "except ZeroDivisionError:\n",
    "    # Bloc exécuté en cas d'erreur de division par zéro\n",
    "    print(\"Erreur : Division par zéro.\")\n"
   ]
  },
  {
   "cell_type": "markdown",
   "id": "7267cccb",
   "metadata": {},
   "source": [
    " - **ExceptionType** : C'est le type d'exception que vous souhaitez intercepter. Vous pouvez spécifier plusieurs types ou utiliser `Exception` pour attraper toutes les exceptions.\n",
    "\n",
    " - **as e/** Cette partie est facultative, mais elle vous permet de capturer l'exception dans une variable (`e` dans cet exemple) pour un traitement ultérieur.\n",
    "\n",
    "## Exemple :\n",
    "\n",
    "```python\n",
    "try:\n",
    "    x = int(input(\"Entrez un nombre : \"))\n",
    "    resultat = 10 / x\n",
    "    print(\"Le résultat est :\", resultat)\n",
    "except ValueError:\n",
    "    print(\"Erreur : Veuillez entrer un nombre valide.\")\n",
    "except ZeroDivisionError:\n",
    "    print(\"Erreur : Division par zéro.\")\n",
    "except Exception as e:\n",
    "    print(f\"Une erreur s'est produite : {e}\")\n"
   ]
  },
  {
   "cell_type": "markdown",
   "id": "01e9cfef",
   "metadata": {},
   "source": [
    "Dans cet exemple, le programme tente de diviser 10 par le nombre saisi par l'utilisateur. Si l'utilisateur entre quelque chose qui n'est pas un nombre, une `ValueError` est capturée. Si l'utilisateur entre zéro, une `ZeroDivisionError` est capturée. Toute autre exception est capturée par le bloc `except Exception`.\n",
    "\n",
    "La gestion des erreurs permet d'éviter que le programme ne s'arrête brusquement en cas d'erreur et offre la possibilité de prendre des mesures appropriées.\n"
   ]
  },
  {
   "cell_type": "code",
   "execution_count": 1,
   "id": "cd8eb515",
   "metadata": {},
   "outputs": [
    {
     "ename": "ZeroDivisionError",
     "evalue": "division by zero",
     "output_type": "error",
     "traceback": [
      "\u001b[0;31m---------------------------------------------------------------------------\u001b[0m",
      "\u001b[0;31mZeroDivisionError\u001b[0m                         Traceback (most recent call last)",
      "Cell \u001b[0;32mIn[1], line 1\u001b[0m\n\u001b[0;32m----> 1\u001b[0m result \u001b[38;5;241m=\u001b[39m \u001b[38;5;241;43m10\u001b[39;49m\u001b[43m \u001b[49m\u001b[38;5;241;43m/\u001b[39;49m\u001b[43m \u001b[49m\u001b[38;5;241;43m0\u001b[39;49m\n",
      "\u001b[0;31mZeroDivisionError\u001b[0m: division by zero"
     ]
    }
   ],
   "source": [
    " result = 10 / 0"
   ]
  },
  {
   "cell_type": "code",
   "execution_count": 3,
   "id": "a042cdee",
   "metadata": {},
   "outputs": [
    {
     "name": "stdout",
     "output_type": "stream",
     "text": [
      "Erreur : Division par zéro.\n"
     ]
    }
   ],
   "source": [
    "# Exemple 1: Division par zéro\n",
    "try:\n",
    "    result = 10 / 0\n",
    "except ZeroDivisionError:\n",
    "    print(\"Erreur : Division par zéro.\")"
   ]
  },
  {
   "cell_type": "code",
   "execution_count": 2,
   "id": "27fc73f7",
   "metadata": {},
   "outputs": [
    {
     "ename": "ValueError",
     "evalue": "invalid literal for int() with base 10: 'abc'",
     "output_type": "error",
     "traceback": [
      "\u001b[0;31m---------------------------------------------------------------------------\u001b[0m",
      "\u001b[0;31mValueError\u001b[0m                                Traceback (most recent call last)",
      "Cell \u001b[0;32mIn[2], line 1\u001b[0m\n\u001b[0;32m----> 1\u001b[0m x \u001b[38;5;241m=\u001b[39m \u001b[38;5;28;43mint\u001b[39;49m\u001b[43m(\u001b[49m\u001b[38;5;124;43m\"\u001b[39;49m\u001b[38;5;124;43mabc\u001b[39;49m\u001b[38;5;124;43m\"\u001b[39;49m\u001b[43m)\u001b[49m\n",
      "\u001b[0;31mValueError\u001b[0m: invalid literal for int() with base 10: 'abc'"
     ]
    }
   ],
   "source": [
    "x = int(\"abc\")"
   ]
  },
  {
   "cell_type": "code",
   "execution_count": 4,
   "id": "24b6d64b",
   "metadata": {},
   "outputs": [
    {
     "name": "stdout",
     "output_type": "stream",
     "text": [
      "Erreur : Conversion de type incorrecte.\n"
     ]
    }
   ],
   "source": [
    "\n",
    "# Exemple 2: Conversion de type incorrecte\n",
    "try:\n",
    "    x = int(\"abc\")\n",
    "except ValueError:\n",
    "    print(\"Erreur : Conversion de type incorrecte.\")\n"
   ]
  },
  {
   "cell_type": "code",
   "execution_count": 4,
   "id": "88b253b8",
   "metadata": {
    "tags": []
   },
   "outputs": [
    {
     "ename": "IndentationError",
     "evalue": "unexpected indent (2425086033.py, line 2)",
     "output_type": "error",
     "traceback": [
      "\u001b[0;36m  Cell \u001b[0;32mIn[4], line 2\u001b[0;36m\u001b[0m\n\u001b[0;31m    value = my_list[2]\u001b[0m\n\u001b[0m    ^\u001b[0m\n\u001b[0;31mIndentationError\u001b[0m\u001b[0;31m:\u001b[0m unexpected indent\n"
     ]
    }
   ],
   "source": [
    "my_list = [1, 2, 3]\n",
    "    value = my_list[2]"
   ]
  },
  {
   "cell_type": "code",
   "execution_count": 5,
   "id": "da62fa46",
   "metadata": {},
   "outputs": [
    {
     "name": "stdout",
     "output_type": "stream",
     "text": [
      "Erreur : Index inexistant dans la liste.\n"
     ]
    }
   ],
   "source": [
    "\n",
    "\n",
    "# Exemple 3: Accès à un index inexistant dans une liste\n",
    "try:\n",
    "    my_list = [1, 2, 3]\n",
    "    value = my_list[5]\n",
    "except IndexError:\n",
    "    print(\"Erreur : Index inexistant dans la liste.\")\n"
   ]
  },
  {
   "cell_type": "code",
   "execution_count": 3,
   "id": "b9a5a746",
   "metadata": {},
   "outputs": [
    {
     "ename": "IndexError",
     "evalue": "list index out of range",
     "output_type": "error",
     "traceback": [
      "\u001b[0;31m---------------------------------------------------------------------------\u001b[0m",
      "\u001b[0;31mIndexError\u001b[0m                                Traceback (most recent call last)",
      "Cell \u001b[0;32mIn[3], line 2\u001b[0m\n\u001b[1;32m      1\u001b[0m my_list \u001b[38;5;241m=\u001b[39m [\u001b[38;5;241m1\u001b[39m, \u001b[38;5;241m2\u001b[39m, \u001b[38;5;241m3\u001b[39m]\n\u001b[0;32m----> 2\u001b[0m value \u001b[38;5;241m=\u001b[39m my_list[\u001b[38;5;241m3\u001b[39m]\n",
      "\u001b[0;31mIndexError\u001b[0m: list index out of range"
     ]
    }
   ],
   "source": [
    "my_list = [1, 2, 3]\n",
    "value = my_list[3]"
   ]
  },
  {
   "cell_type": "code",
   "execution_count": 27,
   "id": "d442dd1e",
   "metadata": {},
   "outputs": [
    {
     "name": "stdout",
     "output_type": "stream",
     "text": [
      "Erreur : Variable non définie.\n"
     ]
    }
   ],
   "source": [
    "# Exemple 4: Utilisation d'une variable non définie\n",
    "try:\n",
    "    print(undefined_variable)\n",
    "except NameError:\n",
    "    print(\"Erreur : Variable non définie.\")"
   ]
  },
  {
   "cell_type": "code",
   "execution_count": 25,
   "id": "25508cd7-e611-4a62-a87b-295b343de613",
   "metadata": {
    "tags": []
   },
   "outputs": [],
   "source": [
    "undefined_variable=\"fatou\""
   ]
  },
  {
   "cell_type": "code",
   "execution_count": 26,
   "id": "d9d6db3c-597c-4d0e-83c9-95c9e407fa8a",
   "metadata": {
    "tags": []
   },
   "outputs": [
    {
     "name": "stdout",
     "output_type": "stream",
     "text": [
      "fatou\n"
     ]
    }
   ],
   "source": [
    "print(undefined_variable)"
   ]
  },
  {
   "cell_type": "code",
   "execution_count": 6,
   "id": "3dddca2a-fd3e-4799-8036-97d4cacb3e35",
   "metadata": {
    "tags": []
   },
   "outputs": [
    {
     "ename": "NameError",
     "evalue": "name 'fatous' is not defined",
     "output_type": "error",
     "traceback": [
      "\u001b[0;31m---------------------------------------------------------------------------\u001b[0m",
      "\u001b[0;31mNameError\u001b[0m                                 Traceback (most recent call last)",
      "Cell \u001b[0;32mIn[6], line 2\u001b[0m\n\u001b[1;32m      1\u001b[0m fatou\u001b[38;5;241m=\u001b[39m\u001b[38;5;124m\"\u001b[39m\u001b[38;5;124mffé\u001b[39m\u001b[38;5;124m\"\u001b[39m\n\u001b[0;32m----> 2\u001b[0m \u001b[38;5;28mprint\u001b[39m(fatous)\n",
      "\u001b[0;31mNameError\u001b[0m: name 'fatous' is not defined"
     ]
    }
   ],
   "source": [
    "fatou=\"ffé\"\n",
    "print(fatous)"
   ]
  },
  {
   "cell_type": "code",
   "execution_count": 28,
   "id": "7f61645e",
   "metadata": {},
   "outputs": [
    {
     "ename": "FileNotFoundError",
     "evalue": "[Errno 2] No such file or directory: 'fichier_inexistant.txt'",
     "output_type": "error",
     "traceback": [
      "\u001b[0;31m---------------------------------------------------------------------------\u001b[0m",
      "\u001b[0;31mFileNotFoundError\u001b[0m                         Traceback (most recent call last)",
      "Cell \u001b[0;32mIn[28], line 1\u001b[0m\n\u001b[0;32m----> 1\u001b[0m \u001b[38;5;28;01mwith\u001b[39;00m \u001b[38;5;28mopen\u001b[39m(\u001b[38;5;124m\"\u001b[39m\u001b[38;5;124mfichier_inexistant.txt\u001b[39m\u001b[38;5;124m\"\u001b[39m, \u001b[38;5;124m\"\u001b[39m\u001b[38;5;124mr\u001b[39m\u001b[38;5;124m\"\u001b[39m) \u001b[38;5;28;01mas\u001b[39;00m file:\n\u001b[1;32m      2\u001b[0m        content \u001b[38;5;241m=\u001b[39m file\u001b[38;5;241m.\u001b[39mread()\n",
      "File \u001b[0;32m~/anaconda3/lib/python3.11/site-packages/IPython/core/interactiveshell.py:286\u001b[0m, in \u001b[0;36m_modified_open\u001b[0;34m(file, *args, **kwargs)\u001b[0m\n\u001b[1;32m    279\u001b[0m \u001b[38;5;28;01mif\u001b[39;00m file \u001b[38;5;129;01min\u001b[39;00m {\u001b[38;5;241m0\u001b[39m, \u001b[38;5;241m1\u001b[39m, \u001b[38;5;241m2\u001b[39m}:\n\u001b[1;32m    280\u001b[0m     \u001b[38;5;28;01mraise\u001b[39;00m \u001b[38;5;167;01mValueError\u001b[39;00m(\n\u001b[1;32m    281\u001b[0m         \u001b[38;5;124mf\u001b[39m\u001b[38;5;124m\"\u001b[39m\u001b[38;5;124mIPython won\u001b[39m\u001b[38;5;124m'\u001b[39m\u001b[38;5;124mt let you open fd=\u001b[39m\u001b[38;5;132;01m{\u001b[39;00mfile\u001b[38;5;132;01m}\u001b[39;00m\u001b[38;5;124m by default \u001b[39m\u001b[38;5;124m\"\u001b[39m\n\u001b[1;32m    282\u001b[0m         \u001b[38;5;124m\"\u001b[39m\u001b[38;5;124mas it is likely to crash IPython. If you know what you are doing, \u001b[39m\u001b[38;5;124m\"\u001b[39m\n\u001b[1;32m    283\u001b[0m         \u001b[38;5;124m\"\u001b[39m\u001b[38;5;124myou can use builtins\u001b[39m\u001b[38;5;124m'\u001b[39m\u001b[38;5;124m open.\u001b[39m\u001b[38;5;124m\"\u001b[39m\n\u001b[1;32m    284\u001b[0m     )\n\u001b[0;32m--> 286\u001b[0m \u001b[38;5;28;01mreturn\u001b[39;00m io_open(file, \u001b[38;5;241m*\u001b[39margs, \u001b[38;5;241m*\u001b[39m\u001b[38;5;241m*\u001b[39mkwargs)\n",
      "\u001b[0;31mFileNotFoundError\u001b[0m: [Errno 2] No such file or directory: 'fichier_inexistant.txt'"
     ]
    }
   ],
   "source": [
    " with open(\"fichier_inexistant.txt\", \"r\") as file:\n",
    "        content = file.read()"
   ]
  },
  {
   "cell_type": "code",
   "execution_count": null,
   "id": "5aff6db9-95fa-4645-b57e-b6a9d26987cf",
   "metadata": {},
   "outputs": [],
   "source": []
  },
  {
   "cell_type": "code",
   "execution_count": 7,
   "id": "4d43e0a4",
   "metadata": {},
   "outputs": [
    {
     "name": "stdout",
     "output_type": "stream",
     "text": [
      "Erreur : Fichier inexistant.\n"
     ]
    }
   ],
   "source": [
    "\n",
    "\n",
    "# Exemple 5: Ouverture d'un fichier inexistant\n",
    "try:\n",
    "    with open(\"fichier_inexistant.txt\", \"r\") as file:\n",
    "        content = file.read()\n",
    "except FileNotFoundError:\n",
    "    print(\"Erreur : Fichier inexistant.\")"
   ]
  },
  {
   "cell_type": "code",
   "execution_count": 8,
   "id": "3da6592e",
   "metadata": {},
   "outputs": [
    {
     "name": "stdout",
     "output_type": "stream",
     "text": [
      "Erreur : Division par une chaîne de caractères.\n"
     ]
    }
   ],
   "source": [
    "\n",
    "\n",
    "\n",
    "# Exemple 6: Division par une chaîne de caractères\n",
    "try:\n",
    "    result = 10 / \"2\"\n",
    "except TypeError:\n",
    "    print(\"Erreur : Division par une chaîne de caractères.\")"
   ]
  },
  {
   "cell_type": "code",
   "execution_count": 5,
   "id": "c40cc01f-3256-420a-99a3-676a2472a795",
   "metadata": {
    "tags": []
   },
   "outputs": [],
   "source": [
    "result = 10 / \"2\""
   ]
  },
  {
   "cell_type": "code",
   "execution_count": 9,
   "id": "502d3c88",
   "metadata": {},
   "outputs": [
    {
     "name": "stdout",
     "output_type": "stream",
     "text": [
      "Erreur : Méthode non existante.\n"
     ]
    }
   ],
   "source": [
    "\n",
    "# Exemple 7: Utilisation d'une méthode non existante\n",
    "try:\n",
    "    my_dict = {\"key\": \"value\"}\n",
    "    value = my_dict.get(\"nonexistent_key\").upper()\n",
    "except AttributeError:\n",
    "    print(\"Erreur : Méthode non existante.\")"
   ]
  },
  {
   "cell_type": "code",
   "execution_count": 21,
   "id": "440c5a2c-7f13-469e-857a-7ff390527c08",
   "metadata": {
    "tags": []
   },
   "outputs": [
    {
     "data": {
      "text/plain": [
       "'TOU'"
      ]
     },
     "execution_count": 21,
     "metadata": {},
     "output_type": "execute_result"
    }
   ],
   "source": [
    "my_dict = {\"key\": \"fatou\"}\n",
    "value = my_dict.get(\"key\").upper()[2:]\n",
    "value"
   ]
  },
  {
   "cell_type": "code",
   "execution_count": 19,
   "id": "4f4b3e09-733e-4bed-9d9f-d1b54d8ed19c",
   "metadata": {
    "tags": []
   },
   "outputs": [
    {
     "data": {
      "text/plain": [
       "'T'"
      ]
     },
     "execution_count": 19,
     "metadata": {},
     "output_type": "execute_result"
    }
   ],
   "source": []
  },
  {
   "cell_type": "code",
   "execution_count": 10,
   "id": "a964215e",
   "metadata": {},
   "outputs": [
    {
     "name": "stdout",
     "output_type": "stream",
     "text": [
      "Erreur : Permission refusée pour l'écriture.\n"
     ]
    }
   ],
   "source": [
    "\n",
    "# Exemple 8: Tentative d'ouverture d'un fichier en écriture sans permission\n",
    "try:\n",
    "    with open(\"/etc/some_protected_file.txt\", \"w\") as file:\n",
    "        file.write(\"Contenu.\")\n",
    "except PermissionError:\n",
    "    print(\"Erreur : Permission refusée pour l'écriture.\")"
   ]
  },
  {
   "cell_type": "code",
   "execution_count": 11,
   "id": "dbe8452a",
   "metadata": {},
   "outputs": [
    {
     "name": "stdout",
     "output_type": "stream",
     "text": [
      "Erreur : Division par zéro avec des nombres complexes.\n"
     ]
    }
   ],
   "source": [
    "\n",
    "\n",
    "# Exemple 9: Division par zéro avec des nombres complexes\n",
    "try:\n",
    "    result = 1 + 2j / 0\n",
    "except ZeroDivisionError:\n",
    "    print(\"Erreur : Division par zéro avec des nombres complexes.\")"
   ]
  },
  {
   "cell_type": "code",
   "execution_count": 29,
   "id": "b2df6402",
   "metadata": {},
   "outputs": [
    {
     "ename": "TypeError",
     "evalue": "'str' object cannot be interpreted as an integer",
     "output_type": "error",
     "traceback": [
      "\u001b[0;31m---------------------------------------------------------------------------\u001b[0m",
      "\u001b[0;31mTypeError\u001b[0m                                 Traceback (most recent call last)",
      "Cell \u001b[0;32mIn[29], line 1\u001b[0m\n\u001b[0;32m----> 1\u001b[0m \u001b[38;5;28;01mfor\u001b[39;00m i \u001b[38;5;129;01min\u001b[39;00m \u001b[38;5;28mrange\u001b[39m(\u001b[38;5;124m\"\u001b[39m\u001b[38;5;124minvalid_argument\u001b[39m\u001b[38;5;124m\"\u001b[39m):\n\u001b[1;32m      2\u001b[0m     \u001b[38;5;28mprint\u001b[39m(i)\n",
      "\u001b[0;31mTypeError\u001b[0m: 'str' object cannot be interpreted as an integer"
     ]
    }
   ],
   "source": [
    "    for i in range(\"invalid_argument\"):\n",
    "        print(i)"
   ]
  },
  {
   "cell_type": "code",
   "execution_count": 12,
   "id": "d7ef1cca",
   "metadata": {},
   "outputs": [
    {
     "name": "stdout",
     "output_type": "stream",
     "text": [
      "Erreur : Argument invalide pour la fonction range.\n"
     ]
    }
   ],
   "source": [
    "\n",
    "# Exemple 10: Utilisation incorrecte de la fonction range\n",
    "try:\n",
    "    for i in range(\"invalid_argument\"):\n",
    "        print(i)\n",
    "except TypeError:\n",
    "    print(\"Erreur : Argument invalide pour la fonction range.\")\n"
   ]
  },
  {
   "cell_type": "code",
   "execution_count": 30,
   "id": "937f4e59",
   "metadata": {},
   "outputs": [
    {
     "ename": "KeyError",
     "evalue": "'nonexistent_key'",
     "output_type": "error",
     "traceback": [
      "\u001b[0;31m---------------------------------------------------------------------------\u001b[0m",
      "\u001b[0;31mKeyError\u001b[0m                                  Traceback (most recent call last)",
      "Cell \u001b[0;32mIn[30], line 2\u001b[0m\n\u001b[1;32m      1\u001b[0m my_dict \u001b[38;5;241m=\u001b[39m {\u001b[38;5;124m\"\u001b[39m\u001b[38;5;124mkey\u001b[39m\u001b[38;5;124m\"\u001b[39m: \u001b[38;5;124m\"\u001b[39m\u001b[38;5;124mvalue\u001b[39m\u001b[38;5;124m\"\u001b[39m}\n\u001b[0;32m----> 2\u001b[0m value \u001b[38;5;241m=\u001b[39m my_dict[\u001b[38;5;124m\"\u001b[39m\u001b[38;5;124mnonexistent_key\u001b[39m\u001b[38;5;124m\"\u001b[39m]\n",
      "\u001b[0;31mKeyError\u001b[0m: 'nonexistent_key'"
     ]
    }
   ],
   "source": [
    "    my_dict = {\"key\": \"value\"}\n",
    "    value = my_dict[\"nonexistent_key\"]"
   ]
  },
  {
   "cell_type": "code",
   "execution_count": 13,
   "id": "3f50d3c4",
   "metadata": {},
   "outputs": [
    {
     "name": "stdout",
     "output_type": "stream",
     "text": [
      "Erreur : Clé inexistante dans le dictionnaire.\n"
     ]
    }
   ],
   "source": [
    "# Exemple 11: Utilisation d'une clé inexistante dans un dictionnaire\n",
    "try:\n",
    "    my_dict = {\"key\": \"value\"}\n",
    "    value = my_dict[\"nonexistent_key\"]\n",
    "except KeyError:\n",
    "    print(\"Erreur : Clé inexistante dans le dictionnaire.\")"
   ]
  },
  {
   "cell_type": "code",
   "execution_count": 31,
   "id": "4c1ae780",
   "metadata": {},
   "outputs": [
    {
     "ename": "FileNotFoundError",
     "evalue": "[Errno 2] No such file or directory: 'file_with_invalid_extension.pdf'",
     "output_type": "error",
     "traceback": [
      "\u001b[0;31m---------------------------------------------------------------------------\u001b[0m",
      "\u001b[0;31mFileNotFoundError\u001b[0m                         Traceback (most recent call last)",
      "Cell \u001b[0;32mIn[31], line 1\u001b[0m\n\u001b[0;32m----> 1\u001b[0m \u001b[38;5;28;01mwith\u001b[39;00m \u001b[38;5;28mopen\u001b[39m(\u001b[38;5;124m\"\u001b[39m\u001b[38;5;124mfile_with_invalid_extension.pdf\u001b[39m\u001b[38;5;124m\"\u001b[39m, \u001b[38;5;124m\"\u001b[39m\u001b[38;5;124mr\u001b[39m\u001b[38;5;124m\"\u001b[39m) \u001b[38;5;28;01mas\u001b[39;00m file:\n\u001b[1;32m      2\u001b[0m     content \u001b[38;5;241m=\u001b[39m file\u001b[38;5;241m.\u001b[39mread()\n",
      "File \u001b[0;32m~/anaconda3/lib/python3.11/site-packages/IPython/core/interactiveshell.py:286\u001b[0m, in \u001b[0;36m_modified_open\u001b[0;34m(file, *args, **kwargs)\u001b[0m\n\u001b[1;32m    279\u001b[0m \u001b[38;5;28;01mif\u001b[39;00m file \u001b[38;5;129;01min\u001b[39;00m {\u001b[38;5;241m0\u001b[39m, \u001b[38;5;241m1\u001b[39m, \u001b[38;5;241m2\u001b[39m}:\n\u001b[1;32m    280\u001b[0m     \u001b[38;5;28;01mraise\u001b[39;00m \u001b[38;5;167;01mValueError\u001b[39;00m(\n\u001b[1;32m    281\u001b[0m         \u001b[38;5;124mf\u001b[39m\u001b[38;5;124m\"\u001b[39m\u001b[38;5;124mIPython won\u001b[39m\u001b[38;5;124m'\u001b[39m\u001b[38;5;124mt let you open fd=\u001b[39m\u001b[38;5;132;01m{\u001b[39;00mfile\u001b[38;5;132;01m}\u001b[39;00m\u001b[38;5;124m by default \u001b[39m\u001b[38;5;124m\"\u001b[39m\n\u001b[1;32m    282\u001b[0m         \u001b[38;5;124m\"\u001b[39m\u001b[38;5;124mas it is likely to crash IPython. If you know what you are doing, \u001b[39m\u001b[38;5;124m\"\u001b[39m\n\u001b[1;32m    283\u001b[0m         \u001b[38;5;124m\"\u001b[39m\u001b[38;5;124myou can use builtins\u001b[39m\u001b[38;5;124m'\u001b[39m\u001b[38;5;124m open.\u001b[39m\u001b[38;5;124m\"\u001b[39m\n\u001b[1;32m    284\u001b[0m     )\n\u001b[0;32m--> 286\u001b[0m \u001b[38;5;28;01mreturn\u001b[39;00m io_open(file, \u001b[38;5;241m*\u001b[39margs, \u001b[38;5;241m*\u001b[39m\u001b[38;5;241m*\u001b[39mkwargs)\n",
      "\u001b[0;31mFileNotFoundError\u001b[0m: [Errno 2] No such file or directory: 'file_with_invalid_extension.pdf'"
     ]
    }
   ],
   "source": [
    "    with open(\"file_with_invalid_extension.pdf\", \"r\") as file:\n",
    "        content = file.read()"
   ]
  },
  {
   "cell_type": "code",
   "execution_count": 14,
   "id": "934d5467",
   "metadata": {},
   "outputs": [
    {
     "name": "stdout",
     "output_type": "stream",
     "text": [
      "Erreur : Extension de fichier incorrecte.\n"
     ]
    }
   ],
   "source": [
    "# Exemple 12: Ouverture d'un fichier avec une extension incorrecte\n",
    "try:\n",
    "    with open(\"file_with_invalid_extension.pdf\", \"r\") as file:\n",
    "        content = file.read()\n",
    "except IOError:\n",
    "    print(\"Erreur : Extension de fichier incorrecte.\")"
   ]
  },
  {
   "cell_type": "code",
   "execution_count": 15,
   "id": "0dbea97b",
   "metadata": {},
   "outputs": [
    {
     "name": "stdout",
     "output_type": "stream",
     "text": [
      "Erreur : Fonction inexistante.\n"
     ]
    }
   ],
   "source": [
    "# Exemple 13: Appel d'une fonction inexistante\n",
    "try:\n",
    "    result = non_existent_function()\n",
    "except NameError:\n",
    "    print(\"Erreur : Fonction inexistante.\")\n"
   ]
  },
  {
   "cell_type": "code",
   "execution_count": 32,
   "id": "dfe651fd",
   "metadata": {},
   "outputs": [
    {
     "ename": "ZeroDivisionError",
     "evalue": "division by zero",
     "output_type": "error",
     "traceback": [
      "\u001b[0;31m---------------------------------------------------------------------------\u001b[0m",
      "\u001b[0;31mZeroDivisionError\u001b[0m                         Traceback (most recent call last)",
      "Cell \u001b[0;32mIn[32], line 2\u001b[0m\n\u001b[1;32m      1\u001b[0m x \u001b[38;5;241m=\u001b[39m \u001b[38;5;241m0\u001b[39m\n\u001b[0;32m----> 2\u001b[0m result \u001b[38;5;241m=\u001b[39m \u001b[38;5;241m10\u001b[39m \u001b[38;5;241m/\u001b[39m x\n",
      "\u001b[0;31mZeroDivisionError\u001b[0m: division by zero"
     ]
    }
   ],
   "source": [
    "x = 0\n",
    "result = 10 / x"
   ]
  },
  {
   "cell_type": "code",
   "execution_count": 16,
   "id": "3ca436a0",
   "metadata": {},
   "outputs": [
    {
     "name": "stdout",
     "output_type": "stream",
     "text": [
      "Erreur : Division par une variable nulle.\n"
     ]
    }
   ],
   "source": [
    "\n",
    "# Exemple 14: Division par une variable nulle\n",
    "try:\n",
    "    x = 0\n",
    "    result = 10 / x\n",
    "except ZeroDivisionError:\n",
    "    print(\"Erreur : Division par une variable nulle.\")"
   ]
  },
  {
   "cell_type": "code",
   "execution_count": 33,
   "id": "388f2f8a",
   "metadata": {},
   "outputs": [
    {
     "ename": "TypeError",
     "evalue": "can't multiply sequence by non-int of type 'str'",
     "output_type": "error",
     "traceback": [
      "\u001b[0;31m---------------------------------------------------------------------------\u001b[0m",
      "\u001b[0;31mTypeError\u001b[0m                                 Traceback (most recent call last)",
      "Cell \u001b[0;32mIn[33], line 1\u001b[0m\n\u001b[0;32m----> 1\u001b[0m result \u001b[38;5;241m=\u001b[39m \u001b[38;5;124m\"\u001b[39m\u001b[38;5;124mabc\u001b[39m\u001b[38;5;124m\"\u001b[39m \u001b[38;5;241m*\u001b[39m \u001b[38;5;124m\"\u001b[39m\u001b[38;5;124mdef\u001b[39m\u001b[38;5;124m\"\u001b[39m\n",
      "\u001b[0;31mTypeError\u001b[0m: can't multiply sequence by non-int of type 'str'"
     ]
    }
   ],
   "source": [
    "result = \"abc\" * \"def\""
   ]
  },
  {
   "cell_type": "code",
   "execution_count": 17,
   "id": "742dc7b7",
   "metadata": {},
   "outputs": [
    {
     "name": "stdout",
     "output_type": "stream",
     "text": [
      "Erreur : Multiplication de chaînes de caractères non valide.\n"
     ]
    }
   ],
   "source": [
    "\n",
    "\n",
    "# Exemple 15: Utilisation incorrecte de l'opérateur de multiplication\n",
    "try:\n",
    "    result = \"abc\" * \"def\"\n",
    "except TypeError:\n",
    "    print(\"Erreur : Multiplication de chaînes de caractères non valide.\")"
   ]
  },
  {
   "cell_type": "code",
   "execution_count": 34,
   "id": "aa9c6903",
   "metadata": {},
   "outputs": [
    {
     "ename": "TypeError",
     "evalue": "can only concatenate str (not \"int\") to str",
     "output_type": "error",
     "traceback": [
      "\u001b[0;31m---------------------------------------------------------------------------\u001b[0m",
      "\u001b[0;31mTypeError\u001b[0m                                 Traceback (most recent call last)",
      "Cell \u001b[0;32mIn[34], line 1\u001b[0m\n\u001b[0;32m----> 1\u001b[0m result \u001b[38;5;241m=\u001b[39m \u001b[38;5;124m\"\u001b[39m\u001b[38;5;124mabc\u001b[39m\u001b[38;5;124m\"\u001b[39m \u001b[38;5;241m+\u001b[39m \u001b[38;5;241m123\u001b[39m\n",
      "\u001b[0;31mTypeError\u001b[0m: can only concatenate str (not \"int\") to str"
     ]
    }
   ],
   "source": [
    "result = \"abc\" + 123\n"
   ]
  },
  {
   "cell_type": "code",
   "execution_count": 18,
   "id": "49c39a3e",
   "metadata": {},
   "outputs": [
    {
     "name": "stdout",
     "output_type": "stream",
     "text": [
      "Erreur : Opération non supportée entre types.\n"
     ]
    }
   ],
   "source": [
    "# Exemple 16: Opération non supportée entre types\n",
    "try:\n",
    "    result = \"abc\" + 123\n",
    "except TypeError:\n",
    "    print(\"Erreur : Opération non supportée entre types.\")\n"
   ]
  },
  {
   "cell_type": "code",
   "execution_count": 35,
   "id": "bc7d1f87",
   "metadata": {},
   "outputs": [],
   "source": [
    "my_list = list(\"abc\")\n",
    "value = my_list[0]"
   ]
  },
  {
   "cell_type": "code",
   "execution_count": 19,
   "id": "9734e639",
   "metadata": {},
   "outputs": [],
   "source": [
    "\n",
    "\n",
    "# Exemple 17: Tentative de conversion d'une chaîne de caractères en liste\n",
    "try:\n",
    "    my_list = list(\"abc\")\n",
    "    value = my_list[0]\n",
    "except TypeError:\n",
    "    print(\"Erreur : Conversion de chaîne de caractères en liste non valide.\")"
   ]
  },
  {
   "cell_type": "code",
   "execution_count": 36,
   "id": "ccf7f029",
   "metadata": {},
   "outputs": [
    {
     "ename": "TypeError",
     "evalue": "unsupported operand type(s) for /: 'int' and 'str'",
     "output_type": "error",
     "traceback": [
      "\u001b[0;31m---------------------------------------------------------------------------\u001b[0m",
      "\u001b[0;31mTypeError\u001b[0m                                 Traceback (most recent call last)",
      "Cell \u001b[0;32mIn[36], line 2\u001b[0m\n\u001b[1;32m      1\u001b[0m x \u001b[38;5;241m=\u001b[39m \u001b[38;5;124m\"\u001b[39m\u001b[38;5;124mabc\u001b[39m\u001b[38;5;124m\"\u001b[39m\n\u001b[0;32m----> 2\u001b[0m result \u001b[38;5;241m=\u001b[39m \u001b[38;5;241m10\u001b[39m \u001b[38;5;241m/\u001b[39m x\n",
      "\u001b[0;31mTypeError\u001b[0m: unsupported operand type(s) for /: 'int' and 'str'"
     ]
    }
   ],
   "source": [
    "x = \"abc\"\n",
    "result = 10 / x"
   ]
  },
  {
   "cell_type": "code",
   "execution_count": 20,
   "id": "62dbc37e",
   "metadata": {},
   "outputs": [
    {
     "name": "stdout",
     "output_type": "stream",
     "text": [
      "Erreur : Division par une variable non numérique.\n"
     ]
    }
   ],
   "source": [
    "# Exemple 18: Division par une variable non numérique\n",
    "try:\n",
    "    x = \"abc\"\n",
    "    result = 10 / x\n",
    "except TypeError:\n",
    "    print(\"Erreur : Division par une variable non numérique.\")\n"
   ]
  },
  {
   "cell_type": "code",
   "execution_count": 37,
   "id": "d5f607a4",
   "metadata": {},
   "outputs": [
    {
     "ename": "AttributeError",
     "evalue": "'tuple' object has no attribute 'append'",
     "output_type": "error",
     "traceback": [
      "\u001b[0;31m---------------------------------------------------------------------------\u001b[0m",
      "\u001b[0;31mAttributeError\u001b[0m                            Traceback (most recent call last)",
      "Cell \u001b[0;32mIn[37], line 2\u001b[0m\n\u001b[1;32m      1\u001b[0m my_tuple \u001b[38;5;241m=\u001b[39m (\u001b[38;5;241m1\u001b[39m, \u001b[38;5;241m2\u001b[39m, \u001b[38;5;241m3\u001b[39m)\n\u001b[0;32m----> 2\u001b[0m my_tuple\u001b[38;5;241m.\u001b[39mappend(\u001b[38;5;241m4\u001b[39m)\n",
      "\u001b[0;31mAttributeError\u001b[0m: 'tuple' object has no attribute 'append'"
     ]
    }
   ],
   "source": [
    "my_tuple = (1, 2, 3)\n",
    "my_tuple.append(4)"
   ]
  },
  {
   "cell_type": "code",
   "execution_count": 21,
   "id": "5c9a25f6",
   "metadata": {},
   "outputs": [
    {
     "name": "stdout",
     "output_type": "stream",
     "text": [
      "Erreur : Méthode append() sur un tuple non autorisé.\n"
     ]
    }
   ],
   "source": [
    "# Exemple 19: Utilisation d'une méthode sur un objet non mutable\n",
    "try:\n",
    "    my_tuple = (1, 2, 3)\n",
    "    my_tuple.append(4)\n",
    "except AttributeError:\n",
    "    print(\"Erreur : Méthode append() sur un tuple non autorisé.\")"
   ]
  },
  {
   "cell_type": "code",
   "execution_count": 23,
   "id": "eb2d0024",
   "metadata": {},
   "outputs": [
    {
     "ename": "ModuleNotFoundError",
     "evalue": "No module named 'non_existent_library'",
     "output_type": "error",
     "traceback": [
      "\u001b[0;31m---------------------------------------------------------------------------\u001b[0m",
      "\u001b[0;31mModuleNotFoundError\u001b[0m                       Traceback (most recent call last)",
      "Cell \u001b[0;32mIn[23], line 1\u001b[0m\n\u001b[0;32m----> 1\u001b[0m \u001b[38;5;28;01mimport\u001b[39;00m \u001b[38;5;21;01mnon_existent_library\u001b[39;00m\n",
      "\u001b[0;31mModuleNotFoundError\u001b[0m: No module named 'non_existent_library'"
     ]
    }
   ],
   "source": [
    "import non_existent_library"
   ]
  },
  {
   "cell_type": "code",
   "execution_count": 22,
   "id": "71dc2dfa",
   "metadata": {},
   "outputs": [
    {
     "name": "stdout",
     "output_type": "stream",
     "text": [
      "Erreur : Bibliothèque non installée.\n"
     ]
    }
   ],
   "source": [
    "\n",
    "# Exemple 20: Utilisation d'une bibliothèque non installée\n",
    "try:\n",
    "    import non_existent_library\n",
    "except ModuleNotFoundError:\n",
    "    print(\"Erreur : Bibliothèque non installée.\")\n",
    "\n",
    "\n",
    "\n",
    "\n",
    "\n"
   ]
  },
  {
   "cell_type": "code",
   "execution_count": null,
   "id": "ca485446",
   "metadata": {},
   "outputs": [],
   "source": []
  }
 ],
 "metadata": {
  "kernelspec": {
   "display_name": "base",
   "language": "python",
   "name": "python3"
  },
  "language_info": {
   "codemirror_mode": {
    "name": "ipython",
    "version": 3
   },
   "file_extension": ".py",
   "mimetype": "text/x-python",
   "name": "python",
   "nbconvert_exporter": "python",
   "pygments_lexer": "ipython3",
   "version": "3.11.6"
  }
 },
 "nbformat": 4,
 "nbformat_minor": 5
}
