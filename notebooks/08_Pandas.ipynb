{
 "cells": [
  {
   "cell_type": "markdown",
   "id": "fee5f10a",
   "metadata": {},
   "source": [
    "# Pandas pour l'Analyse des Données"
   ]
  },
  {
   "cell_type": "markdown",
   "id": "a671e4d2",
   "metadata": {},
   "source": [
    "\n",
    "## Introduction\n",
    "`Pandas` est une bibliothèque open-source en Python offrant des structures de données flexibles et performantes pour l'analyse des données. Elle repose sur deux structures principales : les `Series` et les `DataFrames`. Pandas est largement utilisé dans le domaine de la science des données en raison de sa simplicité et de sa puissance.\n",
    "\n"
   ]
  },
  {
   "cell_type": "markdown",
   "id": "56036859",
   "metadata": {},
   "source": [
    "## Les Series\n",
    "Une `Series` est un tableau unidimensionnel capable de stocker n'importe quel type de données. Elle est munie d'une étiquette associée à chaque élément, appelée `index`. Créons une Series simple :"
   ]
  },
  {
   "cell_type": "code",
   "execution_count": 3,
   "id": "bc4e8267",
   "metadata": {},
   "outputs": [
    {
     "name": "stdout",
     "output_type": "stream",
     "text": [
      "0    1.0\n",
      "1    3.0\n",
      "2    5.0\n",
      "3    NaN\n",
      "4    6.0\n",
      "5    8.0\n",
      "dtype: float64\n"
     ]
    }
   ],
   "source": [
    "import pandas as pd\n",
    "import numpy as np\n",
    "\n",
    "\n",
    "# Création d'une Series\n",
    "s = pd.Series([1, 3, 5, np.nan, 6, 8])\n",
    "\n",
    "# Affichage de la Series\n",
    "print(s)"
   ]
  },
  {
   "cell_type": "code",
   "execution_count": 13,
   "id": "52da797e-e029-4024-b47e-90ede8040f0a",
   "metadata": {
    "tags": []
   },
   "outputs": [
    {
     "data": {
      "text/plain": [
       "0    1.0\n",
       "1    3.0\n",
       "2    NaN\n",
       "dtype: float64"
      ]
     },
     "execution_count": 13,
     "metadata": {},
     "output_type": "execute_result"
    }
   ],
   "source": [
    "import pandas as pd\n",
    "pd.Series([1,3,np.nan]) \n"
   ]
  },
  {
   "cell_type": "code",
   "execution_count": 14,
   "id": "1883331a-2136-4c2d-b9e3-86b40027cd49",
   "metadata": {
    "tags": []
   },
   "outputs": [
    {
     "data": {
      "text/plain": [
       "a    1\n",
       "b    3\n",
       "c    5\n",
       "dtype: int64"
      ]
     },
     "execution_count": 14,
     "metadata": {},
     "output_type": "execute_result"
    }
   ],
   "source": [
    "pd.Series([1,3,5], index=['a','b','c'])\n"
   ]
  },
  {
   "cell_type": "code",
   "execution_count": 15,
   "id": "83db9d08-b337-414a-a0db-9b4357b07bd2",
   "metadata": {
    "tags": []
   },
   "outputs": [
    {
     "data": {
      "text/plain": [
       "a    1\n",
       "b    2\n",
       "c    3\n",
       "dtype: int64"
      ]
     },
     "execution_count": 15,
     "metadata": {},
     "output_type": "execute_result"
    }
   ],
   "source": [
    "pd.Series({'a' : 1, 'b': 2, 'c': 3 }) \n"
   ]
  },
  {
   "cell_type": "code",
   "execution_count": 16,
   "id": "3daba384-7d50-4b23-ad4d-d2cfc0c55626",
   "metadata": {
    "tags": []
   },
   "outputs": [
    {
     "data": {
      "text/plain": [
       "b    2.0\n",
       "c    3.0\n",
       "d    NaN\n",
       "dtype: float64"
      ]
     },
     "execution_count": 16,
     "metadata": {},
     "output_type": "execute_result"
    }
   ],
   "source": [
    "pd.Series({'a' : 1, 'b': 2, 'c': 3 }, index = ['b', 'c', 'd']) "
   ]
  },
  {
   "cell_type": "code",
   "execution_count": 18,
   "id": "02de95aa-0078-40a8-8c0f-333e7a0dc958",
   "metadata": {
    "tags": []
   },
   "outputs": [
    {
     "data": {
      "text/plain": [
       "Andre      3200.0\n",
       "Cecilia       NaN\n",
       "John       1100.0\n",
       "Mary          NaN\n",
       "dtype: float64"
      ]
     },
     "execution_count": 18,
     "metadata": {},
     "output_type": "execute_result"
    }
   ],
   "source": [
    "a = pd.Series({'John' : 1000, 'Mary': 2000, 'Andre': 3000 })\n",
    "b = pd.Series({'John' : 100, 'Andre': 200, 'Cecilia': 300 })\n",
    "a + b"
   ]
  },
  {
   "cell_type": "markdown",
   "id": "317237dd",
   "metadata": {},
   "source": [
    "##  Les DataFrames\n",
    "\n",
    "Un `DataFrame` est une structure de données bidimensionnelle, similaire à une table dans une base de données relationnelle. Il est composé de Series alignées le long d'un même index. Créons un DataFrame :\n",
    "\n"
   ]
  },
  {
   "cell_type": "code",
   "execution_count": 5,
   "id": "87f7281a",
   "metadata": {
    "scrolled": true
   },
   "outputs": [
    {
     "name": "stdout",
     "output_type": "stream",
     "text": [
      "                   A         B         C         D\n",
      "2022-01-01  0.459572 -0.265237 -1.056807 -0.093476\n",
      "2022-01-02 -0.209118  1.626959 -0.598835 -0.142243\n",
      "2022-01-03  0.020777  1.090397  1.401526  1.254832\n",
      "2022-01-04 -0.527812  0.861080 -2.303418 -0.393297\n",
      "2022-01-05 -0.459026 -1.639215 -0.531742 -0.443718\n",
      "2022-01-06 -0.755391 -0.848334  0.207046 -0.156427\n"
     ]
    }
   ],
   "source": [
    "import pandas as pd\n",
    "import numpy as np\n",
    "\n",
    "# Création d'un DataFrame avec un index personnalisé\n",
    "dates = pd.date_range('20220101', periods=6)\n",
    "df = pd.DataFrame(np.random.randn(6, 4), index=dates, columns=list('ABCD'))\n",
    "\n",
    "# Affichage du DataFrame\n",
    "print(df)\n"
   ]
  },
  {
   "cell_type": "code",
   "execution_count": 19,
   "id": "703b476a-e6a4-4b86-b92a-6b6ad7569deb",
   "metadata": {
    "tags": []
   },
   "outputs": [
    {
     "data": {
      "text/html": [
       "<div>\n",
       "<style scoped>\n",
       "    .dataframe tbody tr th:only-of-type {\n",
       "        vertical-align: middle;\n",
       "    }\n",
       "\n",
       "    .dataframe tbody tr th {\n",
       "        vertical-align: top;\n",
       "    }\n",
       "\n",
       "    .dataframe thead th {\n",
       "        text-align: right;\n",
       "    }\n",
       "</style>\n",
       "<table border=\"1\" class=\"dataframe\">\n",
       "  <thead>\n",
       "    <tr style=\"text-align: right;\">\n",
       "      <th></th>\n",
       "      <th>year</th>\n",
       "      <th>state</th>\n",
       "      <th>pop</th>\n",
       "      <th>color</th>\n",
       "    </tr>\n",
       "  </thead>\n",
       "  <tbody>\n",
       "    <tr>\n",
       "      <th>0</th>\n",
       "      <td>2000</td>\n",
       "      <td>Ohio</td>\n",
       "      <td>1.5</td>\n",
       "      <td>NaN</td>\n",
       "    </tr>\n",
       "    <tr>\n",
       "      <th>1</th>\n",
       "      <td>2001</td>\n",
       "      <td>Ohio</td>\n",
       "      <td>1.7</td>\n",
       "      <td>NaN</td>\n",
       "    </tr>\n",
       "    <tr>\n",
       "      <th>2</th>\n",
       "      <td>2001</td>\n",
       "      <td>Nevada</td>\n",
       "      <td>2.4</td>\n",
       "      <td>NaN</td>\n",
       "    </tr>\n",
       "    <tr>\n",
       "      <th>3</th>\n",
       "      <td>2002</td>\n",
       "      <td>Nevada</td>\n",
       "      <td>2.9</td>\n",
       "      <td>NaN</td>\n",
       "    </tr>\n",
       "  </tbody>\n",
       "</table>\n",
       "</div>"
      ],
      "text/plain": [
       "   year   state  pop color\n",
       "0  2000    Ohio  1.5   NaN\n",
       "1  2001    Ohio  1.7   NaN\n",
       "2  2001  Nevada  2.4   NaN\n",
       "3  2002  Nevada  2.9   NaN"
      ]
     },
     "execution_count": 19,
     "metadata": {},
     "output_type": "execute_result"
    }
   ],
   "source": [
    "data = {'state': ['Ohio', 'Ohio', 'Nevada', 'Nevada'], 'year': [2000, 2001, 2001, 2002],\n",
    "'pop': [1.5, 1.7, 2.4, 2.9]}\n",
    "pd.DataFrame(data)\n",
    "pd.DataFrame(data, columns=['year', 'state', 'pop', 'color']) "
   ]
  },
  {
   "cell_type": "code",
   "execution_count": 20,
   "id": "afd6e7d2-109d-4a8e-ba8b-3031c93cc826",
   "metadata": {
    "tags": []
   },
   "outputs": [
    {
     "data": {
      "text/html": [
       "<div>\n",
       "<style scoped>\n",
       "    .dataframe tbody tr th:only-of-type {\n",
       "        vertical-align: middle;\n",
       "    }\n",
       "\n",
       "    .dataframe tbody tr th {\n",
       "        vertical-align: top;\n",
       "    }\n",
       "\n",
       "    .dataframe thead th {\n",
       "        text-align: right;\n",
       "    }\n",
       "</style>\n",
       "<table border=\"1\" class=\"dataframe\">\n",
       "  <thead>\n",
       "    <tr style=\"text-align: right;\">\n",
       "      <th></th>\n",
       "      <th>A</th>\n",
       "      <th>B</th>\n",
       "      <th>C</th>\n",
       "      <th>D</th>\n",
       "    </tr>\n",
       "  </thead>\n",
       "  <tbody>\n",
       "    <tr>\n",
       "      <th>2013-01-01</th>\n",
       "      <td>0.231020</td>\n",
       "      <td>-0.588933</td>\n",
       "      <td>0.250437</td>\n",
       "      <td>-0.942759</td>\n",
       "    </tr>\n",
       "    <tr>\n",
       "      <th>2013-01-02</th>\n",
       "      <td>-0.470619</td>\n",
       "      <td>0.921444</td>\n",
       "      <td>1.785604</td>\n",
       "      <td>-0.247845</td>\n",
       "    </tr>\n",
       "    <tr>\n",
       "      <th>2013-01-03</th>\n",
       "      <td>-1.477846</td>\n",
       "      <td>0.204761</td>\n",
       "      <td>-0.719447</td>\n",
       "      <td>0.854672</td>\n",
       "    </tr>\n",
       "    <tr>\n",
       "      <th>2013-01-04</th>\n",
       "      <td>0.152724</td>\n",
       "      <td>1.835982</td>\n",
       "      <td>0.146090</td>\n",
       "      <td>0.260882</td>\n",
       "    </tr>\n",
       "  </tbody>\n",
       "</table>\n",
       "</div>"
      ],
      "text/plain": [
       "                   A         B         C         D\n",
       "2013-01-01  0.231020 -0.588933  0.250437 -0.942759\n",
       "2013-01-02 -0.470619  0.921444  1.785604 -0.247845\n",
       "2013-01-03 -1.477846  0.204761 -0.719447  0.854672\n",
       "2013-01-04  0.152724  1.835982  0.146090  0.260882"
      ]
     },
     "execution_count": 20,
     "metadata": {},
     "output_type": "execute_result"
    }
   ],
   "source": [
    "dates = pd.date_range('20130101',periods=4)\n",
    "df = pd.DataFrame(np.random.randn(4,4),index=dates,columns=list('ABCD'))\n",
    "df"
   ]
  },
  {
   "cell_type": "code",
   "execution_count": 21,
   "id": "503ab7d4-4bca-495a-a85e-1d3a45618c90",
   "metadata": {
    "tags": []
   },
   "outputs": [
    {
     "data": {
      "text/plain": [
       "array([[ 0.23101972, -0.58893335,  0.25043721, -0.94275859],\n",
       "       [-0.47061902,  0.92144412,  1.78560442, -0.24784529],\n",
       "       [-1.47784617,  0.20476083, -0.71944687,  0.85467181],\n",
       "       [ 0.15272393,  1.83598178,  0.14609042,  0.26088161]])"
      ]
     },
     "execution_count": 21,
     "metadata": {},
     "output_type": "execute_result"
    }
   ],
   "source": [
    "df.index\n",
    "df.columns\n",
    "df.values"
   ]
  },
  {
   "cell_type": "code",
   "execution_count": 22,
   "id": "9a0b076c-8dc6-473a-83e0-c82d67d229e4",
   "metadata": {
    "tags": []
   },
   "outputs": [],
   "source": [
    "df.to_csv('data.csv', index=False) # Don't export the row index\n",
    "dfs = pd.read_csv('data.csv')\n",
    "dfs\n",
    "dfs.at[0, 'A'] = 10 # Set value in row 0, column 'A' to '10'\n",
    "dfs.to_csv('data.csv', index=False)"
   ]
  },
  {
   "cell_type": "markdown",
   "id": "57c7b5ac",
   "metadata": {},
   "source": [
    "## Exploration des Données avec Pandas\n",
    "Pandas offre de nombreuses fonctionnalités pour explorer et manipuler les données :\n",
    "\n",
    "### Sélection de Colonnes"
   ]
  },
  {
   "cell_type": "code",
   "execution_count": 23,
   "id": "426e1869",
   "metadata": {},
   "outputs": [
    {
     "name": "stdout",
     "output_type": "stream",
     "text": [
      "2013-01-01    0.231020\n",
      "2013-01-02   -0.470619\n",
      "2013-01-03   -1.477846\n",
      "2013-01-04    0.152724\n",
      "Freq: D, Name: A, dtype: float64\n"
     ]
    }
   ],
   "source": [
    "# Sélection d'une colonne par son nom\n",
    "\n",
    "column_A = df['A']\n",
    "print(column_A)"
   ]
  },
  {
   "cell_type": "markdown",
   "id": "61821544-baf4-451f-af5f-53c98504c276",
   "metadata": {},
   "source": [
    "## Simple operations"
   ]
  },
  {
   "cell_type": "code",
   "execution_count": null,
   "id": "f01ad62a-56a4-419d-87b6-84920ed906ef",
   "metadata": {},
   "outputs": [],
   "source": [
    "df.head() # First 5 rows\n",
    "df.tail() # Last 5 rows"
   ]
  },
  {
   "cell_type": "markdown",
   "id": "220fc259",
   "metadata": {},
   "source": [
    "### Sélection de lignes par Index"
   ]
  },
  {
   "cell_type": "code",
   "execution_count": 7,
   "id": "f953fec8",
   "metadata": {},
   "outputs": [
    {
     "name": "stdout",
     "output_type": "stream",
     "text": [
      "A   -0.209118\n",
      "B    1.626959\n",
      "C   -0.598835\n",
      "D   -0.142243\n",
      "Name: 2022-01-02 00:00:00, dtype: float64\n"
     ]
    }
   ],
   "source": [
    "\n",
    "# Sélection d'une ligne par son index\n",
    "row_one = df.loc['20220102']\n",
    "print(row_one)"
   ]
  },
  {
   "cell_type": "code",
   "execution_count": null,
   "id": "6a017075-016f-41a6-abfe-bb66031f7bcf",
   "metadata": {},
   "outputs": [],
   "source": [
    "df[0:2]          # Obtenir les lignes par numéro d'index\n",
    "df.iloc[0:2, 0:2] # Obtenir les lignes et colonnes par numéro d'index\n",
    "df['20130102':'20130103']                # ou par libellé de ligne\n",
    "df.loc['20130101':'20130103', ['A','B']] # ou par libellé de ligne et de colonne\n"
   ]
  },
  {
   "cell_type": "markdown",
   "id": "fc598a6e-1dd3-4f47-880a-e9e8dca168a2",
   "metadata": {},
   "source": [
    "# Transpose"
   ]
  },
  {
   "cell_type": "code",
   "execution_count": null,
   "id": "7561842e-1b65-4815-89df-21ccc8b9f4e9",
   "metadata": {},
   "outputs": [],
   "source": [
    "# Transpose\n",
    "df.T"
   ]
  },
  {
   "cell_type": "code",
   "execution_count": null,
   "id": "309f92d0-13f9-4cd6-a2a7-5ca0ba7a31f1",
   "metadata": {},
   "outputs": [],
   "source": [
    "df\n",
    "df.sort_index(axis=1, ascending=False) # Sort by index labels\n",
    "df.sort_values(by='B') # Sort by values"
   ]
  },
  {
   "cell_type": "markdown",
   "id": "51685f55",
   "metadata": {},
   "source": [
    "### Filtrage des Données\n"
   ]
  },
  {
   "cell_type": "code",
   "execution_count": 8,
   "id": "1443a115",
   "metadata": {},
   "outputs": [
    {
     "name": "stdout",
     "output_type": "stream",
     "text": [
      "                   A         B         C         D\n",
      "2022-01-01  0.459572 -0.265237 -1.056807 -0.093476\n",
      "2022-01-03  0.020777  1.090397  1.401526  1.254832\n"
     ]
    }
   ],
   "source": [
    "# Filtrage des données basé sur une condition\n",
    "filtered_data = df[df['A'] > 0]\n",
    "print(filtered_data)"
   ]
  },
  {
   "cell_type": "markdown",
   "id": "ce6d5453",
   "metadata": {},
   "source": [
    "### Statistiques Sommaires\n"
   ]
  },
  {
   "cell_type": "code",
   "execution_count": 9,
   "id": "961fbe2f",
   "metadata": {},
   "outputs": [
    {
     "name": "stdout",
     "output_type": "stream",
     "text": [
      "              A         B         C         D\n",
      "count  6.000000  6.000000  6.000000  6.000000\n",
      "mean  -0.245166  0.137608 -0.480372  0.004278\n",
      "std    0.436952  1.260226  1.239882  0.629206\n",
      "min   -0.755391 -1.639215 -2.303418 -0.443718\n",
      "25%   -0.510616 -0.702560 -0.942314 -0.334080\n",
      "50%   -0.334072  0.297921 -0.565289 -0.149335\n",
      "75%   -0.036697  1.033067  0.022349 -0.105668\n",
      "max    0.459572  1.626959  1.401526  1.254832\n"
     ]
    }
   ],
   "source": [
    "# Calcul des statistiques sommaires\n",
    "summary_stats = df.describe()\n",
    "print(summary_stats)"
   ]
  },
  {
   "cell_type": "code",
   "execution_count": null,
   "id": "85889337-7ed9-40a6-ba91-710f46558bb5",
   "metadata": {},
   "outputs": [],
   "source": [
    "df.mean()       # Moyenne de toutes les valeurs par colonne\n",
    "df.mean(axis=1) # Autre axe : moyennes par ligne\n"
   ]
  },
  {
   "cell_type": "code",
   "execution_count": null,
   "id": "0d83e269-91fb-4924-8644-2fa2396c53e4",
   "metadata": {},
   "outputs": [],
   "source": []
  },
  {
   "cell_type": "markdown",
   "id": "1a689cf3",
   "metadata": {},
   "source": [
    "### Manipulation des Données avec Pandas\n",
    "Pandas offre également des fonctionnalités puissantes pour manipuler les données, notamment la fusion, le regroupement, et la gestion des valeurs manquantes.\n"
   ]
  },
  {
   "cell_type": "markdown",
   "id": "4750125f",
   "metadata": {},
   "source": [
    "### Fusion de DataFrames"
   ]
  },
  {
   "cell_type": "code",
   "execution_count": 27,
   "id": "85c1b657-da2c-41a9-bb07-93081458d5f3",
   "metadata": {
    "tags": []
   },
   "outputs": [],
   "source": [
    "df = pd.DataFrame(np.random.randn(2, 4))\n",
    "s = pd.DataFrame(np.random.randn(1,4))\n",
    "df = pd.concat([df,s], ignore_index=True)"
   ]
  },
  {
   "cell_type": "code",
   "execution_count": 28,
   "id": "debffde0-7f27-4a0b-a1ba-6d5ef5537026",
   "metadata": {
    "tags": []
   },
   "outputs": [
    {
     "data": {
      "text/html": [
       "<div>\n",
       "<style scoped>\n",
       "    .dataframe tbody tr th:only-of-type {\n",
       "        vertical-align: middle;\n",
       "    }\n",
       "\n",
       "    .dataframe tbody tr th {\n",
       "        vertical-align: top;\n",
       "    }\n",
       "\n",
       "    .dataframe thead th {\n",
       "        text-align: right;\n",
       "    }\n",
       "</style>\n",
       "<table border=\"1\" class=\"dataframe\">\n",
       "  <thead>\n",
       "    <tr style=\"text-align: right;\">\n",
       "      <th></th>\n",
       "      <th>key</th>\n",
       "      <th>data1</th>\n",
       "      <th>data2</th>\n",
       "    </tr>\n",
       "  </thead>\n",
       "  <tbody>\n",
       "    <tr>\n",
       "      <th>0</th>\n",
       "      <td>b</td>\n",
       "      <td>0</td>\n",
       "      <td>1</td>\n",
       "    </tr>\n",
       "    <tr>\n",
       "      <th>1</th>\n",
       "      <td>b</td>\n",
       "      <td>1</td>\n",
       "      <td>1</td>\n",
       "    </tr>\n",
       "    <tr>\n",
       "      <th>2</th>\n",
       "      <td>a</td>\n",
       "      <td>2</td>\n",
       "      <td>0</td>\n",
       "    </tr>\n",
       "  </tbody>\n",
       "</table>\n",
       "</div>"
      ],
      "text/plain": [
       "  key  data1  data2\n",
       "0   b      0      1\n",
       "1   b      1      1\n",
       "2   a      2      0"
      ]
     },
     "execution_count": 28,
     "metadata": {},
     "output_type": "execute_result"
    }
   ],
   "source": [
    "df1 = pd.DataFrame({'key': ['b', 'b', 'a'], 'data1': range(3)}) \n",
    "df2 = pd.DataFrame({'key': ['a', 'b'], 'data2': range(2)})\n",
    "df1\n",
    "df2\n",
    "pd.merge(df1, df2)"
   ]
  },
  {
   "cell_type": "code",
   "execution_count": 10,
   "id": "44a62d28",
   "metadata": {},
   "outputs": [
    {
     "name": "stdout",
     "output_type": "stream",
     "text": [
      "  key  value_x  value_y\n",
      "0   B        2        5\n",
      "1   D        4        6\n"
     ]
    }
   ],
   "source": [
    "# Fusion de deux DataFrames\n",
    "df1 = pd.DataFrame({'key': ['A', 'B', 'C', 'D'], 'value': [1, 2, 3, 4]})\n",
    "df2 = pd.DataFrame({'key': ['B', 'D', 'E', 'F'], 'value': [5, 6, 7, 8]})\n",
    "merged_df = pd.merge(df1, df2, on='key')\n",
    "print(merged_df)"
   ]
  },
  {
   "cell_type": "markdown",
   "id": "3df08b31",
   "metadata": {},
   "source": [
    "\n",
    "### Regroupement de Données\n"
   ]
  },
  {
   "cell_type": "code",
   "execution_count": 11,
   "id": "b1491529",
   "metadata": {},
   "outputs": [
    {
     "name": "stdout",
     "output_type": "stream",
     "text": [
      "                  B         C         D\n",
      "A                                      \n",
      "-0.755391 -0.848334  0.207046 -0.156427\n",
      "-0.527812  0.861080 -2.303418 -0.393297\n",
      "-0.459026 -1.639215 -0.531742 -0.443718\n",
      "-0.209118  1.626959 -0.598835 -0.142243\n",
      " 0.020777  1.090397  1.401526  1.254832\n",
      " 0.459572 -0.265237 -1.056807 -0.093476\n"
     ]
    }
   ],
   "source": [
    "# Regroupement des données par une colonne\n",
    "grouped_data = df.groupby('A').sum()\n",
    "print(grouped_data)"
   ]
  },
  {
   "cell_type": "code",
   "execution_count": 25,
   "id": "f658b88f-ee53-47ce-8bff-a969e4e6d579",
   "metadata": {
    "tags": []
   },
   "outputs": [
    {
     "data": {
      "text/html": [
       "<div>\n",
       "<style scoped>\n",
       "    .dataframe tbody tr th:only-of-type {\n",
       "        vertical-align: middle;\n",
       "    }\n",
       "\n",
       "    .dataframe tbody tr th {\n",
       "        vertical-align: top;\n",
       "    }\n",
       "\n",
       "    .dataframe thead th {\n",
       "        text-align: right;\n",
       "    }\n",
       "</style>\n",
       "<table border=\"1\" class=\"dataframe\">\n",
       "  <thead>\n",
       "    <tr style=\"text-align: right;\">\n",
       "      <th></th>\n",
       "      <th>B</th>\n",
       "      <th>C</th>\n",
       "      <th>D</th>\n",
       "    </tr>\n",
       "    <tr>\n",
       "      <th>A</th>\n",
       "      <th></th>\n",
       "      <th></th>\n",
       "      <th></th>\n",
       "    </tr>\n",
       "  </thead>\n",
       "  <tbody>\n",
       "    <tr>\n",
       "      <th>bar</th>\n",
       "      <td>onethree</td>\n",
       "      <td>0.247963</td>\n",
       "      <td>-1.615668</td>\n",
       "    </tr>\n",
       "    <tr>\n",
       "      <th>foo</th>\n",
       "      <td>onetwo</td>\n",
       "      <td>0.430341</td>\n",
       "      <td>-0.062749</td>\n",
       "    </tr>\n",
       "  </tbody>\n",
       "</table>\n",
       "</div>"
      ],
      "text/plain": [
       "            B         C         D\n",
       "A                                \n",
       "bar  onethree  0.247963 -1.615668\n",
       "foo    onetwo  0.430341 -0.062749"
      ]
     },
     "execution_count": 25,
     "metadata": {},
     "output_type": "execute_result"
    }
   ],
   "source": [
    "df = pd.DataFrame({'A' : ['foo', 'bar', 'foo', 'bar'], 'B' : ['one', 'one', 'two', 'three'],\n",
    "                   'C' : np.random.randn(4), 'D' : np.random.randn(4)})\n",
    "\n",
    "\n",
    "df.groupby('A').sum()\n"
   ]
  },
  {
   "cell_type": "code",
   "execution_count": 26,
   "id": "a35912ce-c8c8-4b34-a26c-d0aef0fb70c5",
   "metadata": {
    "tags": []
   },
   "outputs": [
    {
     "data": {
      "text/html": [
       "<div>\n",
       "<style scoped>\n",
       "    .dataframe tbody tr th:only-of-type {\n",
       "        vertical-align: middle;\n",
       "    }\n",
       "\n",
       "    .dataframe tbody tr th {\n",
       "        vertical-align: top;\n",
       "    }\n",
       "\n",
       "    .dataframe thead th {\n",
       "        text-align: right;\n",
       "    }\n",
       "</style>\n",
       "<table border=\"1\" class=\"dataframe\">\n",
       "  <thead>\n",
       "    <tr style=\"text-align: right;\">\n",
       "      <th></th>\n",
       "      <th></th>\n",
       "      <th>C</th>\n",
       "      <th>D</th>\n",
       "    </tr>\n",
       "    <tr>\n",
       "      <th>A</th>\n",
       "      <th>B</th>\n",
       "      <th></th>\n",
       "      <th></th>\n",
       "    </tr>\n",
       "  </thead>\n",
       "  <tbody>\n",
       "    <tr>\n",
       "      <th rowspan=\"2\" valign=\"top\">bar</th>\n",
       "      <th>one</th>\n",
       "      <td>0.051324</td>\n",
       "      <td>-1.150392</td>\n",
       "    </tr>\n",
       "    <tr>\n",
       "      <th>three</th>\n",
       "      <td>0.196639</td>\n",
       "      <td>-0.465276</td>\n",
       "    </tr>\n",
       "    <tr>\n",
       "      <th rowspan=\"2\" valign=\"top\">foo</th>\n",
       "      <th>one</th>\n",
       "      <td>0.053124</td>\n",
       "      <td>-0.651643</td>\n",
       "    </tr>\n",
       "    <tr>\n",
       "      <th>two</th>\n",
       "      <td>0.377217</td>\n",
       "      <td>0.588894</td>\n",
       "    </tr>\n",
       "  </tbody>\n",
       "</table>\n",
       "</div>"
      ],
      "text/plain": [
       "                  C         D\n",
       "A   B                        \n",
       "bar one    0.051324 -1.150392\n",
       "    three  0.196639 -0.465276\n",
       "foo one    0.053124 -0.651643\n",
       "    two    0.377217  0.588894"
      ]
     },
     "execution_count": 26,
     "metadata": {},
     "output_type": "execute_result"
    }
   ],
   "source": [
    "df.groupby(['A','B']).sum()"
   ]
  },
  {
   "cell_type": "markdown",
   "id": "5f4dd957",
   "metadata": {},
   "source": [
    "### Gestion des Valeurs Manquantes\n"
   ]
  },
  {
   "cell_type": "code",
   "execution_count": 12,
   "id": "923380d6",
   "metadata": {},
   "outputs": [
    {
     "name": "stdout",
     "output_type": "stream",
     "text": [
      "                   A         B         C         D\n",
      "2022-01-01  0.459572 -0.265237 -1.056807 -0.093476\n",
      "2022-01-02 -0.209118  1.626959 -0.598835 -0.142243\n",
      "2022-01-03  0.020777  1.090397  1.401526  1.254832\n",
      "2022-01-04 -0.527812  0.861080 -2.303418 -0.393297\n",
      "2022-01-05 -0.459026 -1.639215 -0.531742 -0.443718\n",
      "2022-01-06 -0.755391 -0.848334  0.207046 -0.156427\n"
     ]
    }
   ],
   "source": [
    "# Suppression des lignes contenant des valeurs manquantes\n",
    "cleaned_df = df.dropna()\n",
    "print(cleaned_df)"
   ]
  },
  {
   "cell_type": "code",
   "execution_count": null,
   "id": "501c84ae",
   "metadata": {},
   "outputs": [],
   "source": []
  },
  {
   "cell_type": "code",
   "execution_count": null,
   "id": "7ba3834a",
   "metadata": {},
   "outputs": [],
   "source": []
  },
  {
   "cell_type": "code",
   "execution_count": null,
   "id": "efe045d3",
   "metadata": {},
   "outputs": [],
   "source": [
    "\n",
    "\n",
    "\n",
    "\n",
    "\n",
    "\n",
    "\n",
    "\n",
    "\n"
   ]
  }
 ],
 "metadata": {
  "kernelspec": {
   "display_name": "Python 3 (ipykernel)",
   "language": "python",
   "name": "python3"
  },
  "language_info": {
   "codemirror_mode": {
    "name": "ipython",
    "version": 3
   },
   "file_extension": ".py",
   "mimetype": "text/x-python",
   "name": "python",
   "nbconvert_exporter": "python",
   "pygments_lexer": "ipython3",
   "version": "3.11.6"
  }
 },
 "nbformat": 4,
 "nbformat_minor": 5
}
