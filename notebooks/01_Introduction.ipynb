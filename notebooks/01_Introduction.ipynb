{
 "cells": [
  {
   "cell_type": "markdown",
   "metadata": {},
   "source": [
    "# Introduction à Python pour l'Analyse de Données\n",
    "\n",
    "Bienvenue dans ce cours complet ! Dans ce notebook, vous découvrirez l'importance de Python pour la Data Science, comment installer Anaconda, lancer Jupyter Notebook et vérifier votre installation."
   ]
  },
  {
   "cell_type": "markdown",
   "metadata": {},
   "source": [
    "## Installation et Configuration\n",
    "\n",
    "Téléchargez et installez [Anaconda](https://www.anaconda.com/products/distribution). Lancez ensuite Jupyter Notebook via Anaconda Navigator."
   ]
  },
  {
   "cell_type": "code",
   "execution_count": null,
   "metadata": {},
   "outputs": [],
   "source": [
    "# Vérification de l'installation de Python\n",
    "import sys\n",
    "print(\"Version de Python :\", sys.version)"
   ]
  },
  {
   "cell_type": "markdown",
   "metadata": {},
   "source": [
    "## TP 1 – Vérification de l'Installation\n",
    "\n",
    "Exécutez le code ci-dessus pour afficher la version de Python installée et confirmer que votre environnement est prêt."
   ]
  },
  {
   "cell_type": "markdown",
   "metadata": {},
   "source": [
    "## QCM\n",
    "\n",
    "1. Quel outil est recommandé pour débuter en Data Science ?\n",
    "   - A. Visual Studio Code\n",
    "   - B. Anaconda (avec Jupyter Notebook)\n",
    "   - C. Un simple éditeur de texte\n",
    "   - D. Eclipse\n",
    "\n",
    "*Réponse attendue : B*"
   ]
  }
 ],
 "metadata": {
  "kernelspec": {
   "display_name": "Python 3",
   "language": "python",
   "name": "python3"
  },
  "language_info": {
   "name": "python",
   "version": "3.x"
  }
 },
 "nbformat": 4,
 "nbformat_minor": 5
}
