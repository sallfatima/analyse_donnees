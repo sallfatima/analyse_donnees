{
 "cells": [
  {
   "cell_type": "markdown",
   "metadata": {},
   "source": [
    "\n",
    "## Module 1 : Introduction et Installation\n",
    "\n",
    "### Objectifs\n",
    "- Comprendre l'intérêt de Python en data science.\n",
    "- Installer Python via Anaconda.\n",
    "- Découvrir Jupyter Notebook comme environnement de travail.\n",
    "\n",
    "### Instructions\n",
    "1. Télécharge et installe [Anaconda](https://www.anaconda.com/products/distribution).\n",
    "2. Lance Jupyter Notebook à partir de l’interface Anaconda Navigator.\n",
    "3. Crée un nouveau notebook Python."
   ]
  },
  {
   "cell_type": "code",
   "execution_count": null,
   "metadata": {},
   "outputs": [],
   "source": [
    "# Vérification de l'installation de Python\n",
    "import sys\n",
    "print(\"Version de Python :\", sys.version)"
   ]
  },
  {
   "cell_type": "markdown",
   "metadata": {},
   "source": [
    "## QCM\n",
    "\n",
    "1. Quel outil est recommandé pour débuter en Data Science ?\n",
    "   - A. Visual Studio Code\n",
    "   - B. Anaconda (avec Jupyter Notebook)\n",
    "   - C. Un simple éditeur de texte\n",
    "   - D. Eclipse\n",
    "\n"
   ]
  }
 ],
 "metadata": {
  "kernelspec": {
   "display_name": "Python 3",
   "language": "python",
   "name": "python3"
  },
  "language_info": {
   "name": "python",
   "version": "3.x"
  }
 },
 "nbformat": 4,
 "nbformat_minor": 5
}
