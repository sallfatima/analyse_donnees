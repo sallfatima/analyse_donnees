{
 "cells": [
  {
   "cell_type": "markdown",
   "metadata": {},
   "source": [
    "# Python Basics : Les Fondamentaux\n",
    "\n",
    "Dans ce notebook, vous apprendrez la syntaxe de base de Python, incluant la déclaration de variables, les types de données, les opérateurs, ainsi que les structures conditionnelles et itératives."
   ]
  },
  {
   "cell_type": "code",
   "execution_count": null,
   "metadata": {},
   "outputs": [],
   "source": [
    "# Déclaration de variables et affichage\n",
    "age = 30\n",
    "nom = \"Alice\"\n",
    "temperature = 36.6\n",
    "actif = True\n",
    "print(nom, age, temperature, actif)"
   ]
  },
  {
   "cell_type": "markdown",
   "metadata": {},
   "source": [
    "## Opérateurs et Expressions\n",
    "\n",
    "Exemple d'opérations arithmétiques et logiques."
   ]
  },
  {
   "cell_type": "code",
   "execution_count": null,
   "metadata": {},
   "outputs": [],
   "source": [
    "a = 10\n",
    "b = 3\n",
    "somme = a + b\n",
    "produit = a * b\n",
    "comparaison = (a > b)\n",
    "print(\"Somme :\", somme)\n",
    "print(\"Produit :\", produit)\n",
    "print(\"a > b ?\", comparaison)"
   ]
  },
  {
   "cell_type": "markdown",
   "metadata": {},
   "source": [
    "## Structures Conditionnelles et Boucles\n",
    "\n",
    "Exemples d'utilisation d'une structure conditionnelle et de boucles."
   ]
  },
  {
   "cell_type": "code",
   "execution_count": null,
   "metadata": {},
   "outputs": [],
   "source": [
    "# Structure conditionnelle\n",
    "if age >= 18:\n",
    "    print(\"Adulte\")\n",
    "else:\n",
    "    print(\"Mineur\")\n",
    "\n",
    "# Boucle for\n",
    "for i in range(5):\n",
    "    print(\"Itération\", i)\n",
    "\n",
    "# Boucle while\n",
    "compteur = 0\n",
    "while compteur < 5:\n",
    "    print(\"Compteur =\", compteur)\n",
    "    compteur += 1"
   ]
  },
  {
   "cell_type": "markdown",
   "metadata": {},
   "source": [
    "## TP 2 – Script Interactif\n",
    "\n",
    "Créez un script qui demande à l’utilisateur son nom et son âge, puis affiche un message personnalisé indiquant s’il est majeur ou mineur."
   ]
  },
  {
   "cell_type": "code",
   "execution_count": null,
   "metadata": {},
   "outputs": [],
   "source": [
    "nom = input(\"Quel est ton nom ? \")\n",
    "age = int(input(\"Quel est ton âge ? \"))\n",
    "if age >= 18:\n",
    "    print(f\"Bonjour {nom}, tu es majeur.\")\n",
    "else:\n",
    "    print(f\"Bonjour {nom}, tu es mineur.\")"
   ]
  },
  {
   "cell_type": "markdown",
   "metadata": {},
   "source": [
    "## QCM\n",
    "\n",
    "1. Quel opérateur est utilisé pour tester l’égalité ?\n",
    "   - A. =\n",
    "   - B. ==\n",
    "   - C. :=\n",
    "   - D. !=\n",
    "\n",
    "2. Quelle boucle est idéale pour itérer sur une séquence ?\n",
    "   - A. while\n",
    "   - B. for\n",
    "   - C. do-while\n",
    "   - D. loop\n",
    "\n",
    "*Réponses attendues : 1 → B, 2 → B*"
   ]
  }
 ],
 "metadata": {
  "kernelspec": {
   "display_name": "Python 3",
   "language": "python",
   "name": "python3"
  },
  "language_info": {
   "name": "python",
   "version": "3.x"
  }
 },
 "nbformat": 4,
 "nbformat_minor": 5
}
