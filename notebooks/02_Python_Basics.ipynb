{
 "cells": [
  {
   "cell_type": "markdown",
   "id": "f1df7bb2",
   "metadata": {},
   "source": [
    "# Module 2 : Python de Base\n",
    "\n",
    "Ce notebook te permet d'apprendre la syntaxe de base de Python, essentielle pour toute analyse de données. Tu vas découvrir comment déclarer des variables, utiliser différents types de données, et construire des structures de contrôle.\n",
    "\n",
    "---\n",
    "\n",
    "## Objectifs\n",
    "- Apprendre la syntaxe de base de Python.\n",
    "- Comprendre les variables, les types de données (int, float, string, bool) et les opérateurs.\n",
    "- Utiliser les structures conditionnelles et les boucles.\n"
   ]
  },
  {
   "cell_type": "markdown",
   "id": "304c9273",
   "metadata": {},
   "source": [
    "## 1-Définition\n",
    "\n",
    "Une `variable` est essentiellement une zone de stockage dans la mémoire de l'ordinateur où vous pouvez placer une valeur. Pour le programmeur, une variable est définie par un nom, mais pour l'ordinateur, il s'agit d'une adresse mémoire spécifique.\n",
    "\n",
    "En Python, la déclaration et l'initialisation d'une variable se font en même temps. Par exemple, si vous exécutez les instructions suivantes dans l'interpréteur Python :\n"
   ]
  },
  {
   "cell_type": "code",
   "execution_count": 56,
   "id": "dab13008",
   "metadata": {},
   "outputs": [
    {
     "data": {
      "text/plain": [
       "2"
      ]
     },
     "execution_count": 56,
     "metadata": {},
     "output_type": "execute_result"
    }
   ],
   "source": [
    "x = 2\n",
    "x"
   ]
  },
  {
   "cell_type": "markdown",
   "id": "4512c588",
   "metadata": {},
   "source": [
    "\n",
    "\n",
    "Ce qui se passe réellement en arrière-plan comprend plusieurs étapes :\n",
    "- Python infère que la variable `x` est de type entier (int). C'est ce qu'on appelle le \"typage dynamique\" de Python.\n",
    "- Python alloue un espace mémoire pour stocker un entier et associe ce bloc mémoire à la variable `x`.\n",
    "- Enfin, Python assigne la valeur 2 à la variable `x`.\n",
    "\n",
    "En d'autres langages comme le C, vous devriez écrire ces étapes individuellement. Python, en tant que langage de haut niveau, simplifie ce processus en une seule ligne.\n",
    "\n",
    "Une particularité de l'interpréteur Python est qu'il vous permet d'afficher la valeur d'une variable en tapant simplement son nom, ce qui est pratique pour le débogage. Par exemple, `x` affichera la valeur de `x`. Notez que dans un script Python, une ligne contenant simplement le nom d'une variable (sans autre instruction) n'affichera pas la valeur de la variable lors de l'exécution, bien que cela reste une instruction valide sans erreur.\n",
    "\n",
    "L'opérateur d'affectation `=` attribue la valeur à droite de l'opérateur (dans ce cas, 2) à la variable située à gauche (ici, `x`). D'autres langages de programmation, comme R, utilisent parfois des symboles différents comme `<-` pour rendre l'affectation de variables plus explicite.\n",
    "\n",
    "Enfin, dans une instruction comme `x = y - 3`, l'opération `y - 3` est évaluée en premier, puis le résultat est attribué à la variable `x`."
   ]
  },
  {
   "cell_type": "markdown",
   "id": "467b5dff",
   "metadata": {},
   "source": [
    "## 2-Type de variables"
   ]
  },
  {
   "cell_type": "markdown",
   "id": "4404dedf",
   "metadata": {},
   "source": [
    "\n",
    "Dans le langage de programmation Python, les variables sont associées à des types de données qui déterminent la nature de la valeur stockée dans la variable. Les trois principaux types de variables que nous utiliserons couramment sont les entiers (`int`), les nombres décimaux (appelés \"floats\" ou `float`), et les chaînes de caractères (`str`).\n",
    "\n",
    "1. Les entiers (`int`) sont des nombres entiers, c'est-à-dire des nombres sans partie décimale. Par exemple, 42 est un entier.\n",
    "\n",
    "2. Les nombres décimaux (`float`), souvent appelés \"floats\", sont des nombres avec une partie décimale. Par exemple, 3.14 est un float.\n",
    "\n",
    "3. Les chaînes de caractères (`str`) sont utilisées pour représenter du texte. Elles sont entourées de guillemets simples (`'`) ou doubles (`\"`), ou même de triples guillemets successifs pour les chaînes multilignes.\n",
    "\n",
    "Voici quelques exemples :\n",
    "\n"
   ]
  },
  {
   "cell_type": "code",
   "execution_count": 57,
   "id": "006e6ef7",
   "metadata": {},
   "outputs": [],
   "source": [
    "x = 42  # x est un entier\n",
    "y = 3.14  # y est un float\n",
    "a = \"bonjour\"  # a est une chaîne de caractères\n",
    "b = 'salut'  # b est une autre chaîne de caractères\n",
    "c = \"\"\"girafe\"\"\"  # c est également une chaîne de caractères\n",
    "d = '''lion'''  # d est une autre chaîne de caractères\n"
   ]
  },
  {
   "cell_type": "markdown",
   "id": "50c02fae",
   "metadata": {},
   "source": [
    "**Remarque :** En Python, l'affichage direct du contenu d'une chaîne de caractères se fait avec des guillemets simples, quel que soit le type de guillemets utilisé pour définir la chaîne de caractères.\n",
    "\n",
    "De plus, en Python (comme dans la plupart des langages de programmation), le point est utilisé comme séparateur décimal. Ainsi, `3.14` est reconnu comme un `float` en Python, tandis que `3,14` n'est pas interprété comme un nombre décimal (`float`).\n",
    "\n",
    "Si vous avez besoin de vérifier le type d'une variable en Python, vous pouvez utiliser la fonction `type()`. Elle vous renverra le type de la variable. Voici quelques exemples :\n"
   ]
  },
  {
   "cell_type": "code",
   "execution_count": 58,
   "id": "9a32a8d9",
   "metadata": {},
   "outputs": [
    {
     "data": {
      "text/plain": [
       "str"
      ]
     },
     "execution_count": 58,
     "metadata": {},
     "output_type": "execute_result"
    }
   ],
   "source": [
    "x = 2\n",
    "type(x)\n",
    "# Résultat : <class 'int'>\n",
    "\n",
    "y = 2.0\n",
    "type(y)\n",
    "# Résultat : <class 'float'>\n",
    "\n",
    "z = '2'\n",
    "type(z)\n",
    "# Résultat : <class 'str'>\n"
   ]
  },
  {
   "cell_type": "markdown",
   "id": "96aaffb9",
   "metadata": {},
   "source": [
    "En programmation, vous serez souvent amené à convertir des variables d'un type à un autre. Python facilite cette tâche grâce aux fonctions `int()`, `float()`, et `str()`. Voici des exemples :"
   ]
  },
  {
   "cell_type": "code",
   "execution_count": 59,
   "id": "201cc011",
   "metadata": {},
   "outputs": [
    {
     "data": {
      "text/plain": [
       "3.1416"
      ]
     },
     "execution_count": 59,
     "metadata": {},
     "output_type": "execute_result"
    }
   ],
   "source": [
    "i = 3\n",
    "str(i)\n",
    "# Résultat : '3'\n",
    "\n",
    "i = '456'\n",
    "int(i)\n",
    "# Résultat : 456\n",
    "\n",
    "i = '3.1416'\n",
    "float(i)\n",
    "# Résultat : 3.1416\n"
   ]
  },
  {
   "cell_type": "markdown",
   "id": "e4e7669d",
   "metadata": {},
   "source": [
    "## 3-Opérations\n",
    "\n",
    "###  Opérations sur les types numériques\n",
    "\n",
    "En Python, vous pouvez effectuer les quatre opérations arithmétiques de base sur les types numériques, tels que les entiers (`int`) et les nombres décimaux (`float`). Voici quelques exemples```python\n",
    "\n"
   ]
  },
  {
   "cell_type": "code",
   "execution_count": 60,
   "id": "53e41b01",
   "metadata": {},
   "outputs": [
    {
     "data": {
      "text/plain": [
       "452.5"
      ]
     },
     "execution_count": 60,
     "metadata": {},
     "output_type": "execute_result"
    }
   ],
   "source": [
    "x = 45\n",
    "x + 2  # Addition\n",
    "# Résultat : 47\n",
    "\n",
    "x - 2  # Soustraction\n",
    "# Résultat : 43\n",
    "\n",
    "x * 3  # Multiplication\n",
    "# Résultat : 135\n",
    "\n",
    "y = 2.5\n",
    "x - y  # Opération avec un float\n",
    "# Résultat : 42.5\n",
    "\n",
    "(x * 10) + y  # Utilisation de parenthèses pour gérer les priorités\n",
    "# Résultat : 452.5"
   ]
  },
  {
   "cell_type": "markdown",
   "id": "836ddb88",
   "metadata": {},
   "source": [
    "Notez que si vous mélangez les types `entiers` et `floats`, le résultat est renvoyé sous forme de `float`, car c'est le type le plus général. L'opérateur `/` effectue toujours une division et renvoie un `float`.\n",
    "\n",
    "De plus, vous pouvez utiliser les opérateurs `//` (division entière) et `%` (modulo) pour obtenir le quotient et le reste d'une division entière.\n",
    "\n",
    "### Opérations sur les chaînes de caractères\n",
    "\n",
    "Pour les chaînes de caractères (`str`), vous pouvez effectuer deux opérations : l'addition (`+`) et la multiplication (`*`). Voici des exemples :\n"
   ]
  },
  {
   "cell_type": "code",
   "execution_count": 61,
   "id": "9dce046b",
   "metadata": {},
   "outputs": [
    {
     "data": {
      "text/plain": [
       "'SalutSalutSalut'"
      ]
     },
     "execution_count": 61,
     "metadata": {},
     "output_type": "execute_result"
    }
   ],
   "source": [
    "chaine = \"Salut\"\n",
    "\n",
    "chaine + \" Python\"  # Concaténation\n",
    "# Résultat : 'Salut Python'\n",
    "\n",
    "chaine * 3  # Répétition\n",
    "# Résultat : 'SalutSalutSalut'\n"
   ]
  },
  {
   "cell_type": "code",
   "execution_count": 1,
   "id": "6bdef409",
   "metadata": {},
   "outputs": [
    {
     "data": {
      "text/plain": [
       "'Salut Python'"
      ]
     },
     "execution_count": 1,
     "metadata": {},
     "output_type": "execute_result"
    }
   ],
   "source": [
    "chaine = \"Salut\"\n",
    "\n",
    "chaine + \" Python\" "
   ]
  },
  {
   "cell_type": "code",
   "execution_count": 2,
   "id": "f2fe3fa6",
   "metadata": {},
   "outputs": [
    {
     "data": {
      "text/plain": [
       "'SalutSalutSalut'"
      ]
     },
     "execution_count": 2,
     "metadata": {},
     "output_type": "execute_result"
    }
   ],
   "source": [
    "chaine * 3 "
   ]
  },
  {
   "cell_type": "markdown",
   "id": "5fa1c2be",
   "metadata": {},
   "source": [
    "Notez que les opérateurs `+` et `*` ont des comportements différents selon qu'ils sont appliqués à des entiers ou des chaînes de caractères. Cette redéfinition des opérateurs est importante à comprendre.\n",
    "\n",
    "\n"
   ]
  },
  {
   "cell_type": "markdown",
   "id": "85c94cf6",
   "metadata": {},
   "source": [
    "###  Opérateurs d'Incrémentation en Python\n",
    "\n",
    "En programmation, les opérateurs d'incrémentation sont utilisés pour modifier la valeur d'une variable en lui ajoutant une certaine quantité. En Python, il existe deux opérateurs d'incrémentation couramment utilisés : l'opérateur += et l'opérateur -=, qui sont utilisés pour augmenter ou diminuer la valeur d'une variable, respectivement.\n",
    "\n",
    "Opérateur `+=`\n",
    "L'opérateur `+=` est utilisé pour augmenter la valeur d'une variable en ajoutant une certaine quantité. Voici comment il fonctionne :\n",
    "\n",
    "```python\n",
    "\n",
    "variable += valeur\n",
    "Cela équivaut à variable = variable + valeur. Par exemple :\n",
    "```\n",
    "```python\n",
    "\n",
    "x = 5\n",
    "x += 3  # Cela équivaut à x = x + 3\n",
    "print(x)  # Affiche 8\n",
    "\n",
    "```\n",
    "Dans cet exemple, la valeur de x est augmentée de 3, et x devient 8.\n",
    "\n",
    "Opérateur `-=`\n",
    "L'opérateur `-=` est utilisé pour diminuer la valeur d'une variable en soustrayant une certaine quantité. Voici comment il fonctionne :\n",
    "\n",
    "```python\n",
    "\n",
    "variable -= valeur\n",
    "Cela équivaut à variable = variable - valeur. Par exemple :\n",
    "```\n",
    "```python\n",
    "y = 10\n",
    "y -= 4  # Cela équivaut à y = y - 4\n",
    "print(y)  # Affiche 6\n",
    "```\n",
    "Dans cet exemple, la valeur de y est diminuée de 4, et y devient 6.\n",
    "\n",
    "Les opérateurs d'incrémentation sont utiles pour effectuer des mises à jour rapides des variables dans un programme, en évitant d'écrire explicitement variable = variable + valeur ou variable = variable - valeur. Ils rendent le code plus lisible et plus efficace"
   ]
  },
  {
   "cell_type": "code",
   "execution_count": null,
   "id": "bc402c2d",
   "metadata": {},
   "outputs": [
    {
     "data": {
      "text/plain": [
       "8"
      ]
     },
     "execution_count": 4,
     "metadata": {},
     "output_type": "execute_result"
    }
   ],
   "source": [
    "x=6\n",
    "x+=2  <==  x = x+2\n",
    "x"
   ]
  },
  {
   "cell_type": "code",
   "execution_count": null,
   "id": "6c13f257",
   "metadata": {},
   "outputs": [
    {
     "name": "stdout",
     "output_type": "stream",
     "text": [
      "15\n"
     ]
    }
   ],
   "source": [
    "x = 5\n",
    "x *= 3# x = x * 3\n",
    "print(x)"
   ]
  },
  {
   "cell_type": "markdown",
   "id": "e25725a3",
   "metadata": {},
   "source": [
    "\n",
    "\n",
    "###  Opérations illicites\n",
    "\n",
    "Faites attention à ne pas effectuer d'opérations illicites, car cela générera des messages d'erreur. Par exemple, multiplier une chaîne de caractères par un float ou tenter de concaténer une chaîne de caractères et un entier provoquera des erreurs de type.\n",
    "\n",
    "Python fournit des messages d'erreur explicites pour vous guider dans la résolution de ces problèmes.\n"
   ]
  },
  {
   "cell_type": "markdown",
   "id": "41a1d59d",
   "metadata": {},
   "source": [
    "### Opérateurs Logiques en Python\n",
    "\n",
    "En programmation, les opérateurs logiques sont utilisés pour effectuer des opérations logiques sur des valeurs booléennes (Vrai ou Faux). Les opérateurs logiques sont couramment utilisés pour prendre des décisions basées sur des conditions multiples. Python propose plusieurs opérateurs logiques, notamment les opérateurs `et` (`and`), `ou` (`or`) et `non` (`not`).\n",
    "\n",
    " 1. Opérateur \"et\" (`and`)\n",
    "\n",
    "L'opérateur logique \"et\" (`and`) permet de combiner deux conditions et renvoie `True` si les deux conditions sont vraies, sinon `False`. Voici un exemple :\n",
    "\n"
   ]
  },
  {
   "cell_type": "code",
   "execution_count": 8,
   "id": "5ee9c68f",
   "metadata": {},
   "outputs": [
    {
     "name": "stdout",
     "output_type": "stream",
     "text": [
      "True\n"
     ]
    }
   ],
   "source": [
    "\n",
    "a = True\n",
    "b = True\n",
    "\n",
    "resultat = a and b\n",
    "\n",
    "print(resultat)  # Résultat : False\n"
   ]
  },
  {
   "cell_type": "code",
   "execution_count": 1,
   "id": "3d256f13",
   "metadata": {},
   "outputs": [
    {
     "name": "stdout",
     "output_type": "stream",
     "text": [
      "False\n"
     ]
    }
   ],
   "source": [
    "a = False\n",
    "b = False\n",
    "\n",
    "resultat = a and b\n",
    "\n",
    "print(resultat)  # Résultat : \n"
   ]
  },
  {
   "cell_type": "code",
   "execution_count": 9,
   "id": "8da82e9b",
   "metadata": {},
   "outputs": [
    {
     "name": "stdout",
     "output_type": "stream",
     "text": [
      "False\n"
     ]
    }
   ],
   "source": [
    "a = True\n",
    "b = False\n",
    "\n",
    "resultat = a and b\n",
    "\n",
    "print(resultat)  # Résultat : \n"
   ]
  },
  {
   "cell_type": "markdown",
   "id": "11098a52",
   "metadata": {},
   "source": [
    "Dans cet exemple, resultat sera False car les deux conditions (a et b) ne sont pas toutes deux vraies.\n",
    "\n",
    "2. Opérateur \"ou\" (`or`)\n",
    "\n",
    "L'opérateur logique \"ou\" (`or`) permet de combiner deux conditions et renvoie True si au moins l'une des conditions est vraie, sinon False. Voici un exemple :"
   ]
  },
  {
   "cell_type": "code",
   "execution_count": 63,
   "id": "1054760d",
   "metadata": {},
   "outputs": [
    {
     "name": "stdout",
     "output_type": "stream",
     "text": [
      "True\n"
     ]
    }
   ],
   "source": [
    "a = True\n",
    "b = False\n",
    "\n",
    "resultat = a or b\n",
    "\n",
    "print(resultat)  # Résultat : True\n"
   ]
  },
  {
   "cell_type": "code",
   "execution_count": null,
   "id": "b101f3f5",
   "metadata": {},
   "outputs": [],
   "source": []
  },
  {
   "cell_type": "markdown",
   "id": "90abfb23",
   "metadata": {},
   "source": [
    "Dans cet exemple, resultat sera True car au moins l'une des conditions (a ou b) est vraie.\n",
    "\n",
    "3. Opérateur \"non\" (`not`)\n",
    "\n",
    "L'opérateur logique \"non\" (`not`) permet d'inverser une condition. Il renvoie True si la condition est fausse et False si la condition est vraie. Voici un exemple :"
   ]
  },
  {
   "cell_type": "code",
   "execution_count": null,
   "id": "3ee3f80a",
   "metadata": {},
   "outputs": [],
   "source": []
  },
  {
   "cell_type": "code",
   "execution_count": 3,
   "id": "8f203cd6",
   "metadata": {},
   "outputs": [
    {
     "name": "stdout",
     "output_type": "stream",
     "text": [
      "True\n"
     ]
    }
   ],
   "source": [
    "a = False\n",
    "\n",
    "resultat = not a\n",
    "\n",
    "print(resultat)  # Résultat : False\n"
   ]
  },
  {
   "cell_type": "code",
   "execution_count": 10,
   "id": "47a7394b",
   "metadata": {
    "tags": []
   },
   "outputs": [
    {
     "name": "stdout",
     "output_type": "stream",
     "text": [
      "8 est dans la liste [3, 5, 7, 8]\n"
     ]
    }
   ],
   "source": [
    "a=[3,5,7,8]\n",
    "b=8\n",
    "\n",
    "if b not in a:\n",
    "    print(f\"{b} n'est pas dans la liste {a}\")\n",
    "else:\n",
    "    print(f\"{b} est dans la liste {a}\")\n",
    "\n",
    "\n",
    "    \n"
   ]
  },
  {
   "cell_type": "code",
   "execution_count": 13,
   "id": "f29eaaaa-5fdf-4390-82ff-f4244ef8e7c9",
   "metadata": {},
   "outputs": [
    {
     "name": "stdout",
     "output_type": "stream",
     "text": [
      "Mon est fatou\n"
     ]
    }
   ],
   "source": [
    "nom = 'fatou'\n",
    "\n",
    "print(\"Mon est \" + nom)"
   ]
  },
  {
   "cell_type": "markdown",
   "id": "9d63c491",
   "metadata": {},
   "source": [
    "Dans cet exemple, `resultat` sera `False` car la condition `a` est vraie, mais l'opérateur `not` l'inverse.\n",
    "\n",
    "4. Utilisation des Opérateurs Logiques\n",
    "\n",
    "Les opérateurs logiques sont couramment utilisés dans les expressions conditionnelles (`if`, `elif`,`else`) pour prendre des décisions basées sur plusieurs conditions. Par exemple :"
   ]
  },
  {
   "cell_type": "code",
   "execution_count": 15,
   "id": "d1f5a89c",
   "metadata": {
    "tags": []
   },
   "outputs": [
    {
     "name": "stdout",
     "output_type": "stream",
     "text": [
      "Désolé, vous ne répondez pas aux critères d'admission.\n"
     ]
    }
   ],
   "source": [
    "age = 20\n",
    "sexe = \"Homme\"\n",
    "\n",
    "if age >= 18 and sexe == \"Femme\":\n",
    "    print(\"Bienvenue dans le groupe des femmes adultes.\")\n",
    "else:\n",
    "    print(\"Désolé, vous ne répondez pas aux critères d'admission.\")\n"
   ]
  },
  {
   "cell_type": "code",
   "execution_count": null,
   "id": "898c62a6",
   "metadata": {},
   "outputs": [],
   "source": [
    "if condition:\n",
    "    \n",
    "    instruction1\n",
    "    intruction2\n",
    "else:\n",
    "    instruction3 \n",
    "    instruction4"
   ]
  },
  {
   "cell_type": "markdown",
   "id": "92a11733",
   "metadata": {},
   "source": [
    "Dans cet exemple, nous utilisons les opérateurs logiques `and` pour vérifier deux conditions simultanément. Si les deux conditions sont vraies, le message de bienvenue est affiché.\n",
    "\n",
    "Les opérateurs logiques sont un outil puissant pour prendre des décisions complexes en programmation, en combinant différentes conditions pour déterminer le flux d'exécution du programme.\n",
    "\n",
    "C'est ainsi que fonctionnent les opérateurs logiques en Python. Ils sont essentiels pour écrire des programmes qui prennent des décisions en fonction de multiples conditions."
   ]
  },
  {
   "cell_type": "markdown",
   "id": "d4034e42",
   "metadata": {},
   "source": [
    "## 4-Instructions de Contrôle en Python\n",
    "\n",
    "En programmation, les instructions de contrôle sont des structures qui permettent de gérer le flux d'exécution d'un programme. Python propose plusieurs types d'instructions de contrôle, notamment les conditions (`if`, `elif`, `else`) et les boucles (`for` et `while`), qui sont essentielles pour contrôler le comportement de votre programme.\n",
    "\n",
    "### 1. Instructions Conditionnelles (`if`, `elif`, `else`)\n",
    "\n",
    "Les instructions conditionnelles permettent d'exécuter des blocs de code en fonction de conditions spécifiques. Voici un exemple d'instruction `if` :\n",
    "\n",
    "```python\n",
    "age = 18\n",
    "\n",
    "if age >= 18:\n",
    "    print(\"Vous êtes majeur.\")\n",
    "else:\n",
    "    print(\"Vous êtes mineur.\")\n"
   ]
  },
  {
   "cell_type": "code",
   "execution_count": 66,
   "id": "4ac20551",
   "metadata": {},
   "outputs": [
    {
     "name": "stdout",
     "output_type": "stream",
     "text": [
      "Vous êtes majeur.\n"
     ]
    }
   ],
   "source": [
    "age = 18\n",
    "\n",
    "if age >= 18:\n",
    "    print(\"Vous êtes majeur.\")\n",
    "else:\n",
    "    print(\"Vous êtes mineur.\")"
   ]
  },
  {
   "cell_type": "markdown",
   "id": "b8c861d4",
   "metadata": {},
   "source": [
    "Dans cet exemple, le programme vérifie si `age` est supérieur ou égal à 18. Si la condition est vraie, le message \"Vous êtes majeur.\" est affiché ; sinon, le message \"Vous êtes mineur.\" est affiché.\n",
    "\n",
    "Les instructions `elif` (abréviation de \"else if\") permettent de gérer plusieurs conditions alternatives :"
   ]
  },
  {
   "cell_type": "code",
   "execution_count": 6,
   "id": "0dbc5b31",
   "metadata": {
    "tags": []
   },
   "outputs": [
    {
     "name": "stdout",
     "output_type": "stream",
     "text": [
      "Passable\n"
     ]
    }
   ],
   "source": [
    "note = 62\n",
    "\n",
    "if note >= 90:\n",
    "    print(\"Très bien.\")\n",
    "elif note >= 80:\n",
    "    print(\"Bien.\")\n",
    "elif note>60:\n",
    "    print(\"Passable\")\n",
    "else:\n",
    "    print(\"À améliorer.\")\n"
   ]
  },
  {
   "cell_type": "markdown",
   "id": "166f51c0",
   "metadata": {},
   "source": [
    "### 2. Boucle `for`\n",
    "\n",
    "La boucle `for` est une structure de contrôle fondamentale en programmation Python. Elle est utilisée pour itérer sur une séquence (comme une liste, un tuple ou une chaîne de caractères) ou sur tout autre objet itérable. Voici un exemple de boucle `for` :\n",
    "\n"
   ]
  },
  {
   "cell_type": "code",
   "execution_count": 22,
   "id": "057f1fe0",
   "metadata": {},
   "outputs": [
    {
     "name": "stdout",
     "output_type": "stream",
     "text": [
      "fatou f\n",
      "fatou a\n",
      "fatou t\n",
      "fatou o\n",
      "fatou u\n"
     ]
    }
   ],
   "source": [
    "a = \"fatou\"\n",
    "for i in a:\n",
    "    print(f\"{a} {i}\")\n"
   ]
  },
  {
   "cell_type": "code",
   "execution_count": 32,
   "id": "49629101",
   "metadata": {},
   "outputs": [
    {
     "data": {
      "text/plain": [
       "[3, 5, 7]"
      ]
     },
     "execution_count": 32,
     "metadata": {},
     "output_type": "execute_result"
    }
   ],
   "source": [
    "a"
   ]
  },
  {
   "cell_type": "code",
   "execution_count": 35,
   "id": "7c77bf39",
   "metadata": {},
   "outputs": [
    {
     "data": {
      "text/plain": [
       "9"
      ]
     },
     "execution_count": 35,
     "metadata": {},
     "output_type": "execute_result"
    }
   ],
   "source": [
    "b"
   ]
  },
  {
   "cell_type": "code",
   "execution_count": 40,
   "id": "f9479efa",
   "metadata": {},
   "outputs": [
    {
     "name": "stdout",
     "output_type": "stream",
     "text": [
      "a\n",
      "b\n",
      "c\n"
     ]
    }
   ],
   "source": [
    "listes=[\"a\",\"b\",\"c\"]\n",
    "\n",
    "for lettre in listes:\n",
    "    print(lettre)"
   ]
  },
  {
   "cell_type": "markdown",
   "id": "039e61ec",
   "metadata": {},
   "source": [
    "Cette boucle `for` affichera les nombres de 0 à 4.\n",
    "\n",
    "### 3. Boucle `while`\n",
    "\n",
    "La boucle `while` est une autre structure de contrôle essentielle en programmation Python. Elle permet d'exécuter un bloc de code tant qu'une condition spécifiée est vraie. Voici un exemple de boucle `while` :\n",
    "\n",
    "``` python\n",
    "\n",
    "i = 0\n",
    "while i < 5:\n",
    "    print(i)\n"
   ]
  },
  {
   "cell_type": "markdown",
   "id": "76f1bcf4",
   "metadata": {},
   "source": [
    "Cette boucle `while` affiche les nombres de 0 à 4 tant que compteur est inférieur à 5."
   ]
  },
  {
   "cell_type": "code",
   "execution_count": 23,
   "id": "8820fa8d",
   "metadata": {},
   "outputs": [
    {
     "name": "stdout",
     "output_type": "stream",
     "text": [
      "0\n",
      "1\n",
      "2\n",
      "3\n",
      "4\n"
     ]
    }
   ],
   "source": [
    "i =0\n",
    "while i < 5:\n",
    "    print(i)\n",
    "    i+=1"
   ]
  },
  {
   "cell_type": "code",
   "execution_count": 48,
   "id": "70814c85",
   "metadata": {},
   "outputs": [
    {
     "data": {
      "text/plain": [
       "5"
      ]
     },
     "execution_count": 48,
     "metadata": {},
     "output_type": "execute_result"
    }
   ],
   "source": [
    "i"
   ]
  },
  {
   "cell_type": "markdown",
   "id": "acef459e",
   "metadata": {},
   "source": [
    "### 4. Instructions de Contrôle Combinées\n",
    "\n",
    "Souvent, vous utiliserez des instructions de contrôle combinées pour créer des programmes plus complexes. Par exemple, vous pouvez utiliser une boucle `for` à l'intérieur d'une instruction `if` pour effectuer des actions conditionnelles répétées."
   ]
  },
  {
   "cell_type": "code",
   "execution_count": null,
   "id": "d1482bbc",
   "metadata": {},
   "outputs": [],
   "source": []
  },
  {
   "cell_type": "code",
   "execution_count": null,
   "id": "3599e742",
   "metadata": {},
   "outputs": [
    {
     "name": "stdout",
     "output_type": "stream",
     "text": [
      "0 est pair.\n",
      "1 est impair.\n",
      "2 est pair.\n",
      "3 est impair.\n",
      "4 est pair.\n",
      "5 est impair.\n",
      "6 est pair.\n",
      "7 est impair.\n",
      "8 est pair.\n",
      "9 est impair.\n"
     ]
    }
   ],
   "source": [
    "for i in range(10):\n",
    "    if i % 2 == 0:\n",
    "        print(f\"{i} est pair.\")////\n",
    "    else:\n",
    "        print(f\"{i} est impair.\")\n"
   ]
  },
  {
   "cell_type": "markdown",
   "id": "91ee7a67",
   "metadata": {},
   "source": [
    "Dans cet exemple, la boucle `for` itère sur les nombres de 0 à 4 et vérifie si chaque nombre est pair ou impair.\n",
    "\n",
    "Les instructions de contrôle sont essentielles pour créer des programmes flexibles et réactifs en Python. Elles vous permettent de prendre des décisions, de répéter des actions et de contrôler le flux d'exécution de votre code."
   ]
  },
  {
   "cell_type": "markdown",
   "id": "0e38038a",
   "metadata": {},
   "source": [
    "Exercice 1: Manipulation de variables numériques\n",
    "1. Créez deux variables `a` et `b` et attribuez-leur des valeurs numériques de votre choix.\n",
    "2. Effectuez les opérations suivantes et stockez les résultats dans de nouvelles variables :\n",
    "   - Additionnez `a` et `b`.\n",
    "   - Soustrayez `b` de `a`.\n",
    "   - Multipliez `a` par 3.\n",
    "   - Divisez `b` par 2.\n",
    "3. Affichez les résultats.\n"
   ]
  },
  {
   "cell_type": "code",
   "execution_count": 9,
   "id": "af99aba9",
   "metadata": {
    "tags": []
   },
   "outputs": [
    {
     "name": "stdout",
     "output_type": "stream",
     "text": [
      "Addition de 7 et 10 = 17\n",
      "Soustraction de 10 et 7 = 3\n",
      "Multiplication de 7 par 3 = 21\n",
      "Division de 10 par 2= 5.0\n"
     ]
    }
   ],
   "source": [
    "a=7\n",
    "b=10\n",
    "\n",
    "c=a+b\n",
    "d=b-a\n",
    "e=a*3\n",
    "f=b/2\n",
    "\n",
    "print(f\"Addition de {a} et {b} = {c}\")\n",
    "print(f\"Soustraction de {b} et {a} = {d}\")\n",
    "print(f\"Multiplication de {a} par 3 = {e}\")\n",
    "print(f\"Division de {b} par 2= {f}\")"
   ]
  },
  {
   "cell_type": "code",
   "execution_count": 2,
   "id": "4fe204cb-1ba5-42f3-9db0-7252ab64639e",
   "metadata": {
    "tags": []
   },
   "outputs": [
    {
     "name": "stdout",
     "output_type": "stream",
     "text": [
      "Je m'appele fatou et j'ai 28\n"
     ]
    }
   ],
   "source": [
    "a= \"fatou\"\n",
    "age =28\n",
    "\n",
    "print(f\"Je m'appele {a} et j'ai {age}\")"
   ]
  },
  {
   "cell_type": "code",
   "execution_count": null,
   "id": "af1ae6aa",
   "metadata": {},
   "outputs": [],
   "source": [
    "Addition de 2 et 2 = 4"
   ]
  },
  {
   "cell_type": "markdown",
   "id": "ade87ae9",
   "metadata": {},
   "source": [
    "Exercice 2: Manipulation de variables de texte\n",
    "1. Créez une variable `a` et attribuez-lui votre nom.\n",
    "2. Créez une variable `age` et attribuez-lui votre âge.\n",
    "3. Créez une variable `message` en utilisant les variables `nom` et `age` pour afficher un message du type \"Bonjour, je m'appelle [nom] et j'ai [age] ans.\".\n",
    "4. Affichez le message.\n"
   ]
  },
  {
   "cell_type": "markdown",
   "id": "0e9bd856",
   "metadata": {},
   "source": [
    "Exercice 3: Conversion de types\n",
    "\n",
    "1. Créez une variable `nombre_texte` et attribuez-lui la valeur \"42\".\n",
    "2. Convertissez cette variable en un entier et stockez le résultat dans une nouvelle variable `nombre_entier`.\n",
    "3. Affichez le type de `nombre_entier` pour vérifier qu'il s'agit bien d'un entier."
   ]
  },
  {
   "cell_type": "markdown",
   "id": "1f73849d",
   "metadata": {},
   "source": [
    "Exercice 4: Opérations avancées\n",
    "\n",
    "1. Créez une variable `x` et attribuez-lui la valeur 10.\n",
    "2. Incrémentez `x` de 5 en utilisant l'opérateur d'incrémentation.\n",
    "3. Calculez le carré de `x` et stockez le résultat dans une nouvelle variable `x_carre`.\n",
    "4. Affichez le résultat."
   ]
  },
  {
   "cell_type": "markdown",
   "id": "4e9f2b46",
   "metadata": {},
   "source": [
    "Exercice 5: Boucle for\n",
    "    \n",
    "1. Créez une liste `nombres` contenant les nombres de 1 à 5.\n",
    "2. Utilisez une boucle `for` pour parcourir la liste et afficher chaque nombre.\n",
    "3. Modifiez la boucle pour afficher le carré de chaque nombre.\n"
   ]
  },
  {
   "cell_type": "markdown",
   "id": "aefcac3b",
   "metadata": {},
   "source": [
    "Exercice 6: Boucle while\n",
    "\n",
    "1. Initialisez une variable `compteur` à 0.\n",
    "2. Utilisez une boucle `while` pour incrémenter le compteur de 1 à chaque itération jusqu'à ce qu'il atteigne 5.\n",
    "3. Affichez le compteur à chaque itération."
   ]
  },
  {
   "cell_type": "markdown",
   "id": "b365b006",
   "metadata": {},
   "source": [
    "Exercice 7: Calcul de la somme\n",
    "\n",
    "1. Créez une liste `nombres` contenant les nombres de 1 à 10.\n",
    "2. Utilisez une boucle `for` pour calculer la somme de tous les nombres dans la liste.\n",
    "3. Affichez le résultat de la somme."
   ]
  },
  {
   "cell_type": "markdown",
   "id": "f9a12e26",
   "metadata": {},
   "source": [
    "Exercice 8: Table de multiplication\n",
    "\n",
    "1. Choisissez une table de multiplication, par exemple, la table de 7.\n",
    "2. Utilisez une boucle `for` pour afficher les résultats de la multiplication de 7 par les nombres de 1 à 10."
   ]
  },
  {
   "cell_type": "markdown",
   "id": "5319a5d2",
   "metadata": {},
   "source": [
    "Exercice 9: Calcul de la factorielle\n",
    "\n",
    "1. Créez une liste `nombres` contenant les nombres de 1 à 10.\n",
    "2. Utilisez une boucle `for` pour calculer la factorielle de ces nombres (le produit de tous les entiers de 1 à ce nombre).\n",
    "3. Affichez le résultat de la factorielle."
   ]
  }
 ],
 "metadata": {
  "kernelspec": {
   "display_name": "base",
   "language": "python",
   "name": "python3"
  },
  "language_info": {
   "codemirror_mode": {
    "name": "ipython",
    "version": 3
   },
   "file_extension": ".py",
   "mimetype": "text/x-python",
   "name": "python",
   "nbconvert_exporter": "python",
   "pygments_lexer": "ipython3",
   "version": "3.11.6"
  }
 },
 "nbformat": 4,
 "nbformat_minor": 5
}
