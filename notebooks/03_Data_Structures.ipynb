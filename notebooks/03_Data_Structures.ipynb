{
 "cells": [
  {
   "cell_type": "markdown",
   "metadata": {},
   "source": [
    "# Structures de Données en Python\n",
    "\n",
    "Ce notebook vous présente les principales structures de données en Python : listes, tuples, dictionnaires, ensembles et compréhensions de listes."
   ]
  },
  {
   "cell_type": "code",
   "execution_count": null,
   "metadata": {},
   "outputs": [],
   "source": [
    "# Listes et Tuples\n",
    "fruits = [\"pomme\", \"banane\", \"cerise\"]\n",
    "coordonnees = (10, 20)\n",
    "print(\"Premier fruit :\", fruits[0])\n",
    "print(\"Coordonnées :\", coordonnees)"
   ]
  },
  {
   "cell_type": "markdown",
   "metadata": {},
   "source": [
    "## Dictionnaires\n",
    "\n",
    "Les dictionnaires stockent des paires clé-valeur."
   ]
  },
  {
   "cell_type": "code",
   "execution_count": null,
   "metadata": {},
   "outputs": [],
   "source": [
    "etudiant = {\"nom\": \"Alice\", \"age\": 22, \"filiere\": \"Math\"}\n",
    "print(\"Nom de l'étudiante :\", etudiant[\"nom\"])"
   ]
  },
  {
   "cell_type": "markdown",
   "metadata": {},
   "source": [
    "## Ensembles\n",
    "\n",
    "Les ensembles ne conservent que des valeurs uniques."
   ]
  },
  {
   "cell_type": "code",
   "execution_count": null,
   "metadata": {},
   "outputs": [],
   "source": [
    "nombres = {1, 2, 3, 3}\n",
    "print(\"Ensemble :\", nombres)"
   ]
  },
  {
   "cell_type": "markdown",
   "metadata": {},
   "source": [
    "## Compréhensions de Listes\n",
    "\n",
    "Les compréhensions permettent de créer rapidement des listes à partir d'itérations."
   ]
  },
  {
   "cell_type": "code",
   "execution_count": null,
   "metadata": {},
   "outputs": [],
   "source": [
    "carres = [x**2 for x in range(10)]\n",
    "print(\"Liste des carrés :\", carres)"
   ]
  },
  {
   "cell_type": "markdown",
   "metadata": {},
   "source": [
    "## TP 3 – Exercice Pratique\n",
    "\n",
    "1. Créez une liste de 10 nombres entiers.\n",
    "2. Générez une nouvelle liste contenant les carrés de ces nombres.\n",
    "3. Créez un dictionnaire pour stocker les informations d'un étudiant (nom, âge, spécialité) et affichez la spécialité."
   ]
  },
  {
   "cell_type": "code",
   "execution_count": null,
   "metadata": {},
   "outputs": [],
   "source": [
    "# Liste de 10 nombres\n",
    "nombres = list(range(10))\n",
    "print(\"Nombres :\", nombres)\n",
    "\n",
    "# Liste des carrés\n",
    "carres = [x**2 for x in nombres]\n",
    "print(\"Carrés :\", carres)\n",
    "\n",
    "# Dictionnaire étudiant\n",
    "etudiant = {\"nom\": \"Bob\", \"age\": 21, \"specialite\": \"Informatique\"}\n",
    "print(\"Spécialité de l'étudiant :\", etudiant[\"specialite\"])"
   ]
  },
  {
   "cell_type": "markdown",
   "metadata": {},
   "source": [
    "## QCM\n",
    "\n",
    "1. Les tuples sont :\n",
    "   - A. Mutables\n",
    "   - B. Immutables\n",
    "   - C. Identiques aux listes\n",
    "   - D. Utilisés uniquement pour stocker des chaînes\n",
    "\n",
    "2. Que permet une compréhension de liste ?\n",
    "   - A. Itérer sur une séquence pour créer une nouvelle liste\n",
    "   - B. Trier une liste\n",
    "   - C. Convertir une liste en dictionnaire\n",
    "   - D. Supprimer des éléments d'une liste\n",
    "\n",
    "*Réponses attendues : 1 → B, 2 → A*"
   ]
  }
 ],
 "metadata": {
  "kernelspec": {
   "display_name": "Python 3",
   "language": "python",
   "name": "python3"
  },
  "language_info": {
   "name": "python",
   "version": "3.x"
  }
 },
 "nbformat": 4,
 "nbformat_minor": 5
}
