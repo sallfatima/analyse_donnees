{
 "cells": [
  {
   "cell_type": "markdown",
   "metadata": {},
   "source": [
    "# Analyse de Données avec Pandas, NumPy et Seaborn\n",
    "\n",
    "Dans ce notebook, vous allez réaliser une analyse complète en utilisant Pandas, NumPy et Seaborn. Vous apprendrez à effectuer des analyses univariées et bivariées, à visualiser vos données et à détecter/traiter les valeurs aberrantes."
   ]
  },
  {
   "cell_type": "code",
   "metadata": {},
   "execution_count": null,
   "outputs": [],
   "source": [
    "# Création d'un DataFrame d'exemple\n",
    "import pandas as pd\n",
    "import numpy as np\n",
    "import matplotlib.pyplot as plt\n",
    "import seaborn as sns\n",
    "\n",
    "data = {\n",
    "    'Age': [23, 45, 31, 35, 27, 40, 50, 22, 29, 33, 28, 47, 38, 31, 26],\n",
    "    'Salaire': [2500, 5500, 3200, 4000, 2800, 5000, 6000, 2300, 2700, 3500, 2600, 5400, 4100, 3600, 2900],\n",
    "    'Genre': ['Femme', 'Homme', 'Femme', 'Homme', 'Femme', 'Homme', 'Homme', 'Femme', 'Femme', 'Homme', 'Femme', 'Homme', 'Homme', 'Femme', 'Femme']\n",
    "}\n",
    "df = pd.DataFrame(data)\n",
    "print(\"Aperçu du DataFrame:\")\n",
    "print(df.head())"
   ]
  },
  {
   "cell_type": "markdown",
   "metadata": {},
   "source": [
    "## Analyse Univariée – Variables Quantitatives\n",
    "\n",
    "Nous allons obtenir des statistiques descriptives et visualiser la distribution des variables quantitatives."
   ]
  },
  {
   "cell_type": "code",
   "metadata": {},
   "execution_count": null,
   "outputs": [],
   "source": [
    "# Statistiques descriptives\n",
    "print(\"Statistiques pour 'Age':\")\n",
    "print(df['Age'].describe())\n",
    "\n",
    "print(\"\\nStatistiques pour 'Salaire':\")\n",
    "print(df['Salaire'].describe())"
   ]
  },
  {
   "cell_type": "code",
   "metadata": {},
   "execution_count": null,
   "outputs": [],
   "source": [
    "# Histogramme pour 'Age'\n",
    "plt.figure(figsize=(6,4))\n",
    "plt.hist(df['Age'], bins=5, edgecolor='black', color='skyblue')\n",
    "plt.xlabel('Age')\n",
    "plt.ylabel('Fréquence')\n",
    "plt.title('Distribution de l\\'Age')\n",
    "plt.show()"
   ]
  },
  {
   "cell_type": "code",
   "metadata": {},
   "execution_count": null,
   "outputs": [],
   "source": [
    "# Boxplot pour 'Salaire'\n",
    "plt.figure(figsize=(6,4))\n",
    "sns.boxplot(y=df['Salaire'], color='lightgreen')\n",
    "plt.ylabel('Salaire')\n",
    "plt.title('Boxplot du Salaire')\n",
    "plt.show()"
   ]
  },
  {
   "cell_type": "markdown",
   "metadata": {},
   "source": [
    "### Traitement des Valeurs Aberrantes\n",
    "\n",
    "Nous allons détecter les outliers dans la variable 'Salaire' en utilisant la méthode IQR et dans 'Age' avec la méthode de la cote Z."
   ]
  },
  {
   "cell_type": "code",
   "metadata": {},
   "execution_count": null,
   "outputs": [],
   "source": [
    "# Méthode IQR pour 'Salaire'\n",
    "Q1 = df['Salaire'].quantile(0.25)\n",
    "Q3 = df['Salaire'].quantile(0.75)\n",
    "IQR = Q3 - Q1\n",
    "limite_inf = Q1 - 1.5 * IQR\n",
    "limite_sup = Q3 + 1.5 * IQR\n",
    "print(f\"Limite inférieure: {limite_inf}, Limite supérieure: {limite_sup}\")\n",
    "\n",
    "df_salaire_filtre = df[(df['Salaire'] >= limite_inf) & (df['Salaire'] <= limite_sup)]\n",
    "print(\"DataFrame sans outliers sur 'Salaire':\")\n",
    "print(df_salaire_filtre)"
   ]
  },
  {
   "cell_type": "code",
   "metadata": {},
   "execution_count": null,
   "outputs": [],
   "source": [
    "# Méthode de la cote Z pour 'Age'\n",
    "z_scores = (df['Age'] - df['Age'].mean()) / df['Age'].std()\n",
    "print(\"Cotes Z pour 'Age':\")\n",
    "print(z_scores)\n",
    "\n",
    "df_age_filtre = df[abs(z_scores) <= 3]\n",
    "print(\"DataFrame sans outliers sur 'Age':\")\n",
    "print(df_age_filtre)"
   ]
  },
  {
   "cell_type": "markdown",
   "metadata": {},
   "source": [
    "## Analyse Univariée – Variables Qualitatives\n",
    "\n",
    "Nous allons compter les occurrences et visualiser la répartition de la variable 'Genre'."
   ]
  },
  {
   "cell_type": "code",
   "metadata": {},
   "execution_count": null,
   "outputs": [],
   "source": [
    "print(\"Répartition des genres:\")\n",
    "print(df['Genre'].value_counts())\n",
    "\n",
    "plt.figure(figsize=(5,4))\n",
    "sns.countplot(x='Genre', data=df, palette='pastel')\n",
    "plt.title('Répartition par Genre')\n",
    "plt.xlabel('Genre')\n",
    "plt.ylabel('Nombre')\n",
    "plt.show()"
   ]
  },
  {
   "cell_type": "markdown",
   "metadata": {},
   "source": [
    "## Analyse Bivariée\n",
    "\n",
    "Nous étudions maintenant les relations entre deux variables :\n",
    "- **Quantitative vs Quantitative :** Relation entre 'Age' et 'Salaire'\n",
    "- **Quantitative vs Qualitative :** Distribution de 'Salaire' selon 'Genre'\n",
    "- **Qualitative vs Qualitative :** Exemple avec la répartition des survivants par classe ('Pclass')"
   ]
  },
  {
   "cell_type": "code",
   "metadata": {},
   "execution_count": null,
   "outputs": [],
   "source": [
    "# Scatter plot : Age vs Fare, coloré par Sex\n",
    "plt.figure(figsize=(6,4))\n",
    "sns.scatterplot(x='Age', y='Salaire', hue='Genre', data=df, s=80)\n",
    "plt.xlabel('Age')\n",
    "plt.ylabel('Salaire')\n",
    "plt.title('Relation entre Age et Salaire par Genre')\n",
    "plt.show()\n",
    "\n",
    "# Boxplot : Salaire par Genre\n",
    "plt.figure(figsize=(6,4))\n",
    "sns.boxplot(x='Genre', y='Salaire', data=df, palette='Set2')\n",
    "plt.title('Distribution du Salaire par Genre')\n",
    "plt.xlabel('Genre')\n",
    "plt.ylabel('Salaire')\n",
    "plt.show()\n",
    "\n",
    "# Count plot : Nombre de survivants par Pclass (si disponible dans le dataset Titanic)\n",
    "# (Décommentez cette section si le dataset contient les colonnes 'Pclass' et 'Survived')\n",
    "# plt.figure(figsize=(6,4))\n",
    "# sns.countplot(x='Pclass', hue='Survived', data=titanic, palette='viridis')\n",
    "# plt.title('Survie selon la Classe')\n",
    "# plt.xlabel('Pclass')\n",
    "# plt.ylabel('Nombre d\\'Observations')\n",
    "# plt.show()"
   ]
  },
  {
   "cell_type": "markdown",
   "metadata": {},
   "source": [
    "## Rappel des Fonctions Clés\n",
    "\n",
    "Voici un résumé des fonctions essentielles que nous avons utilisées :\n",
    "\n",
    "**Pandas :**\n",
    "- `read_csv()`, `read_excel()`, `to_csv()`, `to_excel()`\n",
    "- `head()`, `tail()`, `info()`, `describe()`, `shape`, `columns`, `value_counts()`\n",
    "- `loc[]`, `iloc[]`, `query()`, `isin()`\n",
    "- `groupby()`, `pivot_table()`, `agg()`, `sort_values()`, `reset_index()`, `drop_duplicates()`\n",
    "- `isnull()`, `fillna()`, `dropna()`\n",
    "\n",
    "**NumPy :**\n",
    "- `np.array()`, `np.arange()`, `np.linspace()`\n",
    "- `np.mean()`, `np.median()`, `np.std()`, `np.var()`, `np.sum()`, `np.percentile()`\n",
    "- `np.reshape()`, `np.transpose()`\n",
    "\n",
    "**Seaborn :**\n",
    "- `sns.histplot()`, `sns.boxplot()`, `sns.scatterplot()`, `sns.countplot()`, `sns.heatmap()`\n",
    "- Personnalisation via palettes et options de formatage\n"
   ]
  },
  {
   "cell_type": "markdown",
   "metadata": {},
   "source": [
    "## TP 5 – Exercice Complet\n",
    "\n",
    "Réalisez une analyse complète sur un dataset (celui utilisé dans ce notebook ou un autre) en appliquant toutes les étapes vues :\n",
    "- Chargement et exploration\n",
    "- Analyse univariée et bivariée\n",
    "- Détection et traitement des valeurs aberrantes\n",
    "- Agrégation des données\n",
    "\n",
    "Commentez chaque étape et répondez aux questions posées."
   ]
  },
  {
   "cell_type": "markdown",
   "metadata": {},
   "source": [
    "## QCM\n",
    "\n",
    "1. Quelle méthode permet d'obtenir des statistiques descriptives ?\n",
    "   - A. head()\n",
    "   - B. describe()\n",
    "   - C. info()\n",
    "   - D. value_counts()\n",
    "\n",
    "2. Quel graphique est idéal pour visualiser la distribution d'une variable quantitative ?\n",
    "   - A. Histogramme\n",
    "   - B. Boxplot\n",
    "   - C. Scatter plot\n",
    "   - D. Barplot\n",
    "\n",
    "*Réponses attendues : 1 → B, 2 → A (ou B selon l'analyse)*"
   ]
  }
 ],
 "metadata": {
  "kernelspec": {
   "display_name": "Python 3",
   "language": "python",
   "name": "python3"
  },
  "language_info": {
   "name": "python",
   "version": "3.x"
  }
 },
 "nbformat": 4,
 "nbformat_minor": 5
}
