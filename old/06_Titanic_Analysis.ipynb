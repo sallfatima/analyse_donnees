{
 "cells": [
  {
   "cell_type": "markdown",
   "metadata": {},
   "source": [
    "# Analyse Pratique du Dataset Titanic\n",
    "\n",
    "Dans ce notebook, nous allons explorer le célèbre dataset Titanic. Vous réaliserez les étapes suivantes :\n",
    "- Importation et affichage du dataset\n",
    "- Nettoyage des données (traitement des valeurs manquantes)\n",
    "- Analyse exploratoire univariée et bivariée\n",
    "- Visualisations (histogrammes, boxplots, countplots, scatter plots)\n",
    "- Réponses à quelques questions de validation\n",
    "\n",
    "Ce notebook vous permettra de mettre en œuvre vos compétences en Data Science sur un jeu de données célèbre."
   ]
  },
  {
   "cell_type": "code",
   "metadata": {},
   "execution_count": null,
   "outputs": [],
   "source": [
    "# Importation des bibliothèques nécessaires\n",
    "import pandas as pd\n",
    "import numpy as np\n",
    "import matplotlib.pyplot as plt\n",
    "import seaborn as sns\n",
    "\n",
    "sns.set(style=\"whitegrid\")"
   ]
  },
  {
   "cell_type": "markdown",
   "metadata": {},
   "source": [
    "## 1. Importation du Dataset Titanic\n",
    "\n",
    "Nous allons charger le dataset Titanic (présumé être dans le dossier `data/` sous le nom `titanic.csv`)."
   ]
  },
  {
   "cell_type": "code",
   "metadata": {},
   "execution_count": null,
   "outputs": [],
   "source": [
    "# Chargement du dataset\n",
    "titanic = pd.read_csv('data/titanic.csv')\n",
    "print(\"Aperçu du dataset Titanic:\")\n",
    "print(titanic.head())"
   ]
  },
  {
   "cell_type": "markdown",
   "metadata": {},
   "source": [
    "## 2. Nettoyage des Données\n",
    "\n",
    "Vérifions les valeurs manquantes et effectuons un nettoyage simple.\n",
    "\n",
    "Nous allons :\n",
    "- Afficher les informations générales du DataFrame\n",
    "- Remplacer les valeurs manquantes de la colonne 'Age' par la médiane\n",
    "- Supprimer les lignes manquantes pour la colonne 'Embarked' (si nécessaire)"
   ]
  },
  {
   "cell_type": "code",
   "metadata": {},
   "execution_count": null,
   "outputs": [],
   "source": [
    "# Informations générales\n",
    "titanic.info()\n",
    "\n",
    "# Valeurs manquantes par colonne\n",
    "print(\"\\nValeurs manquantes par colonne:\")\n",
    "print(titanic.isnull().sum())\n",
    "\n",
    "# Remplissage des valeurs manquantes pour 'Age'\n",
    "titanic['Age'] = titanic['Age'].fillna(titanic['Age'].median())\n",
    "\n",
    "# Suppression des lignes avec valeurs manquantes dans 'Embarked'\n",
    "titanic = titanic.dropna(subset=['Embarked'])\n",
    "\n",
    "print(\"\\nAprès nettoyage:\")\n",
    "print(titanic.isnull().sum())"
   ]
  },
  {
   "cell_type": "markdown",
   "metadata": {},
   "source": [
    "## 3. Analyse Exploratoire Univariée\n",
    "\n",
    "### Variables Quantitatives\n",
    "\n",
    "Obtenez les statistiques descriptives et visualisez la distribution de 'Age' et 'Fare'."
   ]
  },
  {
   "cell_type": "code",
   "metadata": {},
   "execution_count": null,
   "outputs": [],
   "source": [
    "# Statistiques descriptives\n",
    "print(\"Statistiques pour 'Age':\")\n",
    "print(titanic['Age'].describe())\n",
    "\n",
    "print(\"\\nStatistiques pour 'Fare':\")\n",
    "print(titanic['Fare'].describe())"
   ]
  },
  {
   "cell_type": "code",
   "metadata": {},
   "execution_count": null,
   "outputs": [],
   "source": [
    "# Histogramme pour 'Age'\n",
    "plt.figure(figsize=(6,4))\n",
    "plt.hist(titanic['Age'], bins=20, edgecolor='black', color='skyblue')\n",
    "plt.xlabel('Age')\n",
    "plt.ylabel('Fréquence')\n",
    "plt.title('Distribution de l\\'Age')\n",
    "plt.show()\n",
    "\n",
    "# Boxplot pour 'Fare'\n",
    "plt.figure(figsize=(6,4))\n",
    "sns.boxplot(y=titanic['Fare'], color='lightgreen')\n",
    "plt.ylabel('Fare')\n",
    "plt.title('Boxplot du Fare')\n",
    "plt.show()"
   ]
  },
  {
   "cell_type": "markdown",
   "metadata": {},
   "source": [
    "### Variables Qualitatives\n",
    "\n",
    "Visualisez la répartition des variables 'Sex' et 'Embarked'."
   ]
  },
  {
   "cell_type": "code",
   "metadata": {},
   "execution_count": null,
   "outputs": [],
   "source": [
    "print(\"Répartition des sexes:\")\n",
    "print(titanic['Sex'].value_counts())\n",
    "\n",
    "plt.figure(figsize=(5,4))\n",
    "sns.countplot(x='Sex', data=titanic, palette='pastel')\n",
    "plt.title('Répartition par Sex')\n",
    "plt.xlabel('Sex')\n",
    "plt.ylabel('Nombre')\n",
    "plt.show()\n",
    "\n",
    "print(\"Répartition des embarquements:\")\n",
    "print(titanic['Embarked'].value_counts())\n",
    "\n",
    "plt.figure(figsize=(5,4))\n",
    "sns.countplot(x='Embarked', data=titanic, palette='pastel')\n",
    "plt.title('Répartition par Embarked')\n",
    "plt.xlabel('Embarked')\n",
    "plt.ylabel('Nombre')\n",
    "plt.show()"
   ]
  },
  {
   "cell_type": "markdown",
   "metadata": {},
   "source": [
    "## 4. Analyse Bivariée\n",
    "\n",
    "Examinez les relations entre deux variables :\n",
    "- **Quantitative vs Quantitative :** Relation entre 'Age' et 'Fare' (scatter plot)\n",
    "- **Quantitative vs Qualitative :** Distribution de 'Fare' selon 'Sex' (boxplot)\n",
    "- **Qualitative vs Qualitative :** Répartition des survivants par classe ('Pclass') si disponible"
   ]
  },
  {
   "cell_type": "code",
   "metadata": {},
   "execution_count": null,
   "outputs": [],
   "source": [
    "# Scatter plot : Age vs Fare, coloré par Sex\n",
    "plt.figure(figsize=(6,4))\n",
    "sns.scatterplot(x='Age', y='Fare', hue='Sex', data=titanic, s=80)\n",
    "plt.xlabel('Age')\n",
    "plt.ylabel('Fare')\n",
    "plt.title('Relation entre Age et Fare par Sex')\n",
    "plt.show()\n",
    "\n",
    "# Boxplot : Fare par Sex\n",
    "plt.figure(figsize=(6,4))\n",
    "sns.boxplot(x='Sex', y='Fare', data=titanic, palette='Set2')\n",
    "plt.title('Distribution de Fare par Sex')\n",
    "plt.xlabel('Sex')\n",
    "plt.ylabel('Fare')\n",
    "plt.show()\n",
    "\n",
    "# (Optionnel) Count plot : Nombre de survivants par Pclass\n",
    "# if 'Pclass' in titanic.columns and 'Survived' in titanic.columns:\n",
    "#     plt.figure(figsize=(6,4))\n",
    "#     sns.countplot(x='Pclass', hue='Survived', data=titanic, palette='viridis')\n",
    "#     plt.title('Survie selon la Classe')\n",
    "#     plt.xlabel('Pclass')\n",
    "#     plt.ylabel('Nombre d\\'Observations')\n",
    "#     plt.show()"
   ]
  },
  {
   "cell_type": "markdown",
   "metadata": {},
   "source": [
    "## 5. QCM\n",
    "\n",
    "1. Quel est l'avantage principal du nettoyage des données avant l'analyse ?\n",
    "   - A. Augmenter la taille du dataset\n",
    "   - B. Améliorer la qualité des modèles et des insights\n",
    "   - C. Créer plus de graphiques\n",
    "   - D. Aucun\n",
    "\n",
    "2. Quel graphique est idéal pour visualiser la distribution d'une variable quantitative ?\n",
    "   - A. Histogramme\n",
    "   - B. Boxplot\n",
    "   - C. Scatter plot\n",
    "   - D. Barplot\n",
    "\n",
    "*Réponses attendues : 1 → B, 2 → A (ou B selon le contexte)*"
   ]
  }
 ],
 "metadata": {
  "kernelspec": {
   "display_name": "Python 3",
   "language": "python",
   "name": "python3"
  },
  "language_info": {
   "name": "python",
   "version": "3.x"
  }
 },
 "nbformat": 4,
 "nbformat_minor": 5
}
