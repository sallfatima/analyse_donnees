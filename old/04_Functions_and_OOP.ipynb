{
 "cells": [
  {
   "cell_type": "markdown",
   "metadata": {},
   "source": [
    "# Fonctions et Programmation Orientée Objet (POO)\n",
    "\n",
    "Dans ce notebook, vous apprendrez à structurer votre code en utilisant des fonctions et à organiser vos programmes avec la Programmation Orientée Objet (POO)."
   ]
  },
  {
   "cell_type": "code",
   "execution_count": null,
   "metadata": {},
   "outputs": [],
   "source": [
    "# Exemple de fonction simple\n",
    "def saluer(nom):\n",
    "    return f\"Bonjour {nom}!\"\n",
    "\n",
    "print(saluer(\"Alice\"))"
   ]
  },
  {
   "cell_type": "markdown",
   "metadata": {},
   "source": [
    "## Utilisation d'un module standard\n",
    "\n",
    "Exemple d'utilisation du module `math` pour calculer une racine carrée."
   ]
  },
  {
   "cell_type": "code",
   "execution_count": null,
   "metadata": {},
   "outputs": [],
   "source": [
    "import math\n",
    "print(\"Racine carrée de 16 :\", math.sqrt(16))"
   ]
  },
  {
   "cell_type": "markdown",
   "metadata": {},
   "source": [
    "## Introduction à la Programmation Orientée Objet\n",
    "\n",
    "Création d'une classe `Etudiant` avec une méthode pour afficher les informations."
   ]
  },
  {
   "cell_type": "code",
   "execution_count": null,
   "metadata": {},
   "outputs": [],
   "source": [
    "class Etudiant:\n",
    "    def __init__(self, nom, age):\n",
    "        self.nom = nom\n",
    "        self.age = age\n",
    "    \n",
    "    def afficher_info(self):\n",
    "        print(f\"Nom: {self.nom}, Age: {self.age}\")\n",
    "\n",
    "e = Etudiant(\"Alice\", 22)\n",
    "e.afficher_info()"
   ]
  },
  {
   "cell_type": "markdown",
   "metadata": {},
   "source": [
    "## TP 4 – Exercice Pratique\n",
    "\n",
    "1. Écrivez une fonction `moyenne` qui calcule la moyenne d’une liste de nombres.\n",
    "2. Créez une classe `DataSet` qui s'initialise avec un nom et une liste de données, et qui possède une méthode `somme` renvoyant la somme des données."
   ]
  },
  {
   "cell_type": "code",
   "execution_count": null,
   "metadata": {},
   "outputs": [],
   "source": [
    "# Fonction pour calculer la moyenne\n",
    "def moyenne(liste):\n",
    "    return sum(liste) / len(liste) if liste else None\n",
    "\n",
    "exemple = [10, 20, 30, 40]\n",
    "print(\"Moyenne :\", moyenne(exemple))\n",
    "\n",
    "# Classe DataSet avec méthode somme\n",
    "class DataSet:\n",
    "    def __init__(self, nom, data):\n",
    "        self.nom = nom\n",
    "        self.data = data\n",
    "    \n",
    "    def somme(self):\n",
    "        return sum(self.data)\n",
    "\n",
    "ds = DataSet(\"Exemple\", [1, 2, 3, 4, 5])\n",
    "print(\"Somme des données :\", ds.somme())"
   ]
  },
  {
   "cell_type": "markdown",
   "metadata": {},
   "source": [
    "## QCM\n",
    "\n",
    "1. Comment définit-on une fonction en Python ?\n",
    "   - A. function nom():\n",
    "   - B. def nom():\n",
    "   - C. func nom():\n",
    "   - D. define nom()\n",
    "\n",
    "2. Pour importer la fonction sqrt du module math, on écrit :\n",
    "   - A. from math import sqrt\n",
    "   - B. import math.sqrt\n",
    "   - C. include math.sqrt\n",
    "   - D. using math.sqrt\n",
    "\n",
    "*Réponses attendues : 1 → B, 2 → A*"
   ]
  }
 ],
 "metadata": {
  "kernelspec": {
   "display_name": "Python 3",
   "language": "python",
   "name": "python3"
  },
  "language_info": {
   "name": "python",
   "version": "3.x"
  }
 },
 "nbformat": 4,
 "nbformat_minor": 5
}
