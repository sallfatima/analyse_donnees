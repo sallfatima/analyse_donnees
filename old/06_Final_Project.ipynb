{
 "cells": [
  {
   "cell_type": "markdown",
   "metadata": {},
   "source": [
    "# Projet Final – Analyse Complète d'un Dataset\n",
    "\n",
    "Dans ce notebook final, vous allez appliquer l'ensemble des compétences acquises pour réaliser un projet complet d'analyse de données. Vous suivrez ces étapes :\n",
    "- Chargement du dataset\n",
    "- Nettoyage des données (traitement des valeurs manquantes et aberrantes)\n",
    "- Analyse exploratoire (statistiques, visualisations, agrégations)\n",
    "- Interprétation et synthèse des résultats\n",
    "\n",
    "Ce projet vous permettra de mettre en œuvre vos compétences en Data Science de manière intégrée."
   ]
  },
  {
   "cell_type": "code",
   "metadata": {},
   "execution_count": null,
   "outputs": [],
   "source": [
    "# Chargement du dataset\n",
    "import pandas as pd\n",
    "import numpy as np\n",
    "import matplotlib.pyplot as plt\n",
    "import seaborn as sns\n",
    "\n",
    "sns.set(style=\"whitegrid\")\n",
    "\n",
    "# Exemple : lecture d'un fichier CSV (remplacez 'data/dataset.csv' par le chemin de votre fichier)\n",
    "df = pd.read_csv('data/dataset.csv')\n",
    "print(\"Aperçu du dataset :\")\n",
    "print(df.head())"
   ]
  },
  {
   "cell_type": "markdown",
   "metadata": {},
   "source": [
    "## Nettoyage des Données\n",
    "\n",
    "1. Traitement des valeurs manquantes avec `dropna()` et `fillna()`.\n",
    "2. Détection et traitement des outliers avec les méthodes IQR et cote Z.\n",
    "\n",
    "Commentez vos choix et expliquez chaque étape."
   ]
  },
  {
   "cell_type": "code",
   "metadata": {},
   "execution_count": null,
   "outputs": [],
   "source": [
    "# Traitement des valeurs manquantes\n",
    "df_clean = df.dropna()\n",
    "# Exemple d'imputation : remplissage de la colonne 'Fare' par la médiane\n",
    "# df['Fare'] = df['Fare'].fillna(df['Fare'].median())\n",
    "\n",
    "# Détection des outliers par méthode IQR sur la colonne 'Fare'\n",
    "Q1 = df_clean['Fare'].quantile(0.25)\n",
    "Q3 = df_clean['Fare'].quantile(0.75)\n",
    "IQR = Q3 - Q1\n",
    "lim_inf = Q1 - 1.5 * IQR\n",
    "lim_sup = Q3 + 1.5 * IQR\n",
    "df_no_outliers = df_clean[(df_clean['Fare'] >= lim_inf) & (df_clean['Fare'] <= lim_sup)]\n",
    "print(\"Dataset sans outliers :\")\n",
    "print(df_no_outliers.head())"
   ]
  },
  {
   "cell_type": "markdown",
   "metadata": {},
   "source": [
    "## Analyse Exploratoire et Visualisation\n",
    "\n",
    "1. Calculez les statistiques descriptives du dataset nettoyé.\n",
    "2. Créez des visualisations (histogrammes, boxplots, scatter plots) pour identifier les tendances et anomalies.\n",
    "3. Utilisez `groupby()` pour agréger des données par catégories et obtenir des insights.\n",
    "\n",
    "Commentez les résultats obtenus et vos observations."
   ]
  },
  {
   "cell_type": "code",
   "metadata": {},
   "execution_count": null,
   "outputs": [],
   "source": [
    "# Statistiques descriptives\n",
    "print(df_no_outliers.describe())\n",
    "\n",
    "# Histogramme pour la variable 'Fare'\n",
    "plt.figure(figsize=(6,4))\n",
    "plt.hist(df_no_outliers['Fare'], bins=10, edgecolor='black')\n",
    "plt.title('Histogramme du Fare')\n",
    "plt.xlabel('Fare')\n",
    "plt.ylabel('Fréquence')\n",
    "plt.show()\n",
    "\n",
    "# Scatter plot entre 'Age' et 'Fare'\n",
    "plt.figure(figsize=(6,4))\n",
    "sns.scatterplot(x='Age', y='Fare', data=df_no_outliers)\n",
    "plt.title('Relation entre Age et Fare')\n",
    "plt.xlabel('Age')\n",
    "plt.ylabel('Fare')\n",
    "plt.show()\n",
    "\n",
    "# Agrégation : Moyenne de Fare par Pclass (si la colonne existe)\n",
    "if 'Pclass' in df_no_outliers.columns:\n",
    "    grouped = df_no_outliers.groupby('Pclass')['Fare'].mean()\n",
    "    print(\"Moyenne de Fare par Pclass:\")\n",
    "    print(grouped)"
   ]
  },
  {
   "cell_type": "markdown",
   "metadata": {},
   "source": [
    "## Interprétation et Conclusion\n",
    "\n",
    "Rédigez une synthèse des résultats obtenus, discutez des insights majeurs et proposez des pistes d'analyse supplémentaires."
   ]
  },
  {
   "cell_type": "markdown",
   "metadata": {},
   "source": [
    "## TP Final\n",
    "\n",
    "Mettez en œuvre un projet complet d'analyse en appliquant toutes les étapes vues dans ce notebook. Documentez chaque étape, commentez vos choix et répondez aux questions du QCM ci-dessous."
   ]
  },
  {
   "cell_type": "markdown",
   "metadata": {},
   "source": [
    "## QCM Final\n",
    "\n",
    "1. Quel est l'avantage principal du nettoyage des données avant l'analyse ?\n",
    "   - A. Augmenter la taille du dataset\n",
    "   - B. Améliorer la qualité des modèles et des insights\n",
    "   - C. Réduire le temps de calcul\n",
    "   - D. Aucune importance\n",
    "\n",
    "2. Quel graphique est idéal pour visualiser la distribution d'une variable quantitative ?\n",
    "   - A. Histogramme\n",
    "   - B. Boxplot\n",
    "   - C. Scatter plot\n",
    "   - D. Barplot\n",
    "\n",
    "*Réponses attendues : 1 → B, 2 → A (ou B selon le contexte)*"
   ]
  }
 ],
 "metadata": {
  "kernelspec": {
   "display_name": "Python 3",
   "language": "python",
   "name": "python3"
  },
  "language_info": {
   "name": "python",
   "version": "3.x"
  }
 },
 "nbformat": 4,
 "nbformat_minor": 5
}
